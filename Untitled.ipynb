{
 "cells": [
  {
   "cell_type": "code",
   "execution_count": 1,
   "metadata": {
    "collapsed": false
   },
   "outputs": [
    {
     "ename": "ZeroDivisionError",
     "evalue": "integer division or modulo by zero",
     "output_type": "error",
     "traceback": [
      "\u001b[1;31m---------------------------------------------------------------------------\u001b[0m",
      "\u001b[1;31mZeroDivisionError\u001b[0m                         Traceback (most recent call last)",
      "\u001b[1;32m<ipython-input-1-e19d6e6ac7e1>\u001b[0m in \u001b[0;36m<module>\u001b[1;34m()\u001b[0m\n\u001b[1;32m----> 1\u001b[1;33m \u001b[1;32mprint\u001b[0m \u001b[1;36m1\u001b[0m\u001b[1;33m/\u001b[0m\u001b[1;36m0\u001b[0m\u001b[1;33m\u001b[0m\u001b[0m\n\u001b[0m",
      "\u001b[1;31mZeroDivisionError\u001b[0m: integer division or modulo by zero"
     ]
    }
   ],
   "source": [
    "\n",
    "print 1/0"
   ]
  },
  {
   "cell_type": "code",
   "execution_count": 2,
   "metadata": {
    "collapsed": false
   },
   "outputs": [
    {
     "name": "stdout",
     "output_type": "stream",
     "text": [
      "sdfdsf\n"
     ]
    }
   ],
   "source": [
    "print \"sdfdsf\""
   ]
  },
  {
   "cell_type": "code",
   "execution_count": 3,
   "metadata": {
    "collapsed": false
   },
   "outputs": [
    {
     "ename": "TypeError",
     "evalue": "unsupported operand type(s) for +: 'int' and 'str'",
     "output_type": "error",
     "traceback": [
      "\u001b[1;31m---------------------------------------------------------------------------\u001b[0m",
      "\u001b[1;31mTypeError\u001b[0m                                 Traceback (most recent call last)",
      "\u001b[1;32m<ipython-input-3-31ee63a1aaa4>\u001b[0m in \u001b[0;36m<module>\u001b[1;34m()\u001b[0m\n\u001b[0;32m      1\u001b[0m \u001b[0ma\u001b[0m\u001b[1;33m=\u001b[0m\u001b[1;36m10\u001b[0m\u001b[1;33m\u001b[0m\u001b[0m\n\u001b[0;32m      2\u001b[0m \u001b[0mb\u001b[0m\u001b[1;33m=\u001b[0m\u001b[1;34m\"dfsfds\"\u001b[0m\u001b[1;33m\u001b[0m\u001b[0m\n\u001b[1;32m----> 3\u001b[1;33m \u001b[1;32mprint\u001b[0m \u001b[0ma\u001b[0m\u001b[1;33m+\u001b[0m\u001b[0mb\u001b[0m\u001b[1;33m\u001b[0m\u001b[0m\n\u001b[0m",
      "\u001b[1;31mTypeError\u001b[0m: unsupported operand type(s) for +: 'int' and 'str'"
     ]
    }
   ],
   "source": [
    "a=10\n",
    "b=\"dfsfds\"\n",
    "print a+b"
   ]
  },
  {
   "cell_type": "code",
   "execution_count": 4,
   "metadata": {
    "collapsed": true
   },
   "outputs": [],
   "source": [
    "a=10"
   ]
  },
  {
   "cell_type": "code",
   "execution_count": 5,
   "metadata": {
    "collapsed": false
   },
   "outputs": [
    {
     "name": "stdout",
     "output_type": "stream",
     "text": [
      "10\n"
     ]
    }
   ],
   "source": [
    "print a"
   ]
  },
  {
   "cell_type": "code",
   "execution_count": 6,
   "metadata": {
    "collapsed": false
   },
   "outputs": [
    {
     "name": "stdout",
     "output_type": "stream",
     "text": [
      "210\n"
     ]
    }
   ],
   "source": [
    "print a+200"
   ]
  },
  {
   "cell_type": "code",
   "execution_count": 8,
   "metadata": {
    "collapsed": false
   },
   "outputs": [
    {
     "name": "stdout",
     "output_type": "stream",
     "text": [
      "1\n"
     ]
    }
   ],
   "source": [
    "print a%3"
   ]
  },
  {
   "cell_type": "code",
   "execution_count": 9,
   "metadata": {
    "collapsed": false
   },
   "outputs": [
    {
     "name": "stdout",
     "output_type": "stream",
     "text": [
      "st1\n",
      "st2\n",
      "st3\n",
      "st4\n"
     ]
    }
   ],
   "source": [
    "print \"st1\"\n",
    "print \"st2\"\n",
    "print \"st3\"\n",
    "print \"st4\""
   ]
  },
  {
   "cell_type": "code",
   "execution_count": null,
   "metadata": {
    "collapsed": true
   },
   "outputs": [],
   "source": [
    "print \"st1\"\n",
    "a=raw_input(\"Enter:\")\n",
    "# a==10\n",
    "print \"st2\"\n",
    "print \"st3\"\n",
    "\n",
    "print \"st4\""
   ]
  },
  {
   "cell_type": "code",
   "execution_count": 10,
   "metadata": {
    "collapsed": false
   },
   "outputs": [
    {
     "name": "stdout",
     "output_type": "stream",
     "text": [
      "st 0\n",
      "st 1\n",
      "st 2\n",
      "st 3\n",
      "st 4\n",
      "st 5\n",
      "st 6\n",
      "st 7\n",
      "st 8\n",
      "st 9\n"
     ]
    }
   ],
   "source": [
    "#looping for while\n",
    "for i in range(10):\n",
    "    print \"st\",i\n"
   ]
  },
  {
   "cell_type": "code",
   "execution_count": 11,
   "metadata": {
    "collapsed": false
   },
   "outputs": [
    {
     "name": "stdout",
     "output_type": "stream",
     "text": [
      "st1\n",
      "st2\n",
      "st3\n",
      "st4\n"
     ]
    }
   ],
   "source": [
    "print \"st1\"\n",
    "print \"st2\"\n",
    "print \"st3\"\n",
    "print \"st4\""
   ]
  },
  {
   "cell_type": "code",
   "execution_count": 12,
   "metadata": {
    "collapsed": false
   },
   "outputs": [
    {
     "name": "stdout",
     "output_type": "stream",
     "text": [
      "st1\n",
      "st2\n",
      "st3\n",
      "st4\n"
     ]
    }
   ],
   "source": [
    "#looping for while\n",
    "for i in range(1,5):\n",
    "    print \"st\"+str(i)\n"
   ]
  },
  {
   "cell_type": "code",
   "execution_count": 13,
   "metadata": {
    "collapsed": true
   },
   "outputs": [],
   "source": [
    "s=\"Ashok, Anil, Jagadish, rajesh\""
   ]
  },
  {
   "cell_type": "code",
   "execution_count": 14,
   "metadata": {
    "collapsed": false
   },
   "outputs": [
    {
     "data": {
      "text/plain": [
       "'A'"
      ]
     },
     "execution_count": 14,
     "metadata": {},
     "output_type": "execute_result"
    }
   ],
   "source": [
    "s[0]"
   ]
  },
  {
   "cell_type": "code",
   "execution_count": 15,
   "metadata": {
    "collapsed": false
   },
   "outputs": [
    {
     "name": "stdout",
     "output_type": "stream",
     "text": [
      "A\n",
      "s\n",
      "h\n",
      "o\n",
      "k\n",
      ",\n",
      " \n",
      "A\n",
      "n\n",
      "i\n",
      "l\n",
      ",\n",
      " \n",
      "J\n",
      "a\n",
      "g\n",
      "a\n",
      "d\n",
      "i\n",
      "s\n",
      "h\n",
      ",\n",
      " \n",
      "r\n",
      "a\n",
      "j\n",
      "e\n",
      "s\n",
      "h\n"
     ]
    }
   ],
   "source": [
    "for i in s:\n",
    "    print i"
   ]
  },
  {
   "cell_type": "code",
   "execution_count": 16,
   "metadata": {
    "collapsed": false
   },
   "outputs": [
    {
     "name": "stdout",
     "output_type": "stream",
     "text": [
      "st1 0\n",
      "st1 1\n",
      "st1 2\n",
      "st1 3\n",
      "st1 4\n",
      "st1 5\n",
      "st1 6\n",
      "st1 7\n",
      "st1 8\n",
      "st1 9\n"
     ]
    }
   ],
   "source": [
    "for i in range(10):\n",
    "    print \"st1\",i"
   ]
  },
  {
   "cell_type": "code",
   "execution_count": 17,
   "metadata": {
    "collapsed": false
   },
   "outputs": [
    {
     "name": "stdout",
     "output_type": "stream",
     "text": [
      "some starting statements\n",
      "a=10, b=20\n",
      "result= 30\n",
      "a=30, b=40\n",
      "result= 70\n",
      "a=50, b=60\n",
      "result= 110\n",
      "a=70, b=80\n",
      "result= 150\n"
     ]
    }
   ],
   "source": [
    "print \"some starting statements\"\n",
    "a=10\n",
    "b=20\n",
    "print \"a={0}, b={1}\".format(a,b)\n",
    "print \"result=\",a+b\n",
    "a=30\n",
    "b=40\n",
    "print \"a={0}, b={1}\".format(a,b)\n",
    "print \"result=\",a+b\n",
    "a=50\n",
    "b=60\n",
    "print \"a={0}, b={1}\".format(a,b)\n",
    "print \"result=\",a+b\n",
    "a=70 \n",
    "b=80\n",
    "print \"a={0}, b={1}\".format(a,b)\n",
    "print \"result=\",a+b\n",
    "\n",
    "\n",
    "\n"
   ]
  },
  {
   "cell_type": "code",
   "execution_count": 18,
   "metadata": {
    "collapsed": false
   },
   "outputs": [
    {
     "name": "stdout",
     "output_type": "stream",
     "text": [
      "some starting statements\n",
      "a=10, b=20\n",
      "result= 30\n",
      "a=30, b=40\n",
      "result= 70\n",
      "a=50, b=60\n",
      "result= 110\n",
      "a=70, b=80\n",
      "result= 150\n"
     ]
    }
   ],
   "source": [
    "print \"some starting statements\"\n",
    "for a,b in [(10,20),(30,40),(50,60),(70,80)]:\n",
    "    print \"a={0}, b={1}\".format(a,b)\n",
    "    print \"result=\",a+b"
   ]
  },
  {
   "cell_type": "code",
   "execution_count": 21,
   "metadata": {
    "collapsed": false
   },
   "outputs": [
    {
     "name": "stdout",
     "output_type": "stream",
     "text": [
      "some starting statements\n",
      "a=10, b=20\n",
      "summation= 30\n",
      "some more statements\n",
      "a=30, b=40\n",
      "summation= 70\n",
      "other statements\n",
      "a=50, b=60\n",
      "summation= 110\n",
      "few more statements\n",
      "a=70, b=80\n",
      "summation= 150\n"
     ]
    }
   ],
   "source": [
    "print \"some starting statements\"\n",
    "a=10\n",
    "b=20\n",
    "print \"a={0}, b={1}\".format(a,b)\n",
    "print \"summation=\",a+b\n",
    "print \"some more statements\"\n",
    "a=30\n",
    "b=40\n",
    "print \"a={0}, b={1}\".format(a,b)\n",
    "print \"summation=\",a+b\n",
    "print \"other statements\"\n",
    "a=50\n",
    "b=60\n",
    "print \"a={0}, b={1}\".format(a,b)\n",
    "print \"summation=\",a+b\n",
    "print \"few more statements\"\n",
    "a=70 \n",
    "b=80\n",
    "print \"a={0}, b={1}\".format(a,b)\n",
    "print \"summation=\",a+b\n",
    "\n",
    "\n",
    "\n"
   ]
  },
  {
   "cell_type": "code",
   "execution_count": 22,
   "metadata": {
    "collapsed": false
   },
   "outputs": [
    {
     "name": "stdout",
     "output_type": "stream",
     "text": [
      "some starting statements\n",
      "a=10, b=20\n",
      "summation= 30\n",
      "some more statements\n",
      "a=30, b=40\n",
      "summation= 70\n",
      "other statements\n",
      "a=50, b=60\n",
      "summation= 110\n",
      "few more statements\n",
      "a=70, b=80\n",
      "summation= 150\n"
     ]
    }
   ],
   "source": [
    "def fun(a,b):\n",
    "    print \"a={0}, b={1}\".format(a,b)\n",
    "    print \"summation=\",a+b\n",
    "    \n",
    "print \"some starting statements\"\n",
    "fun(10,20)\n",
    "print \"some more statements\"\n",
    "fun(30,40)\n",
    "print \"other statements\"\n",
    "fun(50,60)\n",
    "print \"few more statements\"\n",
    "fun(70,80)"
   ]
  },
  {
   "cell_type": "code",
   "execution_count": null,
   "metadata": {
    "collapsed": true
   },
   "outputs": [],
   "source": [
    "# 400 + 20=420\n",
    "a= raw_input(\"Enter some value:\")"
   ]
  },
  {
   "cell_type": "code",
   "execution_count": null,
   "metadata": {
    "collapsed": true
   },
   "outputs": [],
   "source": [
    "# 400+ 20+3=423\n",
    "def fun():\n",
    "    a=raw_input(\"Enter some value:\")\n",
    "    return a"
   ]
  },
  {
   "cell_type": "code",
   "execution_count": 23,
   "metadata": {
    "collapsed": false
   },
   "outputs": [
    {
     "name": "stdout",
     "output_type": "stream",
     "text": [
      "program started\n",
      "enter a value:10\n",
      "Enter b values:20\n",
      "30\n",
      "few other statements\n",
      "program ended\n"
     ]
    }
   ],
   "source": [
    "print \"program started\"\n",
    "a=raw_input(\"enter a value:\")\n",
    "b=raw_input(\"Enter b values:\")\n",
    "a=int(a)\n",
    "b=int(b)\n",
    "print a+b\n",
    "print \"few other statements\"\n",
    "print \"program ended\""
   ]
  },
  {
   "cell_type": "code",
   "execution_count": 24,
   "metadata": {
    "collapsed": false
   },
   "outputs": [
    {
     "name": "stdout",
     "output_type": "stream",
     "text": [
      "program started\n",
      "enter a value:asdfdasf\n",
      "Enter b values:sdfs\n"
     ]
    },
    {
     "ename": "ValueError",
     "evalue": "invalid literal for int() with base 10: 'asdfdasf'",
     "output_type": "error",
     "traceback": [
      "\u001b[1;31m---------------------------------------------------------------------------\u001b[0m",
      "\u001b[1;31mValueError\u001b[0m                                Traceback (most recent call last)",
      "\u001b[1;32m<ipython-input-24-f1a5b2870dac>\u001b[0m in \u001b[0;36m<module>\u001b[1;34m()\u001b[0m\n\u001b[0;32m      2\u001b[0m \u001b[0ma\u001b[0m\u001b[1;33m=\u001b[0m\u001b[0mraw_input\u001b[0m\u001b[1;33m(\u001b[0m\u001b[1;34m\"enter a value:\"\u001b[0m\u001b[1;33m)\u001b[0m\u001b[1;33m\u001b[0m\u001b[0m\n\u001b[0;32m      3\u001b[0m \u001b[0mb\u001b[0m\u001b[1;33m=\u001b[0m\u001b[0mraw_input\u001b[0m\u001b[1;33m(\u001b[0m\u001b[1;34m\"Enter b values:\"\u001b[0m\u001b[1;33m)\u001b[0m\u001b[1;33m\u001b[0m\u001b[0m\n\u001b[1;32m----> 4\u001b[1;33m \u001b[0ma\u001b[0m\u001b[1;33m=\u001b[0m\u001b[0mint\u001b[0m\u001b[1;33m(\u001b[0m\u001b[0ma\u001b[0m\u001b[1;33m)\u001b[0m\u001b[1;33m\u001b[0m\u001b[0m\n\u001b[0m\u001b[0;32m      5\u001b[0m \u001b[0mb\u001b[0m\u001b[1;33m=\u001b[0m\u001b[0mint\u001b[0m\u001b[1;33m(\u001b[0m\u001b[0mb\u001b[0m\u001b[1;33m)\u001b[0m\u001b[1;33m\u001b[0m\u001b[0m\n\u001b[0;32m      6\u001b[0m \u001b[1;32mprint\u001b[0m \u001b[0ma\u001b[0m\u001b[1;33m+\u001b[0m\u001b[0mb\u001b[0m\u001b[1;33m\u001b[0m\u001b[0m\n",
      "\u001b[1;31mValueError\u001b[0m: invalid literal for int() with base 10: 'asdfdasf'"
     ]
    }
   ],
   "source": [
    "print \"program started\"\n",
    "a=raw_input(\"enter a value:\")\n",
    "b=raw_input(\"Enter b values:\")\n",
    "a=int(a)\n",
    "b=int(b)\n",
    "print a+b\n",
    "print \"few other statements\"\n",
    "print \"program ended\""
   ]
  },
  {
   "cell_type": "code",
   "execution_count": null,
   "metadata": {
    "collapsed": true
   },
   "outputs": [],
   "source": []
  }
 ],
 "metadata": {
  "kernelspec": {
   "display_name": "Python 2",
   "language": "python",
   "name": "python2"
  },
  "language_info": {
   "codemirror_mode": {
    "name": "ipython",
    "version": 2
   },
   "file_extension": ".py",
   "mimetype": "text/x-python",
   "name": "python",
   "nbconvert_exporter": "python",
   "pygments_lexer": "ipython2",
   "version": "2.7.11"
  }
 },
 "nbformat": 4,
 "nbformat_minor": 0
}
