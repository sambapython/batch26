{
 "cells": [
  {
   "cell_type": "code",
   "execution_count": 1,
   "metadata": {
    "collapsed": false
   },
   "outputs": [
    {
     "name": "stdout",
     "output_type": "stream",
     "text": [
      "25\n",
      "1224\n",
      "[1, 2, 3, 10, 20, 30]\n"
     ]
    }
   ],
   "source": [
    "print 12+13\n",
    "print \"12\"+\"24\"\n",
    "print [1,2,3]+[10,20,30]"
   ]
  },
  {
   "cell_type": "code",
   "execution_count": 2,
   "metadata": {
    "collapsed": false
   },
   "outputs": [
    {
     "ename": "TypeError",
     "evalue": "unsupported operand type(s) for +: 'instance' and 'instance'",
     "output_type": "error",
     "traceback": [
      "\u001b[0;31m---------------------------------------------------------------------------\u001b[0m",
      "\u001b[0;31mTypeError\u001b[0m                                 Traceback (most recent call last)",
      "\u001b[0;32m<ipython-input-2-d89c26253b2c>\u001b[0m in \u001b[0;36m<module>\u001b[0;34m()\u001b[0m\n\u001b[1;32m      5\u001b[0m \u001b[0mo1\u001b[0m\u001b[0;34m=\u001b[0m\u001b[0mown_datatype\u001b[0m\u001b[0;34m(\u001b[0m\u001b[0;36m10\u001b[0m\u001b[0;34m,\u001b[0m\u001b[0;36m20\u001b[0m\u001b[0;34m)\u001b[0m\u001b[0;34m\u001b[0m\u001b[0m\n\u001b[1;32m      6\u001b[0m \u001b[0mo2\u001b[0m\u001b[0;34m=\u001b[0m\u001b[0mown_datatype\u001b[0m\u001b[0;34m(\u001b[0m\u001b[0;36m100\u001b[0m\u001b[0;34m,\u001b[0m\u001b[0;36m200\u001b[0m\u001b[0;34m)\u001b[0m\u001b[0;34m\u001b[0m\u001b[0m\n\u001b[0;32m----> 7\u001b[0;31m \u001b[0;32mprint\u001b[0m \u001b[0mo1\u001b[0m\u001b[0;34m+\u001b[0m\u001b[0mo2\u001b[0m\u001b[0;34m\u001b[0m\u001b[0m\n\u001b[0m",
      "\u001b[0;31mTypeError\u001b[0m: unsupported operand type(s) for +: 'instance' and 'instance'"
     ]
    }
   ],
   "source": [
    "class own_datatype:\n",
    "    def __init__(self,a,b):\n",
    "        self.a=a\n",
    "        self.b=b\n",
    "o1=own_datatype(10,20)\n",
    "o2=own_datatype(100,200)\n",
    "print o1+o2"
   ]
  },
  {
   "cell_type": "code",
   "execution_count": 3,
   "metadata": {
    "collapsed": false
   },
   "outputs": [
    {
     "name": "stdout",
     "output_type": "stream",
     "text": [
      "adition of two objects\n"
     ]
    }
   ],
   "source": [
    "class own_datatype:\n",
    "    def __init__(self,a,b):\n",
    "        self.a=a\n",
    "        self.b=b\n",
    "    def __add__(self1,self2):\n",
    "        return \"adition of two objects\"\n",
    "o1=own_datatype(10,20)\n",
    "o2=own_datatype(100,200)\n",
    "print o1+o2"
   ]
  },
  {
   "cell_type": "code",
   "execution_count": 4,
   "metadata": {
    "collapsed": false
   },
   "outputs": [
    {
     "name": "stdout",
     "output_type": "stream",
     "text": [
      "(110, 220)\n"
     ]
    }
   ],
   "source": [
    "class own_datatype:\n",
    "    def __init__(self,a,b):\n",
    "        self.a=a\n",
    "        self.b=b\n",
    "    def __add__(self1,self2):\n",
    "        return self1.a+self2.a,self1.b+self2.b\n",
    "o1=own_datatype(10,20)\n",
    "o2=own_datatype(100,200)\n",
    "print o1+o2"
   ]
  },
  {
   "cell_type": "code",
   "execution_count": 5,
   "metadata": {
    "collapsed": true
   },
   "outputs": [],
   "source": [
    "d1={1:2,3:4}\n",
    "d2={1:10,3:40}"
   ]
  },
  {
   "cell_type": "code",
   "execution_count": 6,
   "metadata": {
    "collapsed": false
   },
   "outputs": [
    {
     "ename": "TypeError",
     "evalue": "unsupported operand type(s) for +: 'dict' and 'dict'",
     "output_type": "error",
     "traceback": [
      "\u001b[0;31m---------------------------------------------------------------------------\u001b[0m",
      "\u001b[0;31mTypeError\u001b[0m                                 Traceback (most recent call last)",
      "\u001b[0;32m<ipython-input-6-26fa3537880d>\u001b[0m in \u001b[0;36m<module>\u001b[0;34m()\u001b[0m\n\u001b[0;32m----> 1\u001b[0;31m \u001b[0md1\u001b[0m\u001b[0;34m+\u001b[0m\u001b[0md2\u001b[0m\u001b[0;34m\u001b[0m\u001b[0m\n\u001b[0m",
      "\u001b[0;31mTypeError\u001b[0m: unsupported operand type(s) for +: 'dict' and 'dict'"
     ]
    }
   ],
   "source": [
    "d1+d2"
   ]
  },
  {
   "cell_type": "code",
   "execution_count": 7,
   "metadata": {
    "collapsed": true
   },
   "outputs": [],
   "source": [
    "class own_dict(dict):\n",
    "    pass\n",
    "o1=own_dict(d1)\n",
    "o2=own_dict(d2)"
   ]
  },
  {
   "cell_type": "code",
   "execution_count": 8,
   "metadata": {
    "collapsed": false
   },
   "outputs": [
    {
     "data": {
      "text/plain": [
       "[1, 3]"
      ]
     },
     "execution_count": 8,
     "metadata": {},
     "output_type": "execute_result"
    }
   ],
   "source": [
    "o1.keys()"
   ]
  },
  {
   "cell_type": "code",
   "execution_count": 9,
   "metadata": {
    "collapsed": false
   },
   "outputs": [
    {
     "ename": "TypeError",
     "evalue": "unsupported operand type(s) for +: 'own_dict' and 'own_dict'",
     "output_type": "error",
     "traceback": [
      "\u001b[0;31m---------------------------------------------------------------------------\u001b[0m",
      "\u001b[0;31mTypeError\u001b[0m                                 Traceback (most recent call last)",
      "\u001b[0;32m<ipython-input-9-37a7d68229e8>\u001b[0m in \u001b[0;36m<module>\u001b[0;34m()\u001b[0m\n\u001b[1;32m      3\u001b[0m \u001b[0mo1\u001b[0m\u001b[0;34m=\u001b[0m\u001b[0mown_dict\u001b[0m\u001b[0;34m(\u001b[0m\u001b[0md1\u001b[0m\u001b[0;34m)\u001b[0m\u001b[0;34m\u001b[0m\u001b[0m\n\u001b[1;32m      4\u001b[0m \u001b[0mo2\u001b[0m\u001b[0;34m=\u001b[0m\u001b[0mown_dict\u001b[0m\u001b[0;34m(\u001b[0m\u001b[0md2\u001b[0m\u001b[0;34m)\u001b[0m\u001b[0;34m\u001b[0m\u001b[0m\n\u001b[0;32m----> 5\u001b[0;31m \u001b[0;32mprint\u001b[0m \u001b[0mo1\u001b[0m\u001b[0;34m+\u001b[0m\u001b[0mo2\u001b[0m\u001b[0;34m\u001b[0m\u001b[0m\n\u001b[0m",
      "\u001b[0;31mTypeError\u001b[0m: unsupported operand type(s) for +: 'own_dict' and 'own_dict'"
     ]
    }
   ],
   "source": [
    "class own_dict(dict):\n",
    "    pass\n",
    "o1=own_dict(d1)\n",
    "o2=own_dict(d2)\n",
    "print o1+o2"
   ]
  },
  {
   "cell_type": "code",
   "execution_count": 10,
   "metadata": {
    "collapsed": false
   },
   "outputs": [
    {
     "name": "stdout",
     "output_type": "stream",
     "text": [
      "(12, 44)\n"
     ]
    }
   ],
   "source": [
    "class own_dict(dict):\n",
    "    def __add__(self1,self2):\n",
    "        return self1.get(1)+self2.get(1), self1.get(3)+self2.get(3)\n",
    "o1=own_dict(d1)\n",
    "o2=own_dict(d2)\n",
    "print o1+o2"
   ]
  },
  {
   "cell_type": "code",
   "execution_count": 11,
   "metadata": {
    "collapsed": false
   },
   "outputs": [
    {
     "name": "stdout",
     "output_type": "stream",
     "text": [
      "{1: 2, 3: 4}\n"
     ]
    }
   ],
   "source": [
    "class own_dict(dict):\n",
    "    def __add__(self1,self2):\n",
    "        return self1.get(1)+self2.get(1), self1.get(3)+self2.get(3)\n",
    "o1=own_dict(d1)\n",
    "o2=own_dict(d2)\n",
    "print o1"
   ]
  },
  {
   "cell_type": "code",
   "execution_count": 12,
   "metadata": {
    "collapsed": false
   },
   "outputs": [
    {
     "name": "stdout",
     "output_type": "stream",
     "text": [
      "(110, 220)\n"
     ]
    }
   ],
   "source": [
    "class own_datatype:\n",
    "    def __init__(self,a,b):\n",
    "        self.a=a\n",
    "        self.b=b\n",
    "    def __add__(self1,self2):\n",
    "        return self1.a+self2.a,self1.b+self2.b\n",
    "o1=own_datatype(10,20)\n",
    "o2=own_datatype(100,200)\n",
    "print o1+o2"
   ]
  },
  {
   "cell_type": "code",
   "execution_count": 13,
   "metadata": {
    "collapsed": false
   },
   "outputs": [
    {
     "name": "stdout",
     "output_type": "stream",
     "text": [
      "<__main__.own_datatype instance at 0x7feb540c8950>\n"
     ]
    }
   ],
   "source": [
    "print o1"
   ]
  },
  {
   "cell_type": "code",
   "execution_count": 18,
   "metadata": {
    "collapsed": false
   },
   "outputs": [
    {
     "name": "stdout",
     "output_type": "stream",
     "text": [
      "(10, 20)\n",
      "(110, 220)\n"
     ]
    }
   ],
   "source": [
    "class own_datatype:\n",
    "    def __init__(self,a,b):\n",
    "        self.a=a\n",
    "        self.b=b\n",
    "    def __str__(self):\n",
    "        return str((self.a,self.b))\n",
    "    def __add__(self1,self2):\n",
    "        return self1.a+self2.a,self1.b+self2.b\n",
    "o1=own_datatype(10,20)\n",
    "o2=own_datatype(100,200)\n",
    "print o1\n",
    "print o1+o2"
   ]
  },
  {
   "cell_type": "code",
   "execution_count": 19,
   "metadata": {
    "collapsed": false
   },
   "outputs": [
    {
     "name": "stdout",
     "output_type": "stream",
     "text": [
      "(23, 'e1', 1, 10)\n",
      "(34, 'e2', 2, 20)\n"
     ]
    }
   ],
   "source": [
    "class emp:\n",
    "    def __init__(self,id1,name,age,sal,incp):\n",
    "        self.id1=id1\n",
    "        self.name=name\n",
    "        self.age=age\n",
    "        self.sal=sal\n",
    "        self.incp=incp\n",
    "    def get(self):\n",
    "        return self.age,self.name,self.id1,self.incp\n",
    "e1=emp(1,\"e1\",23,45,10)\n",
    "e2=emp(2,\"e2\",34,78,20)\n",
    "print e1.get()\n",
    "print e2.get()"
   ]
  },
  {
   "cell_type": "code",
   "execution_count": 20,
   "metadata": {
    "collapsed": false
   },
   "outputs": [
    {
     "name": "stdout",
     "output_type": "stream",
     "text": [
      "(23, 'e1', 1, 30)\n",
      "(34, 'e2', 2, 10)\n"
     ]
    }
   ],
   "source": [
    "class emp:\n",
    "    def __init__(self,id1,name,age,sal,incp):\n",
    "        self.id1=id1\n",
    "        self.name=name\n",
    "        self.age=age\n",
    "        self.sal=sal\n",
    "        self.incp=incp\n",
    "    def get(self):\n",
    "        return self.age,self.name,self.id1,self.incp\n",
    "e1=emp(1,\"e1\",23,45,10)\n",
    "e2=emp(2,\"e2\",34,78,20)\n",
    "e1.incp=30\n",
    "e2.incp=10\n",
    "print e1.get()\n",
    "print e2.get()"
   ]
  },
  {
   "cell_type": "code",
   "execution_count": 21,
   "metadata": {
    "collapsed": false
   },
   "outputs": [
    {
     "name": "stdout",
     "output_type": "stream",
     "text": [
      "(23, 'e1', 1, 10)\n",
      "(34, 'e2', 2, 20)\n"
     ]
    }
   ],
   "source": [
    "class emp:\n",
    "    def __init__(self,id1,name,age,sal,incp):\n",
    "        self.id1=id1\n",
    "        self.name=name\n",
    "        self.age=age\n",
    "        self.sal=sal\n",
    "        self.__incp=incp\n",
    "    def get(self):\n",
    "        return self.age,self.name,self.id1,self.__incp\n",
    "e1=emp(1,\"e1\",23,45,10)\n",
    "e2=emp(2,\"e2\",34,78,20)\n",
    "\n",
    "print e1.get()\n",
    "print e2.get()"
   ]
  },
  {
   "cell_type": "code",
   "execution_count": 22,
   "metadata": {
    "collapsed": false
   },
   "outputs": [
    {
     "name": "stdout",
     "output_type": "stream",
     "text": [
      "(23, 'e1', 1, 10)\n",
      "(34, 'e2', 2, 20)\n"
     ]
    }
   ],
   "source": [
    "class emp:\n",
    "    def __init__(self,id1,name,age,sal,incp):\n",
    "        self.id1=id1\n",
    "        self.name=name\n",
    "        self.age=age\n",
    "        self.sal=sal\n",
    "        self.__incp=incp\n",
    "    def get(self):\n",
    "        return self.age,self.name,self.id1,self.__incp\n",
    "e1=emp(1,\"e1\",23,45,10)\n",
    "e2=emp(2,\"e2\",34,78,20)\n",
    "e1.incp=30\n",
    "e2.incp=10\n",
    "print e1.get()\n",
    "print e2.get()"
   ]
  },
  {
   "cell_type": "code",
   "execution_count": 26,
   "metadata": {
    "collapsed": false
   },
   "outputs": [
    {
     "name": "stdout",
     "output_type": "stream",
     "text": [
      "(10, 20)\n"
     ]
    },
    {
     "data": {
      "text/plain": [
       "(10, 20)"
      ]
     },
     "execution_count": 26,
     "metadata": {},
     "output_type": "execute_result"
    }
   ],
   "source": [
    "class c1(object):\n",
    "    def __new__(cls,a,b):\n",
    "        return super(c1,cls).__new__(cls)\n",
    "        \n",
    "    def __init__(self,a,b):\n",
    "        self.a=a\n",
    "        self.b=b\n",
    "        \n",
    "    def get(self):\n",
    "        return self.a,self.b\n",
    "o1=c1(10,20)\n",
    "print o1.get()"
   ]
  },
  {
   "cell_type": "code",
   "execution_count": 28,
   "metadata": {
    "collapsed": false
   },
   "outputs": [
    {
     "name": "stdout",
     "output_type": "stream",
     "text": [
      "None\n"
     ]
    },
    {
     "ename": "AttributeError",
     "evalue": "'NoneType' object has no attribute 'get'",
     "output_type": "error",
     "traceback": [
      "\u001b[0;31m---------------------------------------------------------------------------\u001b[0m",
      "\u001b[0;31mAttributeError\u001b[0m                            Traceback (most recent call last)",
      "\u001b[0;32m<ipython-input-28-f858a63b2378>\u001b[0m in \u001b[0;36m<module>\u001b[0;34m()\u001b[0m\n\u001b[1;32m     12\u001b[0m \u001b[0mo1\u001b[0m\u001b[0;34m=\u001b[0m\u001b[0mc1\u001b[0m\u001b[0;34m(\u001b[0m\u001b[0;36m10\u001b[0m\u001b[0;34m,\u001b[0m\u001b[0;36m20\u001b[0m\u001b[0;34m)\u001b[0m\u001b[0;34m\u001b[0m\u001b[0m\n\u001b[1;32m     13\u001b[0m \u001b[0;32mprint\u001b[0m \u001b[0mo1\u001b[0m\u001b[0;34m\u001b[0m\u001b[0m\n\u001b[0;32m---> 14\u001b[0;31m \u001b[0;32mprint\u001b[0m \u001b[0mo1\u001b[0m\u001b[0;34m.\u001b[0m\u001b[0mget\u001b[0m\u001b[0;34m(\u001b[0m\u001b[0;34m)\u001b[0m\u001b[0;34m\u001b[0m\u001b[0m\n\u001b[0m",
      "\u001b[0;31mAttributeError\u001b[0m: 'NoneType' object has no attribute 'get'"
     ]
    }
   ],
   "source": [
    "class c1(object):\n",
    "    def __new__(cls,a,b):\n",
    "        return None\n",
    "        #super(c1,cls).__new__(cls)\n",
    "        \n",
    "    def __init__(self,a,b):\n",
    "        self.a=a\n",
    "        self.b=b\n",
    "        \n",
    "    def get(self):\n",
    "        return self.a,self.b\n",
    "o1=c1(10,20)\n",
    "print o1\n",
    "print o1.get()"
   ]
  },
  {
   "cell_type": "code",
   "execution_count": null,
   "metadata": {
    "collapsed": true
   },
   "outputs": [],
   "source": []
  }
 ],
 "metadata": {
  "kernelspec": {
   "display_name": "Python 2",
   "language": "python",
   "name": "python2"
  },
  "language_info": {
   "codemirror_mode": {
    "name": "ipython",
    "version": 2
   },
   "file_extension": ".py",
   "mimetype": "text/x-python",
   "name": "python",
   "nbconvert_exporter": "python",
   "pygments_lexer": "ipython2",
   "version": "2.7.13"
  }
 },
 "nbformat": 4,
 "nbformat_minor": 2
}
