{
 "cells": [
  {
   "cell_type": "code",
   "execution_count": 1,
   "metadata": {
    "collapsed": true
   },
   "outputs": [],
   "source": [
    "# inhertitance, encapsulation, polymorphism, abstraction"
   ]
  },
  {
   "cell_type": "code",
   "execution_count": 3,
   "metadata": {
    "collapsed": true
   },
   "outputs": [],
   "source": [
    "def fun(a,b):\n",
    "    \n",
    "    return a+b\n",
    "def fun1(a,b):\n",
    "    \n",
    "    return a*b"
   ]
  },
  {
   "cell_type": "code",
   "execution_count": 4,
   "metadata": {
    "collapsed": false
   },
   "outputs": [
    {
     "name": "stdout",
     "output_type": "stream",
     "text": [
      "30\n",
      "200\n"
     ]
    }
   ],
   "source": [
    "print fun(10,20)\n",
    "print fun1(10,20)"
   ]
  },
  {
   "cell_type": "code",
   "execution_count": 5,
   "metadata": {
    "collapsed": true
   },
   "outputs": [],
   "source": [
    "class c1:\n",
    "    a=10\n",
    "    b=20\n",
    "    def fun(*args):\n",
    "        print \"dsf\"\n",
    "    def fun1(*args):\n",
    "        print \"sdfsdf\"\n",
    "        "
   ]
  },
  {
   "cell_type": "code",
   "execution_count": 7,
   "metadata": {
    "collapsed": false
   },
   "outputs": [
    {
     "name": "stdout",
     "output_type": "stream",
     "text": [
      "(<__main__.c1 instance at 0x7f69e8171170>,)\n"
     ]
    }
   ],
   "source": [
    "class c1:\n",
    "    def fun(*args):\n",
    "        print args\n",
    "o1=c1()\n",
    "c1.fun(o1)"
   ]
  },
  {
   "cell_type": "code",
   "execution_count": 8,
   "metadata": {
    "collapsed": false
   },
   "outputs": [
    {
     "name": "stdout",
     "output_type": "stream",
     "text": [
      "(<__main__.c1 instance at 0x7f69e8171290>,)\n",
      "(<__main__.c1 instance at 0x7f69e8171290>,)\n"
     ]
    }
   ],
   "source": [
    "class c1:\n",
    "    def fun(*args):\n",
    "        print args\n",
    "o1=c1()\n",
    "c1.fun(o1)\n",
    "o1.fun()"
   ]
  },
  {
   "cell_type": "code",
   "execution_count": 9,
   "metadata": {
    "collapsed": false
   },
   "outputs": [
    {
     "ename": "NameError",
     "evalue": "global name 'a' is not defined",
     "output_type": "error",
     "traceback": [
      "\u001b[0;31m---------------------------------------------------------------------------\u001b[0m",
      "\u001b[0;31mNameError\u001b[0m                                 Traceback (most recent call last)",
      "\u001b[0;32m<ipython-input-9-c6c5b9145660>\u001b[0m in \u001b[0;36m<module>\u001b[0;34m()\u001b[0m\n\u001b[1;32m      6\u001b[0m         \u001b[0;32mprint\u001b[0m \u001b[0margs\u001b[0m\u001b[0;34m\u001b[0m\u001b[0m\n\u001b[1;32m      7\u001b[0m \u001b[0mo1\u001b[0m\u001b[0;34m=\u001b[0m\u001b[0mc1\u001b[0m\u001b[0;34m(\u001b[0m\u001b[0;34m)\u001b[0m\u001b[0;34m\u001b[0m\u001b[0m\n\u001b[0;32m----> 8\u001b[0;31m \u001b[0mc1\u001b[0m\u001b[0;34m.\u001b[0m\u001b[0mfun\u001b[0m\u001b[0;34m(\u001b[0m\u001b[0mo1\u001b[0m\u001b[0;34m)\u001b[0m\u001b[0;34m\u001b[0m\u001b[0m\n\u001b[0m\u001b[1;32m      9\u001b[0m \u001b[0mo1\u001b[0m\u001b[0;34m.\u001b[0m\u001b[0mfun\u001b[0m\u001b[0;34m(\u001b[0m\u001b[0;34m)\u001b[0m\u001b[0;34m\u001b[0m\u001b[0m\n",
      "\u001b[0;32m<ipython-input-9-c6c5b9145660>\u001b[0m in \u001b[0;36mfun\u001b[0;34m(*args)\u001b[0m\n\u001b[1;32m      3\u001b[0m     \u001b[0mb\u001b[0m\u001b[0;34m=\u001b[0m\u001b[0;36m20\u001b[0m\u001b[0;34m\u001b[0m\u001b[0m\n\u001b[1;32m      4\u001b[0m     \u001b[0;32mdef\u001b[0m \u001b[0mfun\u001b[0m\u001b[0;34m(\u001b[0m\u001b[0;34m*\u001b[0m\u001b[0margs\u001b[0m\u001b[0;34m)\u001b[0m\u001b[0;34m:\u001b[0m\u001b[0;34m\u001b[0m\u001b[0m\n\u001b[0;32m----> 5\u001b[0;31m         \u001b[0;32mprint\u001b[0m \u001b[0ma\u001b[0m\u001b[0;34m,\u001b[0m\u001b[0mb\u001b[0m\u001b[0;34m\u001b[0m\u001b[0m\n\u001b[0m\u001b[1;32m      6\u001b[0m         \u001b[0;32mprint\u001b[0m \u001b[0margs\u001b[0m\u001b[0;34m\u001b[0m\u001b[0m\n\u001b[1;32m      7\u001b[0m \u001b[0mo1\u001b[0m\u001b[0;34m=\u001b[0m\u001b[0mc1\u001b[0m\u001b[0;34m(\u001b[0m\u001b[0;34m)\u001b[0m\u001b[0;34m\u001b[0m\u001b[0m\n",
      "\u001b[0;31mNameError\u001b[0m: global name 'a' is not defined"
     ]
    }
   ],
   "source": [
    "class c1:\n",
    "    a=10\n",
    "    b=20\n",
    "    def fun(*args):\n",
    "        print a,b\n",
    "        print args\n",
    "o1=c1()\n",
    "c1.fun(o1)\n",
    "o1.fun()"
   ]
  },
  {
   "cell_type": "code",
   "execution_count": 10,
   "metadata": {
    "collapsed": false
   },
   "outputs": [
    {
     "name": "stdout",
     "output_type": "stream",
     "text": [
      "(<__main__.c1 instance at 0x7f69e81717a0>, 100, 200)\n",
      "(<__main__.c1 instance at 0x7f69e81717a0>, 1000, 2000)\n"
     ]
    }
   ],
   "source": [
    "class c1:\n",
    "    a=10\n",
    "    b=20\n",
    "    def fun(*args):\n",
    "        #print a,b\n",
    "        print args\n",
    "o1=c1()\n",
    "c1.fun(o1,100,200)\n",
    "o1.fun(1000,2000)"
   ]
  },
  {
   "cell_type": "code",
   "execution_count": 11,
   "metadata": {
    "collapsed": false
   },
   "outputs": [
    {
     "ename": "NameError",
     "evalue": "global name 'get_data' is not defined",
     "output_type": "error",
     "traceback": [
      "\u001b[0;31m---------------------------------------------------------------------------\u001b[0m",
      "\u001b[0;31mNameError\u001b[0m                                 Traceback (most recent call last)",
      "\u001b[0;32m<ipython-input-11-d917f074cbb4>\u001b[0m in \u001b[0;36m<module>\u001b[0;34m()\u001b[0m\n\u001b[1;32m      9\u001b[0m         \u001b[0;32mprint\u001b[0m \u001b[0margs\u001b[0m\u001b[0;34m\u001b[0m\u001b[0m\n\u001b[1;32m     10\u001b[0m \u001b[0mo1\u001b[0m\u001b[0;34m=\u001b[0m\u001b[0mc1\u001b[0m\u001b[0;34m(\u001b[0m\u001b[0;34m)\u001b[0m\u001b[0;34m\u001b[0m\u001b[0m\n\u001b[0;32m---> 11\u001b[0;31m \u001b[0mc1\u001b[0m\u001b[0;34m.\u001b[0m\u001b[0mfun\u001b[0m\u001b[0;34m(\u001b[0m\u001b[0mo1\u001b[0m\u001b[0;34m,\u001b[0m\u001b[0;36m100\u001b[0m\u001b[0;34m,\u001b[0m\u001b[0;36m200\u001b[0m\u001b[0;34m)\u001b[0m\u001b[0;34m\u001b[0m\u001b[0m\n\u001b[0m\u001b[1;32m     12\u001b[0m \u001b[0mo1\u001b[0m\u001b[0;34m.\u001b[0m\u001b[0mfun\u001b[0m\u001b[0;34m(\u001b[0m\u001b[0;36m1000\u001b[0m\u001b[0;34m,\u001b[0m\u001b[0;36m2000\u001b[0m\u001b[0;34m)\u001b[0m\u001b[0;34m\u001b[0m\u001b[0m\n",
      "\u001b[0;32m<ipython-input-11-d917f074cbb4>\u001b[0m in \u001b[0;36mfun\u001b[0;34m(*args)\u001b[0m\n\u001b[1;32m      5\u001b[0m         \u001b[0;32mprint\u001b[0m \u001b[0margs\u001b[0m\u001b[0;34m\u001b[0m\u001b[0m\n\u001b[1;32m      6\u001b[0m     \u001b[0;32mdef\u001b[0m \u001b[0mfun\u001b[0m\u001b[0;34m(\u001b[0m\u001b[0;34m*\u001b[0m\u001b[0margs\u001b[0m\u001b[0;34m)\u001b[0m\u001b[0;34m:\u001b[0m\u001b[0;34m\u001b[0m\u001b[0m\n\u001b[0;32m----> 7\u001b[0;31m         \u001b[0mget_data\u001b[0m\u001b[0;34m(\u001b[0m\u001b[0;34m)\u001b[0m\u001b[0;34m\u001b[0m\u001b[0m\n\u001b[0m\u001b[1;32m      8\u001b[0m         \u001b[0;31m#print a,b\u001b[0m\u001b[0;34m\u001b[0m\u001b[0;34m\u001b[0m\u001b[0m\n\u001b[1;32m      9\u001b[0m         \u001b[0;32mprint\u001b[0m \u001b[0margs\u001b[0m\u001b[0;34m\u001b[0m\u001b[0m\n",
      "\u001b[0;31mNameError\u001b[0m: global name 'get_data' is not defined"
     ]
    }
   ],
   "source": [
    "class c1:\n",
    "    a=10\n",
    "    b=20\n",
    "    def get_data(*args):\n",
    "        print args\n",
    "    def fun(*args):\n",
    "        get_data()\n",
    "        #print a,b\n",
    "        print args\n",
    "o1=c1()\n",
    "c1.fun(o1,100,200)\n",
    "o1.fun(1000,2000)"
   ]
  },
  {
   "cell_type": "code",
   "execution_count": 12,
   "metadata": {
    "collapsed": false
   },
   "outputs": [
    {
     "name": "stdout",
     "output_type": "stream",
     "text": [
      "(<__main__.c1 instance at 0x7f69e8171440>, 100, 200)\n",
      "(<__main__.c1 instance at 0x7f69e8171440>, 1000, 2000)\n"
     ]
    }
   ],
   "source": [
    "class c1:\n",
    "    a=10\n",
    "    b=20\n",
    "    def get_data(*args):\n",
    "        print args\n",
    "    def fun(*args):\n",
    "        #et_data()\n",
    "        #print a,b\n",
    "        print args\n",
    "o1=c1()\n",
    "c1.fun(o1,100,200)\n",
    "o1.fun(1000,2000)"
   ]
  },
  {
   "cell_type": "code",
   "execution_count": 13,
   "metadata": {
    "collapsed": false
   },
   "outputs": [
    {
     "name": "stdout",
     "output_type": "stream",
     "text": [
      "<__main__.c1 instance at 0x7f69e8171ea8>\n",
      "10\n",
      "20\n",
      "(<__main__.c1 instance at 0x7f69e8171ea8>,)\n",
      "(<__main__.c1 instance at 0x7f69e8171ea8>, 100, 200)\n",
      "<__main__.c1 instance at 0x7f69e8171ea8>\n",
      "10\n",
      "20\n",
      "(<__main__.c1 instance at 0x7f69e8171ea8>,)\n",
      "(<__main__.c1 instance at 0x7f69e8171ea8>, 1000, 2000)\n"
     ]
    }
   ],
   "source": [
    "class c1:\n",
    "    a=10\n",
    "    b=20\n",
    "    def get_data(*args):\n",
    "        print args\n",
    "    def fun(*args):\n",
    "        print args[0]\n",
    "        print args[0].a\n",
    "        print args[0].b\n",
    "        args[0].get_data()\n",
    "        #et_data()\n",
    "        #print a,b\n",
    "        print args\n",
    "o1=c1()\n",
    "c1.fun(o1,100,200)\n",
    "o1.fun(1000,2000)"
   ]
  },
  {
   "cell_type": "code",
   "execution_count": 14,
   "metadata": {
    "collapsed": true
   },
   "outputs": [],
   "source": [
    "class c1:\n",
    "    a=10\n",
    "    b=20\n",
    "    def get_data(*args):\n",
    "        print args\n",
    "    def fun(*args):\n",
    "        print args[0]\n",
    "        print args[0].a\n",
    "        print args[0].b\n",
    "        args[0].get_data()\n",
    "        #et_data()\n",
    "        #print a,b\n",
    "        print args"
   ]
  },
  {
   "cell_type": "code",
   "execution_count": 15,
   "metadata": {
    "collapsed": true
   },
   "outputs": [],
   "source": [
    "def fun():\n",
    "    print \"sdfsdfs\""
   ]
  },
  {
   "cell_type": "code",
   "execution_count": 17,
   "metadata": {
    "collapsed": false
   },
   "outputs": [
    {
     "data": {
      "text/plain": [
       "10"
      ]
     },
     "execution_count": 17,
     "metadata": {},
     "output_type": "execute_result"
    }
   ],
   "source": [
    "class c1:\n",
    "    a=10\n",
    "    b=20\n",
    "    def get_data(*args):\n",
    "        print args\n",
    "    def fun(*args):\n",
    "        print args[0]\n",
    "        print args[0].a\n",
    "        print args[0].b\n",
    "        args[0].get_data()\n",
    "        #et_data()\n",
    "        #print a,b\n",
    "        print args\n"
   ]
  },
  {
   "cell_type": "code",
   "execution_count": 18,
   "metadata": {
    "collapsed": false
   },
   "outputs": [
    {
     "name": "stdout",
     "output_type": "stream",
     "text": [
      "10\n"
     ]
    }
   ],
   "source": [
    "a=10\n",
    "b=20\n",
    "class c1:\n",
    "    \n",
    "    def get_data(*args):\n",
    "        print args\n",
    "    def fun(*args):\n",
    "        print args[0]\n",
    "        print args[0].a\n",
    "        print args[0].b\n",
    "        args[0].get_data()\n",
    "        #et_data()\n",
    "        #print a,b\n",
    "        print args\n",
    "print a"
   ]
  },
  {
   "cell_type": "code",
   "execution_count": 19,
   "metadata": {
    "collapsed": false
   },
   "outputs": [
    {
     "name": "stdout",
     "output_type": "stream",
     "text": [
      "10\n"
     ]
    }
   ],
   "source": [
    "class c1:\n",
    "    a=10\n",
    "    b=20\n",
    "    def get_data(*args):\n",
    "        print args\n",
    "    def fun(*args):\n",
    "        print args[0]\n",
    "        print args[0].a\n",
    "        print args[0].b\n",
    "        args[0].get_data()\n",
    "        #et_data()\n",
    "        #print a,b\n",
    "        print args\n",
    "print c1.a"
   ]
  },
  {
   "cell_type": "code",
   "execution_count": 20,
   "metadata": {
    "collapsed": false
   },
   "outputs": [
    {
     "ename": "TypeError",
     "evalue": "unbound method fun() must be called with c1 instance as first argument (got int instance instead)",
     "output_type": "error",
     "traceback": [
      "\u001b[0;31m---------------------------------------------------------------------------\u001b[0m",
      "\u001b[0;31mTypeError\u001b[0m                                 Traceback (most recent call last)",
      "\u001b[0;32m<ipython-input-20-8f96efb2d139>\u001b[0m in \u001b[0;36m<module>\u001b[0;34m()\u001b[0m\n\u001b[0;32m----> 1\u001b[0;31m \u001b[0mc1\u001b[0m\u001b[0;34m.\u001b[0m\u001b[0mfun\u001b[0m\u001b[0;34m(\u001b[0m\u001b[0;36m10\u001b[0m\u001b[0;34m,\u001b[0m\u001b[0;36m20\u001b[0m\u001b[0;34m)\u001b[0m\u001b[0;34m\u001b[0m\u001b[0m\n\u001b[0m",
      "\u001b[0;31mTypeError\u001b[0m: unbound method fun() must be called with c1 instance as first argument (got int instance instead)"
     ]
    }
   ],
   "source": [
    "c1.fun(10,20)"
   ]
  },
  {
   "cell_type": "code",
   "execution_count": 22,
   "metadata": {
    "collapsed": false
   },
   "outputs": [
    {
     "name": "stdout",
     "output_type": "stream",
     "text": [
      "<__main__.c1 instance at 0x7f69e8183d88>\n",
      "10\n",
      "20\n",
      "(<__main__.c1 instance at 0x7f69e8183d88>,)\n",
      "(10, 20)\n"
     ]
    }
   ],
   "source": [
    "class c1:\n",
    "    a=10\n",
    "    b=20\n",
    "    def get_data(*args):\n",
    "        print args\n",
    "    def fun(self, *args):\n",
    "        print self\n",
    "        print self.a\n",
    "        print self.b\n",
    "        self.get_data()\n",
    "        #et_data()\n",
    "        #print a,b\n",
    "        print args\n",
    "o1=c1()\n",
    "o1.fun(10,20)"
   ]
  },
  {
   "cell_type": "code",
   "execution_count": 26,
   "metadata": {
    "collapsed": true
   },
   "outputs": [],
   "source": [
    "class list:\n",
    "    def fun(self):\n",
    "        print \"dsfsdf\"\n",
    "l=list()"
   ]
  },
  {
   "cell_type": "code",
   "execution_count": 27,
   "metadata": {
    "collapsed": true
   },
   "outputs": [],
   "source": [
    "l=[1,2,3,4]"
   ]
  },
  {
   "cell_type": "code",
   "execution_count": 28,
   "metadata": {
    "collapsed": true
   },
   "outputs": [],
   "source": [
    "l.append(10)"
   ]
  },
  {
   "cell_type": "code",
   "execution_count": 29,
   "metadata": {
    "collapsed": false
   },
   "outputs": [
    {
     "data": {
      "text/plain": [
       "64"
      ]
     },
     "execution_count": 29,
     "metadata": {},
     "output_type": "execute_result"
    }
   ],
   "source": [
    "sum([10,20,30,4])"
   ]
  },
  {
   "cell_type": "code",
   "execution_count": 30,
   "metadata": {
    "collapsed": true
   },
   "outputs": [],
   "source": [
    "def sum(*args):\n",
    "    return 20"
   ]
  },
  {
   "cell_type": "code",
   "execution_count": 31,
   "metadata": {
    "collapsed": false
   },
   "outputs": [
    {
     "data": {
      "text/plain": [
       "20"
      ]
     },
     "execution_count": 31,
     "metadata": {},
     "output_type": "execute_result"
    }
   ],
   "source": [
    "sum([10,20,30,4])"
   ]
  },
  {
   "cell_type": "code",
   "execution_count": null,
   "metadata": {
    "collapsed": true
   },
   "outputs": [],
   "source": []
  }
 ],
 "metadata": {
  "kernelspec": {
   "display_name": "Python 2",
   "language": "python",
   "name": "python2"
  },
  "language_info": {
   "codemirror_mode": {
    "name": "ipython",
    "version": 2
   },
   "file_extension": ".py",
   "mimetype": "text/x-python",
   "name": "python",
   "nbconvert_exporter": "python",
   "pygments_lexer": "ipython2",
   "version": "2.7.13"
  }
 },
 "nbformat": 4,
 "nbformat_minor": 2
}
