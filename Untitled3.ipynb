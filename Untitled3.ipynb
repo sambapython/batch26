{
 "cells": [
  {
   "cell_type": "code",
   "execution_count": 2,
   "metadata": {
    "collapsed": false
   },
   "outputs": [
    {
     "name": "stdout",
     "output_type": "stream",
     "text": [
      "instance method: <__main__.c1 instance at 0x7f8e60325518>\n",
      "class method:  __main__.c1\n",
      "satic method:\n",
      "class method:  __main__.c1\n",
      "satic method:\n",
      "instance method: <__main__.c1 instance at 0x7f8e60325518>\n"
     ]
    }
   ],
   "source": [
    "class c1:\n",
    "    a=10\n",
    "    def __init__(self,c):\n",
    "        self.c=c\n",
    "        \n",
    "    def test1(self,a,b):\n",
    "        print \"instance method:\",self\n",
    "        \n",
    "    @classmethod\n",
    "    def clsmeth(cls,a,b):\n",
    "        print \"class method: \",cls\n",
    "        \n",
    "    @staticmethod\n",
    "    def stcmethod(a,b):\n",
    "        print \"satic method:\"\n",
    "o1=c1(10)\n",
    "o1.test1(10,20)\n",
    "o1.clsmeth(10,20)\n",
    "o1.stcmethod(10,20)\n",
    "c1.clsmeth(100,200)\n",
    "c1.stcmethod(1000,2000)\n",
    "c1.test1(o1,1000,2000)"
   ]
  },
  {
   "cell_type": "code",
   "execution_count": null,
   "metadata": {
    "collapsed": true
   },
   "outputs": [],
   "source": []
  }
 ],
 "metadata": {
  "kernelspec": {
   "display_name": "Python 2",
   "language": "python",
   "name": "python2"
  },
  "language_info": {
   "codemirror_mode": {
    "name": "ipython",
    "version": 2
   },
   "file_extension": ".py",
   "mimetype": "text/x-python",
   "name": "python",
   "nbconvert_exporter": "python",
   "pygments_lexer": "ipython2",
   "version": "2.7.13"
  }
 },
 "nbformat": 4,
 "nbformat_minor": 2
}
