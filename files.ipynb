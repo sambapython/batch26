{
 "cells": [
  {
   "cell_type": "code",
   "execution_count": 1,
   "metadata": {
    "collapsed": true
   },
   "outputs": [],
   "source": [
    "f=open('f1.txt','w')"
   ]
  },
  {
   "cell_type": "code",
   "execution_count": 2,
   "metadata": {
    "collapsed": true
   },
   "outputs": [],
   "source": [
    "f.write('some content')"
   ]
  },
  {
   "cell_type": "code",
   "execution_count": 3,
   "metadata": {
    "collapsed": true
   },
   "outputs": [],
   "source": [
    "f.close()"
   ]
  },
  {
   "cell_type": "code",
   "execution_count": 4,
   "metadata": {
    "collapsed": false
   },
   "outputs": [
    {
     "ename": "TypeError",
     "evalue": "expected a string or other character buffer object",
     "output_type": "error",
     "traceback": [
      "\u001b[0;31m---------------------------------------------------------------------------\u001b[0m",
      "\u001b[0;31mTypeError\u001b[0m                                 Traceback (most recent call last)",
      "\u001b[0;32m<ipython-input-4-fa1fc261dfc6>\u001b[0m in \u001b[0;36m<module>\u001b[0;34m()\u001b[0m\n\u001b[1;32m      2\u001b[0m \u001b[0mcolumns\u001b[0m\u001b[0;34m=\u001b[0m\u001b[0;34m[\u001b[0m\u001b[0;34m'col1'\u001b[0m\u001b[0;34m,\u001b[0m\u001b[0;34m'col2'\u001b[0m\u001b[0;34m,\u001b[0m\u001b[0;34m'col3'\u001b[0m\u001b[0;34m]\u001b[0m\u001b[0;34m\u001b[0m\u001b[0m\n\u001b[1;32m      3\u001b[0m \u001b[0mrow1\u001b[0m\u001b[0;34m=\u001b[0m \u001b[0;34m[\u001b[0m\u001b[0;34m'v1'\u001b[0m\u001b[0;34m,\u001b[0m\u001b[0;34m'v2'\u001b[0m\u001b[0;34m,\u001b[0m\u001b[0;34m'v3'\u001b[0m\u001b[0;34m]\u001b[0m\u001b[0;34m\u001b[0m\u001b[0m\n\u001b[0;32m----> 4\u001b[0;31m \u001b[0mf\u001b[0m\u001b[0;34m.\u001b[0m\u001b[0mwrite\u001b[0m\u001b[0;34m(\u001b[0m\u001b[0mcolumns\u001b[0m\u001b[0;34m)\u001b[0m\u001b[0;34m\u001b[0m\u001b[0m\n\u001b[0m",
      "\u001b[0;31mTypeError\u001b[0m: expected a string or other character buffer object"
     ]
    }
   ],
   "source": [
    "f=open('data.csv','w')\n",
    "columns=['col1','col2','col3']\n",
    "row1= ['v1','v2','v3']\n",
    "f.write(columns)"
   ]
  },
  {
   "cell_type": "code",
   "execution_count": 5,
   "metadata": {
    "collapsed": true
   },
   "outputs": [],
   "source": [
    "f=open('data.csv','w')\n",
    "columns=['col1','col2','col3']\n",
    "row1= ['v1','v2','v3']\n",
    "f.writelines(columns)\n",
    "f.writelines(row1)\n",
    "f.close()"
   ]
  },
  {
   "cell_type": "code",
   "execution_count": 6,
   "metadata": {
    "collapsed": true
   },
   "outputs": [],
   "source": [
    "f=open('data.csv','w')\n",
    "columns=['col1,','col2,','col3\\n']\n",
    "row1= ['v1,','v2,','v3\\n']\n",
    "f.writelines(columns)\n",
    "f.writelines(row1)\n",
    "f.close()"
   ]
  },
  {
   "cell_type": "code",
   "execution_count": 7,
   "metadata": {
    "collapsed": true
   },
   "outputs": [],
   "source": [
    "f=open('data.csv','w')"
   ]
  },
  {
   "cell_type": "code",
   "execution_count": 8,
   "metadata": {
    "collapsed": true
   },
   "outputs": [],
   "source": [
    "f=open('data.csv','w')\n",
    "columns=['col1,','col2,','col3\\n']\n",
    "row1= ['v1,','v2,','v3\\n']\n",
    "f.writelines(columns)\n",
    "f.writelines(row1)\n",
    "f.close()"
   ]
  },
  {
   "cell_type": "code",
   "execution_count": 9,
   "metadata": {
    "collapsed": false
   },
   "outputs": [
    {
     "ename": "ValueError",
     "evalue": "I/O operation on closed file",
     "output_type": "error",
     "traceback": [
      "\u001b[0;31m---------------------------------------------------------------------------\u001b[0m",
      "\u001b[0;31mValueError\u001b[0m                                Traceback (most recent call last)",
      "\u001b[0;32m<ipython-input-9-6531af6cf4d3>\u001b[0m in \u001b[0;36m<module>\u001b[0;34m()\u001b[0m\n\u001b[1;32m      1\u001b[0m \u001b[0mrow2\u001b[0m\u001b[0;34m=\u001b[0m\u001b[0;34m[\u001b[0m\u001b[0;34m'v21'\u001b[0m\u001b[0;34m,\u001b[0m\u001b[0;34m'v22'\u001b[0m\u001b[0;34m,\u001b[0m\u001b[0;34m'v23'\u001b[0m\u001b[0;34m]\u001b[0m\u001b[0;34m\u001b[0m\u001b[0m\n\u001b[0;32m----> 2\u001b[0;31m \u001b[0mf\u001b[0m\u001b[0;34m.\u001b[0m\u001b[0mwritelines\u001b[0m\u001b[0;34m(\u001b[0m\u001b[0mrow2\u001b[0m\u001b[0;34m)\u001b[0m\u001b[0;34m\u001b[0m\u001b[0m\n\u001b[0m",
      "\u001b[0;31mValueError\u001b[0m: I/O operation on closed file"
     ]
    }
   ],
   "source": [
    "row2=['v21','v22','v23']\n",
    "f.writelines(row2)"
   ]
  },
  {
   "cell_type": "code",
   "execution_count": 10,
   "metadata": {
    "collapsed": true
   },
   "outputs": [],
   "source": [
    "f=open('data.csv','a')\n",
    "row2=['v21','v22','v23']\n",
    "f.writelines(row2)\n",
    "f.close()"
   ]
  },
  {
   "cell_type": "code",
   "execution_count": 11,
   "metadata": {
    "collapsed": true
   },
   "outputs": [],
   "source": [
    "f=open('data.csv','a')\n",
    "row3=['\\nv31','v32','v33']\n",
    "f.writelines(row3)\n",
    "f.flush()\n",
    "row4=['\\nv41','v42','v43']\n",
    "f.writelines(row4)\n"
   ]
  },
  {
   "cell_type": "code",
   "execution_count": 12,
   "metadata": {
    "collapsed": true
   },
   "outputs": [],
   "source": [
    "f.flush()"
   ]
  },
  {
   "cell_type": "code",
   "execution_count": 13,
   "metadata": {
    "collapsed": true
   },
   "outputs": [],
   "source": [
    "f.close()"
   ]
  },
  {
   "cell_type": "code",
   "execution_count": 14,
   "metadata": {
    "collapsed": false
   },
   "outputs": [
    {
     "name": "stdout",
     "output_type": "stream",
     "text": [
      "col1,col2,col3\n",
      "v1,v2,v3\n",
      "v21v22v23\n",
      "v31v32v33\n",
      "v41v42v43\n"
     ]
    }
   ],
   "source": [
    "f=open('data.csv','r')\n",
    "data = f.read()\n",
    "print data"
   ]
  },
  {
   "cell_type": "code",
   "execution_count": 15,
   "metadata": {
    "collapsed": false
   },
   "outputs": [
    {
     "data": {
      "text/plain": [
       "'col1,col2,col3\\nv1,v2,v3\\nv21v22v23\\nv31v32v33\\nv41v42v43'"
      ]
     },
     "execution_count": 15,
     "metadata": {},
     "output_type": "execute_result"
    }
   ],
   "source": [
    "data"
   ]
  },
  {
   "cell_type": "code",
   "execution_count": 16,
   "metadata": {
    "collapsed": false
   },
   "outputs": [
    {
     "name": "stdout",
     "output_type": "stream",
     "text": [
      "c\n"
     ]
    }
   ],
   "source": [
    "for row in data:\n",
    "    print row \n",
    "    break"
   ]
  },
  {
   "cell_type": "code",
   "execution_count": 17,
   "metadata": {
    "collapsed": false
   },
   "outputs": [
    {
     "data": {
      "text/plain": [
       "['col1,col2,col3', 'v1,v2,v3', 'v21v22v23', 'v31v32v33', 'v41v42v43']"
      ]
     },
     "execution_count": 17,
     "metadata": {},
     "output_type": "execute_result"
    }
   ],
   "source": [
    "data.splitlines()"
   ]
  },
  {
   "cell_type": "code",
   "execution_count": 18,
   "metadata": {
    "collapsed": false
   },
   "outputs": [
    {
     "data": {
      "text/plain": [
       "['col1,col2,col3', 'v1,v2,v3', 'v21v22v23', 'v31v32v33', 'v41v42v43']"
      ]
     },
     "execution_count": 18,
     "metadata": {},
     "output_type": "execute_result"
    }
   ],
   "source": [
    "data.split('\\n')"
   ]
  },
  {
   "cell_type": "code",
   "execution_count": 20,
   "metadata": {
    "collapsed": false
   },
   "outputs": [
    {
     "data": {
      "text/plain": [
       "['col1,col2,col3\\n', 'v1,v2,v3\\n', 'v21v22v23\\n', 'v31v32v33\\n', 'v41v42v43']"
      ]
     },
     "execution_count": 20,
     "metadata": {},
     "output_type": "execute_result"
    }
   ],
   "source": [
    "data.splitlines(True)"
   ]
  },
  {
   "cell_type": "code",
   "execution_count": 22,
   "metadata": {
    "collapsed": false
   },
   "outputs": [
    {
     "data": {
      "text/plain": [
       "['a', 'b', 'c', 'd']"
      ]
     },
     "execution_count": 22,
     "metadata": {},
     "output_type": "execute_result"
    }
   ],
   "source": [
    "a=\"a:b:c:d\"\n",
    "a.split(\":\")"
   ]
  },
  {
   "cell_type": "code",
   "execution_count": 23,
   "metadata": {
    "collapsed": false
   },
   "outputs": [
    {
     "data": {
      "text/plain": [
       "['col1,col2,col3', 'v1,v2,v3', 'v21v22v23', 'v31v32v33', 'v41v42v43']"
      ]
     },
     "execution_count": 23,
     "metadata": {},
     "output_type": "execute_result"
    }
   ],
   "source": [
    "data.split(\"\\n\")"
   ]
  },
  {
   "cell_type": "code",
   "execution_count": 24,
   "metadata": {
    "collapsed": false
   },
   "outputs": [
    {
     "data": {
      "text/plain": [
       "['col1,col2,col3', 'v1,v2,v3', 'v21v22v23', 'v31v32v33', 'v41v42v43']"
      ]
     },
     "execution_count": 24,
     "metadata": {},
     "output_type": "execute_result"
    }
   ],
   "source": [
    "data.splitlines()"
   ]
  },
  {
   "cell_type": "code",
   "execution_count": 25,
   "metadata": {
    "collapsed": true
   },
   "outputs": [],
   "source": [
    "data.splitlines?"
   ]
  },
  {
   "cell_type": "code",
   "execution_count": 26,
   "metadata": {
    "collapsed": false
   },
   "outputs": [
    {
     "data": {
      "text/plain": [
       "['a\\tb\\tc\\t']"
      ]
     },
     "execution_count": 26,
     "metadata": {},
     "output_type": "execute_result"
    }
   ],
   "source": [
    "a=\"a\\tb\\tc\\t\"\n",
    "a.splitlines()"
   ]
  },
  {
   "cell_type": "code",
   "execution_count": 27,
   "metadata": {
    "collapsed": false
   },
   "outputs": [
    {
     "data": {
      "text/plain": [
       "['col1,col2,col3', 'v1,v2,v3', 'v21v22v23', 'v31v32v33', 'v41v42v43']"
      ]
     },
     "execution_count": 27,
     "metadata": {},
     "output_type": "execute_result"
    }
   ],
   "source": [
    "data.splitlines()"
   ]
  },
  {
   "cell_type": "code",
   "execution_count": 28,
   "metadata": {
    "collapsed": false
   },
   "outputs": [
    {
     "data": {
      "text/plain": [
       "['col1,col2,col3\\n', 'v1,v2,v3\\n', 'v21v22v23\\n', 'v31v32v33\\n', 'v41v42v43']"
      ]
     },
     "execution_count": 28,
     "metadata": {},
     "output_type": "execute_result"
    }
   ],
   "source": [
    "data.splitlines(True)"
   ]
  },
  {
   "cell_type": "code",
   "execution_count": null,
   "metadata": {
    "collapsed": true
   },
   "outputs": [],
   "source": [
    "own_split(data=data,delimeter='\\n',keepdelimeter=False)"
   ]
  },
  {
   "cell_type": "code",
   "execution_count": 29,
   "metadata": {
    "collapsed": false
   },
   "outputs": [
    {
     "name": "stdout",
     "output_type": "stream",
     "text": [
      "['col1,col2,col3', 'v1,v2,v3', 'v21v22v23', 'v31v32v33', 'v41v42v43']\n"
     ]
    },
    {
     "data": {
      "text/plain": [
       "'col1,col2,col3\\nv1,v2,v3\\nv21v22v23\\nv31v32v33\\nv41v42v43'"
      ]
     },
     "execution_count": 29,
     "metadata": {},
     "output_type": "execute_result"
    }
   ],
   "source": [
    "print data.split(\"\\n\")\n",
    "data"
   ]
  },
  {
   "cell_type": "code",
   "execution_count": 30,
   "metadata": {
    "collapsed": true
   },
   "outputs": [],
   "source": [
    "data.split?"
   ]
  },
  {
   "cell_type": "code",
   "execution_count": 31,
   "metadata": {
    "collapsed": false
   },
   "outputs": [
    {
     "data": {
      "text/plain": [
       "'col1,col2,col3\\nv1,v2,v3\\nv21v22v23\\nv31v32v33\\nv41v42v43'"
      ]
     },
     "execution_count": 31,
     "metadata": {},
     "output_type": "execute_result"
    }
   ],
   "source": [
    "data"
   ]
  },
  {
   "cell_type": "code",
   "execution_count": 32,
   "metadata": {
    "collapsed": false
   },
   "outputs": [
    {
     "data": {
      "text/plain": [
       "['col1,col2,col3', 'v1,v2,v3', 'v21v22v23', 'v31v32v33', 'v41v42v43']"
      ]
     },
     "execution_count": 32,
     "metadata": {},
     "output_type": "execute_result"
    }
   ],
   "source": [
    "data.split(\"\\n\")"
   ]
  },
  {
   "cell_type": "code",
   "execution_count": 33,
   "metadata": {
    "collapsed": false
   },
   "outputs": [
    {
     "data": {
      "text/plain": [
       "['col1,col2,col3', 'v1,v2,v3', 'v21v22v23\\nv31v32v33\\nv41v42v43']"
      ]
     },
     "execution_count": 33,
     "metadata": {},
     "output_type": "execute_result"
    }
   ],
   "source": [
    "data.split(\"\\n\",2)"
   ]
  },
  {
   "cell_type": "code",
   "execution_count": 34,
   "metadata": {
    "collapsed": false
   },
   "outputs": [
    {
     "name": "stdout",
     "output_type": "stream",
     "text": [
      "col1,col2,col3\n",
      "v1,v2,v3\n",
      "v21v22v23\n",
      "v31v32v33\n",
      "v41v42v43\n"
     ]
    },
    {
     "ename": "ValueError",
     "evalue": "I/O operation on closed file",
     "output_type": "error",
     "traceback": [
      "\u001b[0;31m---------------------------------------------------------------------------\u001b[0m",
      "\u001b[0;31mValueError\u001b[0m                                Traceback (most recent call last)",
      "\u001b[0;32m<ipython-input-34-2e2f590a51e7>\u001b[0m in \u001b[0;36m<module>\u001b[0;34m()\u001b[0m\n\u001b[1;32m      3\u001b[0m \u001b[0;32mprint\u001b[0m \u001b[0mdata\u001b[0m\u001b[0;34m\u001b[0m\u001b[0m\n\u001b[1;32m      4\u001b[0m \u001b[0mf\u001b[0m\u001b[0;34m.\u001b[0m\u001b[0mclose\u001b[0m\u001b[0;34m(\u001b[0m\u001b[0;34m)\u001b[0m\u001b[0;34m\u001b[0m\u001b[0m\n\u001b[0;32m----> 5\u001b[0;31m \u001b[0;32mprint\u001b[0m \u001b[0mf\u001b[0m\u001b[0;34m.\u001b[0m\u001b[0mread\u001b[0m\u001b[0;34m(\u001b[0m\u001b[0;34m)\u001b[0m\u001b[0;34m\u001b[0m\u001b[0m\n\u001b[0m",
      "\u001b[0;31mValueError\u001b[0m: I/O operation on closed file"
     ]
    }
   ],
   "source": [
    "f=open('data.csv','r')\n",
    "data = f.read()\n",
    "print data\n",
    "f.close()\n",
    "print f.read()"
   ]
  },
  {
   "cell_type": "code",
   "execution_count": 35,
   "metadata": {
    "collapsed": false
   },
   "outputs": [
    {
     "name": "stdout",
     "output_type": "stream",
     "text": [
      "col1,col2,col3\n",
      "v1,v2,v3\n",
      "v21v22v23\n",
      "v31v32v33\n",
      "v41v42v43\n",
      "reading second time\n",
      "data1: \n"
     ]
    }
   ],
   "source": [
    "f=open('data.csv','r')\n",
    "data = f.read()\n",
    "print data\n",
    "print \"reading second time\"\n",
    "data1=f.read()\n",
    "print \"data1:\",data1\n",
    "f.close()"
   ]
  },
  {
   "cell_type": "code",
   "execution_count": 36,
   "metadata": {
    "collapsed": false
   },
   "outputs": [
    {
     "name": "stdout",
     "output_type": "stream",
     "text": [
      "col1,col2,col3\n",
      "v1,v2,v3\n",
      "v21v22v23\n",
      "v31v32v33\n",
      "v41v42v43\n",
      "reading second time\n",
      "data1: \n"
     ]
    }
   ],
   "source": [
    "f=open('data.csv','r')\n",
    "data = f.read()\n",
    "print data\n",
    "print \"reading second time\"\n",
    "data1=f.read()\n",
    "print \"data1:\",data1\n",
    "f.close()"
   ]
  },
  {
   "cell_type": "code",
   "execution_count": 37,
   "metadata": {
    "collapsed": false
   },
   "outputs": [
    {
     "data": {
      "text/plain": [
       "53"
      ]
     },
     "execution_count": 37,
     "metadata": {},
     "output_type": "execute_result"
    }
   ],
   "source": [
    "len(data)"
   ]
  },
  {
   "cell_type": "code",
   "execution_count": 38,
   "metadata": {
    "collapsed": false
   },
   "outputs": [
    {
     "name": "stdout",
     "output_type": "stream",
     "text": [
      "col1,col2,\n"
     ]
    }
   ],
   "source": [
    "f=open('data.csv','r')\n",
    "data = f.read(10)\n",
    "print data"
   ]
  },
  {
   "cell_type": "code",
   "execution_count": 39,
   "metadata": {
    "collapsed": false
   },
   "outputs": [
    {
     "data": {
      "text/plain": [
       "'col3\\nv1,v2,v3\\nv21v22'"
      ]
     },
     "execution_count": 39,
     "metadata": {},
     "output_type": "execute_result"
    }
   ],
   "source": [
    "f.read(20)"
   ]
  },
  {
   "cell_type": "code",
   "execution_count": 40,
   "metadata": {
    "collapsed": false
   },
   "outputs": [
    {
     "data": {
      "text/plain": [
       "'v23\\nv31v32v33\\nv41v42v43'"
      ]
     },
     "execution_count": 40,
     "metadata": {},
     "output_type": "execute_result"
    }
   ],
   "source": [
    "f.read()"
   ]
  },
  {
   "cell_type": "code",
   "execution_count": 41,
   "metadata": {
    "collapsed": false
   },
   "outputs": [
    {
     "data": {
      "text/plain": [
       "''"
      ]
     },
     "execution_count": 41,
     "metadata": {},
     "output_type": "execute_result"
    }
   ],
   "source": [
    "f.read()"
   ]
  },
  {
   "cell_type": "code",
   "execution_count": 42,
   "metadata": {
    "collapsed": false
   },
   "outputs": [
    {
     "name": "stdout",
     "output_type": "stream",
     "text": [
      "0\n",
      "col1,col2,\n",
      "10\n",
      "col3\n",
      "v1,v2,v3\n",
      "v21v22v23\n",
      "v31v32v33\n",
      "v41v42v43\n",
      "53\n"
     ]
    }
   ],
   "source": [
    "f.close()\n",
    "f=open('data.csv','r')\n",
    "print f.tell()\n",
    "print f.read(10)\n",
    "print f.tell()\n",
    "print f.read()\n",
    "print f.tell()"
   ]
  },
  {
   "cell_type": "code",
   "execution_count": 43,
   "metadata": {
    "collapsed": true
   },
   "outputs": [],
   "source": [
    "f.seek(0)"
   ]
  },
  {
   "cell_type": "code",
   "execution_count": 44,
   "metadata": {
    "collapsed": false
   },
   "outputs": [
    {
     "data": {
      "text/plain": [
       "0"
      ]
     },
     "execution_count": 44,
     "metadata": {},
     "output_type": "execute_result"
    }
   ],
   "source": [
    "f.tell()"
   ]
  },
  {
   "cell_type": "code",
   "execution_count": 45,
   "metadata": {
    "collapsed": false
   },
   "outputs": [
    {
     "data": {
      "text/plain": [
       "'col1,col2,col3\\nv1,v2,v3\\nv21v22v23\\nv31v32v33\\nv41v42v43'"
      ]
     },
     "execution_count": 45,
     "metadata": {},
     "output_type": "execute_result"
    }
   ],
   "source": [
    "f.read()"
   ]
  },
  {
   "cell_type": "code",
   "execution_count": 46,
   "metadata": {
    "collapsed": true
   },
   "outputs": [],
   "source": [
    "f.seek(10)"
   ]
  },
  {
   "cell_type": "code",
   "execution_count": 47,
   "metadata": {
    "collapsed": false
   },
   "outputs": [
    {
     "data": {
      "text/plain": [
       "10"
      ]
     },
     "execution_count": 47,
     "metadata": {},
     "output_type": "execute_result"
    }
   ],
   "source": [
    "f.tell()"
   ]
  },
  {
   "cell_type": "code",
   "execution_count": 48,
   "metadata": {
    "collapsed": false
   },
   "outputs": [
    {
     "data": {
      "text/plain": [
       "'col3\\nv1,v2,v3\\nv21v22v23\\nv31v32v33\\nv41v42v43'"
      ]
     },
     "execution_count": 48,
     "metadata": {},
     "output_type": "execute_result"
    }
   ],
   "source": [
    "f.read()"
   ]
  },
  {
   "cell_type": "code",
   "execution_count": 49,
   "metadata": {
    "collapsed": false
   },
   "outputs": [],
   "source": [
    "ms=open('ms.jpg')\n",
    "data = ms.read()\n",
    "print data"
   ]
  },
  {
   "cell_type": "code",
   "execution_count": 50,
   "metadata": {
    "collapsed": false
   },
   "outputs": [
    {
     "name": "stdout",
     "output_type": "stream",
     "text": [
      "����\u0000\u0010JFIF\n"
     ]
    }
   ],
   "source": [
    "ms=open('ms.jpg')\n",
    "data = ms.read()\n",
    "print data[:10]"
   ]
  },
  {
   "cell_type": "code",
   "execution_count": 51,
   "metadata": {
    "collapsed": false
   },
   "outputs": [
    {
     "name": "stdout",
     "output_type": "stream",
     "text": [
      "(��\n",
      "(��?��\n"
     ]
    }
   ],
   "source": [
    "ms=open('ms.jpg')\n",
    "data = ms.read()\n",
    "print data[-10:]"
   ]
  },
  {
   "cell_type": "code",
   "execution_count": 52,
   "metadata": {
    "collapsed": false
   },
   "outputs": [
    {
     "data": {
      "text/plain": [
       "str"
      ]
     },
     "execution_count": 52,
     "metadata": {},
     "output_type": "execute_result"
    }
   ],
   "source": [
    "type(data)"
   ]
  },
  {
   "cell_type": "code",
   "execution_count": 53,
   "metadata": {
    "collapsed": true
   },
   "outputs": [],
   "source": [
    "f=open('ms1.jpg','w')\n",
    "f.write(data)\n",
    "f.close()"
   ]
  },
  {
   "cell_type": "code",
   "execution_count": 54,
   "metadata": {
    "collapsed": false
   },
   "outputs": [
    {
     "name": "stdout",
     "output_type": "stream",
     "text": [
      "36103\n"
     ]
    }
   ],
   "source": [
    "print len(data)"
   ]
  },
  {
   "cell_type": "code",
   "execution_count": 55,
   "metadata": {
    "collapsed": false
   },
   "outputs": [
    {
     "name": "stdout",
     "output_type": "stream",
     "text": [
      "����\u0000\u0010JFIF\n"
     ]
    }
   ],
   "source": [
    "ms=open('ms.jpg','rb')\n",
    "data = ms.read()\n",
    "print data[:10]\n",
    "f.close()\n",
    "f=open('ms1.jpg','wb')\n",
    "f.write(data)\n",
    "f.close()"
   ]
  },
  {
   "cell_type": "code",
   "execution_count": 56,
   "metadata": {
    "collapsed": false
   },
   "outputs": [
    {
     "name": "stdout",
     "output_type": "stream",
     "text": [
      "col1,col2,col3\n",
      "v1,v2,v3\n",
      "v21v22v23\n",
      "v31v32v33\n",
      "v41v42v43\n",
      "\n",
      "\n",
      "\n",
      "\n",
      "\n",
      "\n",
      "\n",
      "\n",
      "\n"
     ]
    }
   ],
   "source": [
    "f_b = open(\"big_file.csv\",'w')\n",
    "f = open('data.csv')\n",
    "for i in range(10):\n",
    "    data=f.read()\n",
    "    print data\n",
    "    f_b.write(data)\n",
    "f_b.close()\n",
    "    "
   ]
  },
  {
   "cell_type": "code",
   "execution_count": 57,
   "metadata": {
    "collapsed": false
   },
   "outputs": [
    {
     "name": "stdout",
     "output_type": "stream",
     "text": [
      "col1,col2,col3\n",
      "v1,v2,v3\n",
      "v21v22v23\n",
      "v31v32v33\n",
      "v41v42v43\n",
      "col1,col2,col3\n",
      "v1,v2,v3\n",
      "v21v22v23\n",
      "v31v32v33\n",
      "v41v42v43\n",
      "col1,col2,col3\n",
      "v1,v2,v3\n",
      "v21v22v23\n",
      "v31v32v33\n",
      "v41v42v43\n",
      "col1,col2,col3\n",
      "v1,v2,v3\n",
      "v21v22v23\n",
      "v31v32v33\n",
      "v41v42v43\n",
      "col1,col2,col3\n",
      "v1,v2,v3\n",
      "v21v22v23\n",
      "v31v32v33\n",
      "v41v42v43\n",
      "col1,col2,col3\n",
      "v1,v2,v3\n",
      "v21v22v23\n",
      "v31v32v33\n",
      "v41v42v43\n",
      "col1,col2,col3\n",
      "v1,v2,v3\n",
      "v21v22v23\n",
      "v31v32v33\n",
      "v41v42v43\n",
      "col1,col2,col3\n",
      "v1,v2,v3\n",
      "v21v22v23\n",
      "v31v32v33\n",
      "v41v42v43\n",
      "col1,col2,col3\n",
      "v1,v2,v3\n",
      "v21v22v23\n",
      "v31v32v33\n",
      "v41v42v43\n",
      "col1,col2,col3\n",
      "v1,v2,v3\n",
      "v21v22v23\n",
      "v31v32v33\n",
      "v41v42v43\n"
     ]
    }
   ],
   "source": [
    "f_b = open(\"big_file.csv\",'w')\n",
    "f = open('data.csv')\n",
    "for i in range(10):\n",
    "    data=f.read()\n",
    "    print data\n",
    "    f_b.write(data)\n",
    "    f.seek(0)\n",
    "f_b.close()\n",
    "    "
   ]
  },
  {
   "cell_type": "code",
   "execution_count": 58,
   "metadata": {
    "collapsed": false
   },
   "outputs": [
    {
     "name": "stdout",
     "output_type": "stream",
     "text": [
      "col1,col2,col3\n",
      "v1,v2,v3\n",
      "v21v22v23\n",
      "v31v32v33\n",
      "v41v42v43\n",
      "col1,col2,col3\n",
      "v1,v2,v3\n",
      "v21v22v23\n",
      "v31v32v33\n",
      "v41v42v43\n",
      "col1,col2,col3\n",
      "v1,v2,v3\n",
      "v21v22v23\n",
      "v31v32v33\n",
      "v41v42v43\n",
      "col1,col2,col3\n",
      "v1,v2,v3\n",
      "v21v22v23\n",
      "v31v32v33\n",
      "v41v42v43\n",
      "col1,col2,col3\n",
      "v1,v2,v3\n",
      "v21v22v23\n",
      "v31v32v33\n",
      "v41v42v43\n",
      "col1,col2,col3\n",
      "v1,v2,v3\n",
      "v21v22v23\n",
      "v31v32v33\n",
      "v41v42v43\n",
      "col1,col2,col3\n",
      "v1,v2,v3\n",
      "v21v22v23\n",
      "v31v32v33\n",
      "v41v42v43\n",
      "col1,col2,col3\n",
      "v1,v2,v3\n",
      "v21v22v23\n",
      "v31v32v33\n",
      "v41v42v43\n",
      "col1,col2,col3\n",
      "v1,v2,v3\n",
      "v21v22v23\n",
      "v31v32v33\n",
      "v41v42v43\n",
      "col1,col2,col3\n",
      "v1,v2,v3\n",
      "v21v22v23\n",
      "v31v32v33\n",
      "v41v42v43\n"
     ]
    }
   ],
   "source": [
    "f_b = open(\"big_file.csv\",'w')\n",
    "f = open('data.csv')\n",
    "for i in range(10):\n",
    "    data=f.read()\n",
    "    print data\n",
    "    f_b.write(data)\n",
    "    f.seek(0)\n",
    "    \n",
    "f_b.close()\n",
    "    "
   ]
  },
  {
   "cell_type": "code",
   "execution_count": null,
   "metadata": {
    "collapsed": true
   },
   "outputs": [],
   "source": [
    "persons=[{'id':1,'name':\"name1\"},{'id':2,'name':'namme2'}]"
   ]
  }
 ],
 "metadata": {
  "kernelspec": {
   "display_name": "Python 2",
   "language": "python",
   "name": "python2"
  },
  "language_info": {
   "codemirror_mode": {
    "name": "ipython",
    "version": 2
   },
   "file_extension": ".py",
   "mimetype": "text/x-python",
   "name": "python",
   "nbconvert_exporter": "python",
   "pygments_lexer": "ipython2",
   "version": "2.7.13"
  }
 },
 "nbformat": 4,
 "nbformat_minor": 2
}
