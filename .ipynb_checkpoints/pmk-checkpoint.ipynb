{
 "cells": [
  {
   "cell_type": "code",
   "execution_count": 2,
   "metadata": {
    "collapsed": true
   },
   "outputs": [],
   "source": [
    "import paramiko as pmk\n",
    "ssh = pmk.SSHClient()\n",
    "ssh.set_missing_host_key_policy(pmk.AutoAddPolicy())\n",
    "ssh.connect('localhost',username=\"\",password=\"\")"
   ]
  },
  {
   "cell_type": "code",
   "execution_count": 10,
   "metadata": {
    "collapsed": true
   },
   "outputs": [],
   "source": [
    "stdin, stdout, stderr = ssh.exec_command(\"ps -aux\")"
   ]
  },
  {
   "cell_type": "code",
   "execution_count": 11,
   "metadata": {
    "collapsed": true
   },
   "outputs": [],
   "source": [
    "processes = stdout.readlines()"
   ]
  },
  {
   "cell_type": "code",
   "execution_count": 12,
   "metadata": {
    "collapsed": false
   },
   "outputs": [
    {
     "data": {
      "text/plain": [
       "u'USER       PID %CPU %MEM    VSZ   RSS TTY      STAT START   TIME COMMAND\\n'"
      ]
     },
     "execution_count": 12,
     "metadata": {},
     "output_type": "execute_result"
    }
   ],
   "source": [
    "processes[0]"
   ]
  },
  {
   "cell_type": "code",
   "execution_count": 13,
   "metadata": {
    "collapsed": false
   },
   "outputs": [
    {
     "name": "stdout",
     "output_type": "stream",
     "text": [
      "tcloudo+ 25210  0.8  1.2 901476 50520 ?        Ssl  07:42   0:01 /opt/sublime_text/sublime_text\n",
      "\n"
     ]
    }
   ],
   "source": [
    "for proces in processes:\n",
    "    if \"sublime_text\" in proces:\n",
    "        print proces\n",
    "        break"
   ]
  },
  {
   "cell_type": "code",
   "execution_count": 14,
   "metadata": {
    "collapsed": false
   },
   "outputs": [
    {
     "name": "stdout",
     "output_type": "stream",
     "text": [
      "[u'tcloudo+', u'25210', u'0.8', u'1.2', u'901476', u'50520', u'?', u'Ssl', u'07:42', u'0:01', u'/opt/sublime_text/sublime_text']\n"
     ]
    }
   ],
   "source": [
    "for proces in processes:\n",
    "    if \"sublime_text\" in proces:\n",
    "        print proces.split()\n",
    "        break"
   ]
  },
  {
   "cell_type": "code",
   "execution_count": 15,
   "metadata": {
    "collapsed": false
   },
   "outputs": [
    {
     "name": "stdout",
     "output_type": "stream",
     "text": [
      "25210\n"
     ]
    }
   ],
   "source": [
    "for proces in processes:\n",
    "    if \"sublime_text\" in proces:\n",
    "        print proces.split()[1]\n",
    "        break"
   ]
  },
  {
   "cell_type": "code",
   "execution_count": 16,
   "metadata": {
    "collapsed": true
   },
   "outputs": [],
   "source": [
    "for proces in processes:\n",
    "    if \"sublime_text\" in proces:\n",
    "        pid  = proces.split()[1]\n",
    "        ssh.exec_command(\"kill -9 \"+pid)\n",
    "        break"
   ]
  },
  {
   "cell_type": "code",
   "execution_count": 18,
   "metadata": {
    "collapsed": false
   },
   "outputs": [],
   "source": [
    "sftp = ssh.open_sftp()"
   ]
  },
  {
   "cell_type": "code",
   "execution_count": 21,
   "metadata": {
    "collapsed": false
   },
   "outputs": [
    {
     "data": {
      "text/plain": [
       "<SFTPAttributes: [ size=66 uid=1000 gid=1000 mode=0100664 atime=1496024554 mtime=1496024554 ]>"
      ]
     },
     "execution_count": 21,
     "metadata": {},
     "output_type": "execute_result"
    }
   ],
   "source": [
    "sftp.put('/home/tcloudost/pythonexamples/batch27/exp.py','/home/tcloudost/pythonexamples/batch28/exp1.py')"
   ]
  },
  {
   "cell_type": "code",
   "execution_count": 22,
   "metadata": {
    "collapsed": true
   },
   "outputs": [],
   "source": [
    "sftp.get('/home/tcloudost/pythonexamples/batch28/exp1.py','/home/tcloudost/pythonexamples/batch27/exp2.py')"
   ]
  },
  {
   "cell_type": "code",
   "execution_count": 23,
   "metadata": {
    "collapsed": true
   },
   "outputs": [],
   "source": [
    "stdin,stdout,stderr = ssh.exec_command(\"sudo ls /proc\")"
   ]
  },
  {
   "cell_type": "code",
   "execution_count": 25,
   "metadata": {
    "collapsed": false
   },
   "outputs": [
    {
     "data": {
      "text/plain": [
       "'sudo: no tty present and no askpass program specified\\n'"
      ]
     },
     "execution_count": 25,
     "metadata": {},
     "output_type": "execute_result"
    }
   ],
   "source": [
    "stderr.read()"
   ]
  },
  {
   "cell_type": "code",
   "execution_count": 27,
   "metadata": {
    "collapsed": false
   },
   "outputs": [
    {
     "data": {
      "text/plain": [
       "''"
      ]
     },
     "execution_count": 27,
     "metadata": {},
     "output_type": "execute_result"
    }
   ],
   "source": [
    "stdout.read()"
   ]
  },
  {
   "cell_type": "code",
   "execution_count": 28,
   "metadata": {
    "collapsed": false
   },
   "outputs": [
    {
     "ename": "IOError",
     "evalue": "File is not open for reading",
     "output_type": "error",
     "traceback": [
      "\u001b[0;31m---------------------------------------------------------------------------\u001b[0m",
      "\u001b[0;31mIOError\u001b[0m                                   Traceback (most recent call last)",
      "\u001b[0;32m<ipython-input-28-0a14e5646005>\u001b[0m in \u001b[0;36m<module>\u001b[0;34m()\u001b[0m\n\u001b[0;32m----> 1\u001b[0;31m \u001b[0mstdin\u001b[0m\u001b[0;34m.\u001b[0m\u001b[0mread\u001b[0m\u001b[0;34m(\u001b[0m\u001b[0;34m)\u001b[0m\u001b[0;34m\u001b[0m\u001b[0m\n\u001b[0m",
      "\u001b[0;32m/home/tcloudost/Downloads/yes/lib/python2.7/site-packages/paramiko/file.pyc\u001b[0m in \u001b[0;36mread\u001b[0;34m(self, size)\u001b[0m\n\u001b[1;32m    182\u001b[0m             \u001b[0;32mraise\u001b[0m \u001b[0mIOError\u001b[0m\u001b[0;34m(\u001b[0m\u001b[0;34m'File is closed'\u001b[0m\u001b[0;34m)\u001b[0m\u001b[0;34m\u001b[0m\u001b[0m\n\u001b[1;32m    183\u001b[0m         \u001b[0;32mif\u001b[0m \u001b[0;32mnot\u001b[0m \u001b[0;34m(\u001b[0m\u001b[0mself\u001b[0m\u001b[0;34m.\u001b[0m\u001b[0m_flags\u001b[0m \u001b[0;34m&\u001b[0m \u001b[0mself\u001b[0m\u001b[0;34m.\u001b[0m\u001b[0mFLAG_READ\u001b[0m\u001b[0;34m)\u001b[0m\u001b[0;34m:\u001b[0m\u001b[0;34m\u001b[0m\u001b[0m\n\u001b[0;32m--> 184\u001b[0;31m             \u001b[0;32mraise\u001b[0m \u001b[0mIOError\u001b[0m\u001b[0;34m(\u001b[0m\u001b[0;34m'File is not open for reading'\u001b[0m\u001b[0;34m)\u001b[0m\u001b[0;34m\u001b[0m\u001b[0m\n\u001b[0m\u001b[1;32m    185\u001b[0m         \u001b[0;32mif\u001b[0m \u001b[0;34m(\u001b[0m\u001b[0msize\u001b[0m \u001b[0;32mis\u001b[0m \u001b[0mNone\u001b[0m\u001b[0;34m)\u001b[0m \u001b[0;32mor\u001b[0m \u001b[0;34m(\u001b[0m\u001b[0msize\u001b[0m \u001b[0;34m<\u001b[0m \u001b[0;36m0\u001b[0m\u001b[0;34m)\u001b[0m\u001b[0;34m:\u001b[0m\u001b[0;34m\u001b[0m\u001b[0m\n\u001b[1;32m    186\u001b[0m             \u001b[0;31m# go for broke\u001b[0m\u001b[0;34m\u001b[0m\u001b[0;34m\u001b[0m\u001b[0m\n",
      "\u001b[0;31mIOError\u001b[0m: File is not open for reading"
     ]
    }
   ],
   "source": [
    "stdin.read()"
   ]
  },
  {
   "cell_type": "code",
   "execution_count": 29,
   "metadata": {
    "collapsed": false
   },
   "outputs": [
    {
     "ename": "error",
     "evalue": "Socket is closed",
     "output_type": "error",
     "traceback": [
      "\u001b[0;31m---------------------------------------------------------------------------\u001b[0m",
      "\u001b[0;31merror\u001b[0m                                     Traceback (most recent call last)",
      "\u001b[0;32m<ipython-input-29-92cef1c3c093>\u001b[0m in \u001b[0;36m<module>\u001b[0;34m()\u001b[0m\n\u001b[0;32m----> 1\u001b[0;31m \u001b[0mstdin\u001b[0m\u001b[0;34m.\u001b[0m\u001b[0mwrite\u001b[0m\u001b[0;34m(\u001b[0m\u001b[0;34m\"pythonrocks\"\u001b[0m\u001b[0;34m)\u001b[0m\u001b[0;34m\u001b[0m\u001b[0m\n\u001b[0m",
      "\u001b[0;32m/home/tcloudost/Downloads/yes/lib/python2.7/site-packages/paramiko/file.pyc\u001b[0m in \u001b[0;36mwrite\u001b[0;34m(self, data)\u001b[0m\n\u001b[1;32m    379\u001b[0m             \u001b[0;32mraise\u001b[0m \u001b[0mIOError\u001b[0m\u001b[0;34m(\u001b[0m\u001b[0;34m'File not open for writing'\u001b[0m\u001b[0;34m)\u001b[0m\u001b[0;34m\u001b[0m\u001b[0m\n\u001b[1;32m    380\u001b[0m         \u001b[0;32mif\u001b[0m \u001b[0;32mnot\u001b[0m \u001b[0;34m(\u001b[0m\u001b[0mself\u001b[0m\u001b[0;34m.\u001b[0m\u001b[0m_flags\u001b[0m \u001b[0;34m&\u001b[0m \u001b[0mself\u001b[0m\u001b[0;34m.\u001b[0m\u001b[0mFLAG_BUFFERED\u001b[0m\u001b[0;34m)\u001b[0m\u001b[0;34m:\u001b[0m\u001b[0;34m\u001b[0m\u001b[0m\n\u001b[0;32m--> 381\u001b[0;31m             \u001b[0mself\u001b[0m\u001b[0;34m.\u001b[0m\u001b[0m_write_all\u001b[0m\u001b[0;34m(\u001b[0m\u001b[0mdata\u001b[0m\u001b[0;34m)\u001b[0m\u001b[0;34m\u001b[0m\u001b[0m\n\u001b[0m\u001b[1;32m    382\u001b[0m             \u001b[0;32mreturn\u001b[0m\u001b[0;34m\u001b[0m\u001b[0m\n\u001b[1;32m    383\u001b[0m         \u001b[0mself\u001b[0m\u001b[0;34m.\u001b[0m\u001b[0m_wbuffer\u001b[0m\u001b[0;34m.\u001b[0m\u001b[0mwrite\u001b[0m\u001b[0;34m(\u001b[0m\u001b[0mdata\u001b[0m\u001b[0;34m)\u001b[0m\u001b[0;34m\u001b[0m\u001b[0m\n",
      "\u001b[0;32m/home/tcloudost/Downloads/yes/lib/python2.7/site-packages/paramiko/file.pyc\u001b[0m in \u001b[0;36m_write_all\u001b[0;34m(self, data)\u001b[0m\n\u001b[1;32m    496\u001b[0m         \u001b[0;31m# a socket).\u001b[0m\u001b[0;34m\u001b[0m\u001b[0;34m\u001b[0m\u001b[0m\n\u001b[1;32m    497\u001b[0m         \u001b[0;32mwhile\u001b[0m \u001b[0mlen\u001b[0m\u001b[0;34m(\u001b[0m\u001b[0mdata\u001b[0m\u001b[0;34m)\u001b[0m \u001b[0;34m>\u001b[0m \u001b[0;36m0\u001b[0m\u001b[0;34m:\u001b[0m\u001b[0;34m\u001b[0m\u001b[0m\n\u001b[0;32m--> 498\u001b[0;31m             \u001b[0mcount\u001b[0m \u001b[0;34m=\u001b[0m \u001b[0mself\u001b[0m\u001b[0;34m.\u001b[0m\u001b[0m_write\u001b[0m\u001b[0;34m(\u001b[0m\u001b[0mdata\u001b[0m\u001b[0;34m)\u001b[0m\u001b[0;34m\u001b[0m\u001b[0m\n\u001b[0m\u001b[1;32m    499\u001b[0m             \u001b[0mdata\u001b[0m \u001b[0;34m=\u001b[0m \u001b[0mdata\u001b[0m\u001b[0;34m[\u001b[0m\u001b[0mcount\u001b[0m\u001b[0;34m:\u001b[0m\u001b[0;34m]\u001b[0m\u001b[0;34m\u001b[0m\u001b[0m\n\u001b[1;32m    500\u001b[0m             \u001b[0;32mif\u001b[0m \u001b[0mself\u001b[0m\u001b[0;34m.\u001b[0m\u001b[0m_flags\u001b[0m \u001b[0;34m&\u001b[0m \u001b[0mself\u001b[0m\u001b[0;34m.\u001b[0m\u001b[0mFLAG_APPEND\u001b[0m\u001b[0;34m:\u001b[0m\u001b[0;34m\u001b[0m\u001b[0m\n",
      "\u001b[0;32m/home/tcloudost/Downloads/yes/lib/python2.7/site-packages/paramiko/channel.pyc\u001b[0m in \u001b[0;36m_write\u001b[0;34m(self, data)\u001b[0m\n\u001b[1;32m   1294\u001b[0m \u001b[0;34m\u001b[0m\u001b[0m\n\u001b[1;32m   1295\u001b[0m     \u001b[0;32mdef\u001b[0m \u001b[0m_write\u001b[0m\u001b[0;34m(\u001b[0m\u001b[0mself\u001b[0m\u001b[0;34m,\u001b[0m \u001b[0mdata\u001b[0m\u001b[0;34m)\u001b[0m\u001b[0;34m:\u001b[0m\u001b[0;34m\u001b[0m\u001b[0m\n\u001b[0;32m-> 1296\u001b[0;31m         \u001b[0mself\u001b[0m\u001b[0;34m.\u001b[0m\u001b[0mchannel\u001b[0m\u001b[0;34m.\u001b[0m\u001b[0msendall\u001b[0m\u001b[0;34m(\u001b[0m\u001b[0mdata\u001b[0m\u001b[0;34m)\u001b[0m\u001b[0;34m\u001b[0m\u001b[0m\n\u001b[0m\u001b[1;32m   1297\u001b[0m         \u001b[0;32mreturn\u001b[0m \u001b[0mlen\u001b[0m\u001b[0;34m(\u001b[0m\u001b[0mdata\u001b[0m\u001b[0;34m)\u001b[0m\u001b[0;34m\u001b[0m\u001b[0m\n\u001b[1;32m   1298\u001b[0m \u001b[0;34m\u001b[0m\u001b[0m\n",
      "\u001b[0;32m/home/tcloudost/Downloads/yes/lib/python2.7/site-packages/paramiko/channel.pyc\u001b[0m in \u001b[0;36msendall\u001b[0;34m(self, s)\u001b[0m\n\u001b[1;32m    811\u001b[0m         \"\"\"\n\u001b[1;32m    812\u001b[0m         \u001b[0;32mwhile\u001b[0m \u001b[0ms\u001b[0m\u001b[0;34m:\u001b[0m\u001b[0;34m\u001b[0m\u001b[0m\n\u001b[0;32m--> 813\u001b[0;31m             \u001b[0msent\u001b[0m \u001b[0;34m=\u001b[0m \u001b[0mself\u001b[0m\u001b[0;34m.\u001b[0m\u001b[0msend\u001b[0m\u001b[0;34m(\u001b[0m\u001b[0ms\u001b[0m\u001b[0;34m)\u001b[0m\u001b[0;34m\u001b[0m\u001b[0m\n\u001b[0m\u001b[1;32m    814\u001b[0m             \u001b[0ms\u001b[0m \u001b[0;34m=\u001b[0m \u001b[0ms\u001b[0m\u001b[0;34m[\u001b[0m\u001b[0msent\u001b[0m\u001b[0;34m:\u001b[0m\u001b[0;34m]\u001b[0m\u001b[0;34m\u001b[0m\u001b[0m\n\u001b[1;32m    815\u001b[0m         \u001b[0;32mreturn\u001b[0m \u001b[0mNone\u001b[0m\u001b[0;34m\u001b[0m\u001b[0m\n",
      "\u001b[0;32m/home/tcloudost/Downloads/yes/lib/python2.7/site-packages/paramiko/channel.pyc\u001b[0m in \u001b[0;36msend\u001b[0;34m(self, s)\u001b[0m\n\u001b[1;32m    765\u001b[0m         \u001b[0mm\u001b[0m\u001b[0;34m.\u001b[0m\u001b[0madd_byte\u001b[0m\u001b[0;34m(\u001b[0m\u001b[0mcMSG_CHANNEL_DATA\u001b[0m\u001b[0;34m)\u001b[0m\u001b[0;34m\u001b[0m\u001b[0m\n\u001b[1;32m    766\u001b[0m         \u001b[0mm\u001b[0m\u001b[0;34m.\u001b[0m\u001b[0madd_int\u001b[0m\u001b[0;34m(\u001b[0m\u001b[0mself\u001b[0m\u001b[0;34m.\u001b[0m\u001b[0mremote_chanid\u001b[0m\u001b[0;34m)\u001b[0m\u001b[0;34m\u001b[0m\u001b[0m\n\u001b[0;32m--> 767\u001b[0;31m         \u001b[0;32mreturn\u001b[0m \u001b[0mself\u001b[0m\u001b[0;34m.\u001b[0m\u001b[0m_send\u001b[0m\u001b[0;34m(\u001b[0m\u001b[0ms\u001b[0m\u001b[0;34m,\u001b[0m \u001b[0mm\u001b[0m\u001b[0;34m)\u001b[0m\u001b[0;34m\u001b[0m\u001b[0m\n\u001b[0m\u001b[1;32m    768\u001b[0m \u001b[0;34m\u001b[0m\u001b[0m\n\u001b[1;32m    769\u001b[0m     \u001b[0;32mdef\u001b[0m \u001b[0msend_stderr\u001b[0m\u001b[0;34m(\u001b[0m\u001b[0mself\u001b[0m\u001b[0;34m,\u001b[0m \u001b[0ms\u001b[0m\u001b[0;34m)\u001b[0m\u001b[0;34m:\u001b[0m\u001b[0;34m\u001b[0m\u001b[0m\n",
      "\u001b[0;32m/home/tcloudost/Downloads/yes/lib/python2.7/site-packages/paramiko/channel.pyc\u001b[0m in \u001b[0;36m_send\u001b[0;34m(self, s, m)\u001b[0m\n\u001b[1;32m   1132\u001b[0m                 \u001b[0;31m# this doesn't seem useful, but it is the documented behavior\u001b[0m\u001b[0;34m\u001b[0m\u001b[0;34m\u001b[0m\u001b[0m\n\u001b[1;32m   1133\u001b[0m                 \u001b[0;31m# of Socket\u001b[0m\u001b[0;34m\u001b[0m\u001b[0;34m\u001b[0m\u001b[0m\n\u001b[0;32m-> 1134\u001b[0;31m                 \u001b[0;32mraise\u001b[0m \u001b[0msocket\u001b[0m\u001b[0;34m.\u001b[0m\u001b[0merror\u001b[0m\u001b[0;34m(\u001b[0m\u001b[0;34m'Socket is closed'\u001b[0m\u001b[0;34m)\u001b[0m\u001b[0;34m\u001b[0m\u001b[0m\n\u001b[0m\u001b[1;32m   1135\u001b[0m             \u001b[0msize\u001b[0m \u001b[0;34m=\u001b[0m \u001b[0mself\u001b[0m\u001b[0;34m.\u001b[0m\u001b[0m_wait_for_send_window\u001b[0m\u001b[0;34m(\u001b[0m\u001b[0msize\u001b[0m\u001b[0;34m)\u001b[0m\u001b[0;34m\u001b[0m\u001b[0m\n\u001b[1;32m   1136\u001b[0m             \u001b[0;32mif\u001b[0m \u001b[0msize\u001b[0m \u001b[0;34m==\u001b[0m \u001b[0;36m0\u001b[0m\u001b[0;34m:\u001b[0m\u001b[0;34m\u001b[0m\u001b[0m\n",
      "\u001b[0;31merror\u001b[0m: Socket is closed"
     ]
    }
   ],
   "source": [
    "stdin.write(\"pythonrocks\")"
   ]
  },
  {
   "cell_type": "code",
   "execution_count": 30,
   "metadata": {
    "collapsed": true
   },
   "outputs": [],
   "source": [
    "stdin,stdout,stderr = ssh.exec_command(\"sudo ls /proc\")\n",
    "stdin.write(\"pythonrocks\")\n",
    "stdin.flush()"
   ]
  },
  {
   "cell_type": "code",
   "execution_count": 31,
   "metadata": {
    "collapsed": false
   },
   "outputs": [
    {
     "data": {
      "text/plain": [
       "[]"
      ]
     },
     "execution_count": 31,
     "metadata": {},
     "output_type": "execute_result"
    }
   ],
   "source": [
    "stdout.readlines()"
   ]
  },
  {
   "cell_type": "code",
   "execution_count": 32,
   "metadata": {
    "collapsed": false
   },
   "outputs": [
    {
     "data": {
      "text/plain": [
       "'sudo: no tty present and no askpass program specified\\n'"
      ]
     },
     "execution_count": 32,
     "metadata": {},
     "output_type": "execute_result"
    }
   ],
   "source": [
    "stderr.read()"
   ]
  },
  {
   "cell_type": "code",
   "execution_count": 33,
   "metadata": {
    "collapsed": false
   },
   "outputs": [
    {
     "name": "stdout",
     "output_type": "stream",
     "text": [
      "[]\n"
     ]
    }
   ],
   "source": [
    "stdin,stdout,stderr = ssh.exec_command(\"excho pythonrocks|sudo -S ls /proc\")\n",
    "print stdout.readlines()"
   ]
  },
  {
   "cell_type": "code",
   "execution_count": 34,
   "metadata": {
    "collapsed": false
   },
   "outputs": [
    {
     "name": "stdout",
     "output_type": "stream",
     "text": [
      "[u'1\\n', u'10\\n', u'1005\\n', u'1096\\n', u'11\\n', u'114\\n', u'116\\n', u'117\\n', u'118\\n', u'12\\n', u'1296\\n', u'13\\n', u'14\\n', u'144\\n', u'145\\n', u'15\\n', u'16\\n', u'1613\\n', u'1618\\n', u'1619\\n', u'1623\\n', u'1629\\n', u'1630\\n', u'1652\\n', u'17\\n', u'18\\n', u'188\\n', u'19\\n', u'19503\\n', u'1971\\n', u'2\\n', u'20\\n', u'202\\n', u'2029\\n', u'2080\\n', u'21\\n', u'2112\\n', u'212\\n', u'2122\\n', u'2143\\n', u'2144\\n', u'2153\\n', u'2160\\n', u'22\\n', u'2237\\n', u'2242\\n', u'2250\\n', u'2258\\n', u'2269\\n', u'2273\\n', u'2278\\n', u'2285\\n', u'2294\\n', u'23\\n', u'2303\\n', u'2313\\n', u'2315\\n', u'2325\\n', u'2333\\n', u'2334\\n', u'23367\\n', u'23404\\n', u'23417\\n', u'23444\\n', u'23452\\n', u'2354\\n', u'2365\\n', u'2381\\n', u'2387\\n', u'2395\\n', u'24\\n', u'2400\\n', u'2411\\n', u'2418\\n', u'24273\\n', u'2431\\n', u'2433\\n', u'2435\\n', u'2438\\n', u'2441\\n', u'2451\\n', u'2453\\n', u'2463\\n', u'24641\\n', u'24695\\n', u'2472\\n', u'2487\\n', u'24895\\n', u'24934\\n', u'25\\n', u'2503\\n', u'2504\\n', u'2510\\n', u'25150\\n', u'2516\\n', u'2522\\n', u'2523\\n', u'2524\\n', u'2527\\n', u'2539\\n', u'2543\\n', u'25614\\n', u'2562\\n', u'25647\\n', u'25661\\n', u'25767\\n', u'25832\\n', u'2596\\n', u'2597\\n', u'26\\n', u'2602\\n', u'2607\\n', u'2619\\n', u'2625\\n', u'2627\\n', u'26318\\n', u'2638\\n', u'2641\\n', u'2647\\n', u'26483\\n', u'26485\\n', u'26486\\n', u'2652\\n', u'2663\\n', u'2670\\n', u'2684\\n', u'2698\\n', u'2699\\n', u'27\\n', u'2719\\n', u'2729\\n', u'2753\\n', u'2763\\n', u'2782\\n', u'2788\\n', u'2795\\n', u'2886\\n', u'2998\\n', u'3\\n', u'30\\n', u'309\\n', u'31\\n', u'32\\n', u'322\\n', u'3223\\n', u'3226\\n', u'3228\\n', u'33\\n', u'44\\n', u'4466\\n', u'4473\\n', u'4474\\n', u'45\\n', u'4541\\n', u'4547\\n', u'46\\n', u'47\\n', u'48\\n', u'49\\n', u'5\\n', u'507\\n', u'513\\n', u'516\\n', u'54\\n', u'546\\n', u'549\\n', u'550\\n', u'551\\n', u'552\\n', u'554\\n', u'557\\n', u'590\\n', u'592\\n', u'615\\n', u'623\\n', u'636\\n', u'639\\n', u'640\\n', u'7\\n', u'731\\n', u'74\\n', u'75\\n', u'7974\\n', u'7984\\n', u'7990\\n', u'7992\\n', u'7995\\n', u'8\\n', u'850\\n', u'852\\n', u'9\\n', u'acpi\\n', u'asound\\n', u'buddyinfo\\n', u'bus\\n', u'cgroups\\n', u'cmdline\\n', u'consoles\\n', u'cpuinfo\\n', u'crypto\\n', u'devices\\n', u'diskstats\\n', u'dma\\n', u'driver\\n', u'execdomains\\n', u'fb\\n', u'filesystems\\n', u'fs\\n', u'interrupts\\n', u'iomem\\n', u'ioports\\n', u'irq\\n', u'kallsyms\\n', u'kcore\\n', u'keys\\n', u'key-users\\n', u'kmsg\\n', u'kpagecount\\n', u'kpageflags\\n', u'loadavg\\n', u'locks\\n', u'mdstat\\n', u'meminfo\\n', u'misc\\n', u'modules\\n', u'mounts\\n', u'mtrr\\n', u'net\\n', u'pagetypeinfo\\n', u'partitions\\n', u'sched_debug\\n', u'schedstat\\n', u'scsi\\n', u'self\\n', u'slabinfo\\n', u'softirqs\\n', u'stat\\n', u'swaps\\n', u'sys\\n', u'sysrq-trigger\\n', u'sysvipc\\n', u'thread-self\\n', u'timer_list\\n', u'timer_stats\\n', u'tty\\n', u'uptime\\n', u'version\\n', u'version_signature\\n', u'vmallocinfo\\n', u'vmstat\\n', u'zoneinfo\\n']\n"
     ]
    }
   ],
   "source": [
    "stdin,stdout,stderr = ssh.exec_command(\"echo pythonrocks|sudo -S ls /proc\")\n",
    "print stdout.readlines()"
   ]
  },
  {
   "cell_type": "code",
   "execution_count": null,
   "metadata": {
    "collapsed": true
   },
   "outputs": [],
   "source": [
    "#expect"
   ]
  }
 ],
 "metadata": {
  "kernelspec": {
   "display_name": "Python 2",
   "language": "python",
   "name": "python2"
  },
  "language_info": {
   "codemirror_mode": {
    "name": "ipython",
    "version": 2
   },
   "file_extension": ".py",
   "mimetype": "text/x-python",
   "name": "python",
   "nbconvert_exporter": "python",
   "pygments_lexer": "ipython2",
   "version": "2.7.13"
  }
 },
 "nbformat": 4,
 "nbformat_minor": 2
}
