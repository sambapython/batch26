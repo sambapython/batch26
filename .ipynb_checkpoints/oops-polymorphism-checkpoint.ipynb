{
 "cells": [
  {
   "cell_type": "code",
   "execution_count": 2,
   "metadata": {
    "collapsed": false
   },
   "outputs": [
    {
     "name": "stdout",
     "output_type": "stream",
     "text": [
      "<__main__.Person instance at 0x7f30d41205a8>\n"
     ]
    }
   ],
   "source": [
    "#method oveloading.\n",
    "class Person:\n",
    "    def __init__(self,name, age, height, **kwargs):\n",
    "        self.name= name\n",
    "        self.age=age\n",
    "        self.height=height\n",
    "        self.context = kwargs\n",
    "p1=Person(name=\"name1\",age=23,height=5.6)\n",
    "p2=Person(name=\"name2\",age=22,height=5.6,adhar=\"wer234234\")\n",
    "p3=Person(name=\"name2\",age=22,height=5.6,pan=\"BRCPR64857\")\n",
    "p4=Person(name=\"name2\",age=22,height=5.6,pan=\"BRCPR64857\",\n",
    "          passport=\"we234234235\")"
   ]
  },
  {
   "cell_type": "code",
   "execution_count": 6,
   "metadata": {
    "collapsed": false
   },
   "outputs": [
    {
     "name": "stdout",
     "output_type": "stream",
     "text": [
      "{'age': 23, 'height': 5.6, 'name': 'name1', 'adhar': ''}\n"
     ]
    }
   ],
   "source": [
    "#method oveloading.\n",
    "class Person:\n",
    "    def __init__(self,name, age=1, height=4, pan=\"\", adhar=\"\", passport=\"\"):\n",
    "        self.name= name\n",
    "        self.age=age\n",
    "        self.height=height\n",
    "        self.pan=pan\n",
    "        self.adhar=adhar\n",
    "        self.passport=passport\n",
    "    def get(self):\n",
    "        return {'name':self.name, 'adhar':self.adhar, 'age':self.age, \n",
    "                \"height\":self.height}\n",
    "p1=Person(name=\"name1\",age=23,height=5.6)\n",
    "p2=Person(name=\"name2\",age=22,height=5.6,adhar=\"wer234234\")\n",
    "p3=Person(name=\"name2\",age=22,height=5.6,pan=\"BRCPR64857\")\n",
    "p4=Person(name=\"name2\",age=22,height=5.6,pan=\"BRCPR64857\",\n",
    "          passport=\"we234234235\")\n",
    "print p1.get()"
   ]
  },
  {
   "cell_type": "code",
   "execution_count": 7,
   "metadata": {
    "collapsed": false
   },
   "outputs": [
    {
     "name": "stdout",
     "output_type": "stream",
     "text": [
      "{'age': 23, 'height': 5.6, 'name': 'name1', 'adhar': ''}\n"
     ]
    }
   ],
   "source": [
    "#method oveloading.\n",
    "class Person:\n",
    "    def __init__(self,name, age=1, height=4, pan=\"\", adhar=\"\", passport=\"\"):\n",
    "        self.name= name\n",
    "        self.age=age\n",
    "        self.height=height\n",
    "        self.pan=pan\n",
    "        self.adhar=adhar\n",
    "        self.passport=passport\n",
    "    \n",
    "    def get(self):\n",
    "        return {'name':self.name, 'adhar':self.adhar, 'age':self.age, \n",
    "                \"height\":self.height}\n",
    "p1=Person(name=\"name1\",age=23,height=5.6)\n",
    "p2=Person(name=\"name2\",age=22,height=5.6,adhar=\"wer234234\")\n",
    "p3=Person(name=\"name2\",age=22,height=5.6,pan=\"BRCPR64857\")\n",
    "p4=Person(name=\"name2\",age=22,height=5.6,pan=\"BRCPR64857\",\n",
    "          passport=\"we234234235\")\n",
    "print p1.get()"
   ]
  },
  {
   "cell_type": "code",
   "execution_count": 8,
   "metadata": {
    "collapsed": false
   },
   "outputs": [
    {
     "ename": "TypeError",
     "evalue": "op1() takes exactly 3 arguments (2 given)",
     "output_type": "error",
     "traceback": [
      "\u001b[0;31m---------------------------------------------------------------------------\u001b[0m",
      "\u001b[0;31mTypeError\u001b[0m                                 Traceback (most recent call last)",
      "\u001b[0;32m<ipython-input-8-3c6750c6bd59>\u001b[0m in \u001b[0;36m<module>\u001b[0;34m()\u001b[0m\n\u001b[1;32m      6\u001b[0m         \u001b[0;32mreturn\u001b[0m \u001b[0ma\u001b[0m\u001b[0;34m+\u001b[0m\u001b[0;36m10\u001b[0m\u001b[0;34m+\u001b[0m\u001b[0mb\u001b[0m\u001b[0;34m+\u001b[0m\u001b[0;36m12\u001b[0m\u001b[0;34m\u001b[0m\u001b[0m\n\u001b[1;32m      7\u001b[0m \u001b[0mo1\u001b[0m\u001b[0;34m=\u001b[0m\u001b[0mc1\u001b[0m\u001b[0;34m(\u001b[0m\u001b[0;34m)\u001b[0m\u001b[0;34m\u001b[0m\u001b[0m\n\u001b[0;32m----> 8\u001b[0;31m \u001b[0mo1\u001b[0m\u001b[0;34m.\u001b[0m\u001b[0mop1\u001b[0m\u001b[0;34m(\u001b[0m\u001b[0;36m100\u001b[0m\u001b[0;34m)\u001b[0m\u001b[0;34m\u001b[0m\u001b[0m\n\u001b[0m\u001b[1;32m      9\u001b[0m \u001b[0;34m\u001b[0m\u001b[0m\n\u001b[1;32m     10\u001b[0m \u001b[0;34m\u001b[0m\u001b[0m\n",
      "\u001b[0;31mTypeError\u001b[0m: op1() takes exactly 3 arguments (2 given)"
     ]
    }
   ],
   "source": [
    "class c1:\n",
    "    def op1(self,a):\n",
    "        return a+12\n",
    "    \n",
    "    def op1(self, a,b):\n",
    "        return a+10+b+12\n",
    "o1=c1()\n",
    "o1.op1(100)\n",
    "\n",
    "     "
   ]
  },
  {
   "cell_type": "code",
   "execution_count": 9,
   "metadata": {
    "collapsed": false
   },
   "outputs": [
    {
     "name": "stdout",
     "output_type": "stream",
     "text": [
      "100\n",
      "30\n",
      "2800\n"
     ]
    }
   ],
   "source": [
    "class c1:\n",
    "    def op1(self,*a):\n",
    "        return sum(a)\n",
    "    \n",
    "o1=c1()\n",
    "print o1.op1(100)\n",
    "print o1.op1(10,20)\n",
    "print o1.op1(100,2000,300,400)\n",
    "\n",
    "     "
   ]
  },
  {
   "cell_type": "code",
   "execution_count": 11,
   "metadata": {
    "collapsed": false
   },
   "outputs": [
    {
     "name": "stdout",
     "output_type": "stream",
     "text": [
      "this is op1\n",
      "this is op2\n"
     ]
    }
   ],
   "source": [
    "class c1:\n",
    "    def op1(self):\n",
    "        print \"this is op1\"\n",
    "    def op2(self):\n",
    "        print \"this is op2\"\n",
    "class c2(c1):\n",
    "    def otherop(self):\n",
    "        self.op1()\n",
    "        self.op2()\n",
    "o2=c2()\n",
    "o2.otherop()\n"
   ]
  },
  {
   "cell_type": "code",
   "execution_count": 12,
   "metadata": {
    "collapsed": false
   },
   "outputs": [
    {
     "name": "stdout",
     "output_type": "stream",
     "text": [
      "this is op1 modified in c2\n",
      "this is op2\n"
     ]
    }
   ],
   "source": [
    "\n",
    "class c1:\n",
    "    def op1(self):\n",
    "        print \"this is op1\"\n",
    "    def op2(self):\n",
    "        print \"this is op2\"\n",
    "class c2(c1):\n",
    "    def otherop(self):\n",
    "        self.op1_m()\n",
    "        self.op2()\n",
    "    def op1_m(self):\n",
    "        print \"this is op1 modified in c2\"\n",
    "o2=c2()\n",
    "o2.otherop()\n"
   ]
  },
  {
   "cell_type": "code",
   "execution_count": 15,
   "metadata": {
    "collapsed": false
   },
   "outputs": [
    {
     "name": "stdout",
     "output_type": "stream",
     "text": [
      "insert details to table {'name': 'name1', 'id': 2}\n",
      "delete details to table {'name': 'name1', 'id': 2}\n",
      "insert details to table {'city': 'hyd', 'street': 'st1', 'pin': 45354}\n",
      "delete details to table {'city': 'hyd', 'street': 'st1', 'pin': 45354}\n"
     ]
    }
   ],
   "source": [
    "class Model:\n",
    "    def __init__(self, **kwargs):\n",
    "        self.data=kwargs\n",
    "    def create(self):\n",
    "        print \"insert details to table\",self.data\n",
    "    def delete(self):\n",
    "        print \"delete details to table\",self.data\n",
    "class person(Model):\n",
    "    pass\n",
    "class address(Model):\n",
    "    pass\n",
    "\n",
    "t1=person(id=2,name=\"name1\")\n",
    "t1.create()\n",
    "t1.delete()\n",
    "t2=address(street=\"st1\", city=\"hyd\",pin=45354)\n",
    "t2.create()\n",
    "t2.delete()\n",
    "\n"
   ]
  },
  {
   "cell_type": "code",
   "execution_count": null,
   "metadata": {
    "collapsed": true
   },
   "outputs": [],
   "source": [
    "class Model:\n",
    "    def __init__(self, **kwargs):\n",
    "        self.data=kwargs\n",
    "    def create(self):\n",
    "        print \"insert details to table\",self.data\n",
    "    def delete(self):\n",
    "        print \"delete details to table\",self.data\n",
    "class person(Model):\n",
    "    pass\n",
    "class address(Model):\n",
    "    def verification(self):\n",
    "        return True\n",
    "\n",
    "t1=person(id=2,name=\"name1\")\n",
    "t1.create()\n",
    "t1.delete()\n",
    "t2=address(street=\"st1\", city=\"hyd\",pin=45354)\n",
    "t2.create()\n",
    "t2.delete()\n",
    "\n"
   ]
  }
 ],
 "metadata": {
  "kernelspec": {
   "display_name": "Python 2",
   "language": "python",
   "name": "python2"
  },
  "language_info": {
   "codemirror_mode": {
    "name": "ipython",
    "version": 2
   },
   "file_extension": ".py",
   "mimetype": "text/x-python",
   "name": "python",
   "nbconvert_exporter": "python",
   "pygments_lexer": "ipython2",
   "version": "2.7.13"
  }
 },
 "nbformat": 4,
 "nbformat_minor": 2
}
