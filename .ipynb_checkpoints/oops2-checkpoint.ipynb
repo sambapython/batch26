{
 "cells": [
  {
   "cell_type": "code",
   "execution_count": 1,
   "metadata": {
    "collapsed": false
   },
   "outputs": [
    {
     "name": "stdout",
     "output_type": "stream",
     "text": [
      "('Anil', 23, 213443)\n"
     ]
    }
   ],
   "source": [
    "class emp:\n",
    "    name=\"Anil\"\n",
    "    age=23\n",
    "    sal=213443\n",
    "    def get_emp(self):\n",
    "        return self.name, self.age, self.sal\n",
    "Anil=emp()\n",
    "print Anil.get_emp()"
   ]
  },
  {
   "cell_type": "code",
   "execution_count": 3,
   "metadata": {
    "collapsed": false
   },
   "outputs": [
    {
     "ename": "AttributeError",
     "evalue": "emp instance has no attribute 'adr'",
     "output_type": "error",
     "traceback": [
      "\u001b[0;31m---------------------------------------------------------------------------\u001b[0m",
      "\u001b[0;31mAttributeError\u001b[0m                            Traceback (most recent call last)",
      "\u001b[0;32m<ipython-input-3-5d3c7cb3269c>\u001b[0m in \u001b[0;36m<module>\u001b[0;34m()\u001b[0m\n\u001b[1;32m     13\u001b[0m \u001b[0mAjay\u001b[0m \u001b[0;34m=\u001b[0m \u001b[0memp\u001b[0m\u001b[0;34m(\u001b[0m\u001b[0;34m)\u001b[0m\u001b[0;34m\u001b[0m\u001b[0m\n\u001b[1;32m     14\u001b[0m \u001b[0mAjay\u001b[0m\u001b[0;34m.\u001b[0m\u001b[0mset_emp\u001b[0m\u001b[0;34m(\u001b[0m\u001b[0;34m\"Ajay\"\u001b[0m\u001b[0;34m,\u001b[0m\u001b[0;36m25\u001b[0m\u001b[0;34m,\u001b[0m\u001b[0;36m4534534\u001b[0m\u001b[0;34m)\u001b[0m\u001b[0;34m\u001b[0m\u001b[0m\n\u001b[0;32m---> 15\u001b[0;31m \u001b[0;32mprint\u001b[0m \u001b[0mAjay\u001b[0m\u001b[0;34m.\u001b[0m\u001b[0mget_emp\u001b[0m\u001b[0;34m(\u001b[0m\u001b[0;34m)\u001b[0m\u001b[0;34m\u001b[0m\u001b[0m\n\u001b[0m\u001b[1;32m     16\u001b[0m \u001b[0;32mprint\u001b[0m \u001b[0mSunil\u001b[0m\u001b[0;34m.\u001b[0m\u001b[0mget_emp\u001b[0m\u001b[0;34m(\u001b[0m\u001b[0;34m)\u001b[0m\u001b[0;34m\u001b[0m\u001b[0m\n\u001b[1;32m     17\u001b[0m \u001b[0;32mprint\u001b[0m \u001b[0mAnil\u001b[0m\u001b[0;34m.\u001b[0m\u001b[0mget_emp\u001b[0m\u001b[0;34m(\u001b[0m\u001b[0;34m)\u001b[0m\u001b[0;34m\u001b[0m\u001b[0m\n",
      "\u001b[0;32m<ipython-input-3-5d3c7cb3269c>\u001b[0m in \u001b[0;36mget_emp\u001b[0;34m(self)\u001b[0m\n\u001b[1;32m      6\u001b[0m         \u001b[0madr\u001b[0m \u001b[0;34m=\u001b[0m \u001b[0;34m\"MAithrivanam\"\u001b[0m\u001b[0;34m\u001b[0m\u001b[0m\n\u001b[1;32m      7\u001b[0m     \u001b[0;32mdef\u001b[0m \u001b[0mget_emp\u001b[0m\u001b[0;34m(\u001b[0m\u001b[0mself\u001b[0m\u001b[0;34m)\u001b[0m\u001b[0;34m:\u001b[0m\u001b[0;34m\u001b[0m\u001b[0m\n\u001b[0;32m----> 8\u001b[0;31m         \u001b[0;32mreturn\u001b[0m \u001b[0mself\u001b[0m\u001b[0;34m.\u001b[0m\u001b[0me_name\u001b[0m\u001b[0;34m,\u001b[0m \u001b[0mself\u001b[0m\u001b[0;34m.\u001b[0m\u001b[0me_age\u001b[0m\u001b[0;34m,\u001b[0m \u001b[0mself\u001b[0m\u001b[0;34m.\u001b[0m\u001b[0me_sal\u001b[0m\u001b[0;34m,\u001b[0m \u001b[0mself\u001b[0m\u001b[0;34m.\u001b[0m\u001b[0madr\u001b[0m\u001b[0;34m\u001b[0m\u001b[0m\n\u001b[0m\u001b[1;32m      9\u001b[0m \u001b[0mAnil\u001b[0m\u001b[0;34m=\u001b[0m\u001b[0memp\u001b[0m\u001b[0;34m(\u001b[0m\u001b[0;34m)\u001b[0m\u001b[0;34m\u001b[0m\u001b[0m\n\u001b[1;32m     10\u001b[0m \u001b[0mAnil\u001b[0m\u001b[0;34m.\u001b[0m\u001b[0mset_emp\u001b[0m\u001b[0;34m(\u001b[0m\u001b[0;34m\"Anil\"\u001b[0m\u001b[0;34m,\u001b[0m\u001b[0;36m23\u001b[0m\u001b[0;34m,\u001b[0m\u001b[0;36m4325345\u001b[0m\u001b[0;34m)\u001b[0m\u001b[0;34m\u001b[0m\u001b[0m\n",
      "\u001b[0;31mAttributeError\u001b[0m: emp instance has no attribute 'adr'"
     ]
    }
   ],
   "source": [
    "class emp:\n",
    "    def set_emp(self, name, age, sal):\n",
    "        self.e_name = name\n",
    "        self.e_age = age\n",
    "        self.e_sal = sal\n",
    "        adr = \"MAithrivanam\"\n",
    "    def get_emp(self):\n",
    "        return self.e_name, self.e_age, self.e_sal, self.adr\n",
    "Anil=emp()\n",
    "Anil.set_emp(\"Anil\",23,4325345)\n",
    "Sunil  = emp()\n",
    "Sunil.set_emp(\"Suni\",24,2353453)\n",
    "Ajay = emp()\n",
    "Ajay.set_emp(\"Ajay\",25,4534534)\n",
    "print Ajay.get_emp()\n",
    "print Sunil.get_emp()\n",
    "print Anil.get_emp()"
   ]
  },
  {
   "cell_type": "code",
   "execution_count": 4,
   "metadata": {
    "collapsed": false
   },
   "outputs": [
    {
     "name": "stdout",
     "output_type": "stream",
     "text": [
      "('Ajay', 25, 4534534)\n",
      "('Suni', 24, 2353453)\n",
      "('Anil', 23, 4325345)\n"
     ]
    }
   ],
   "source": [
    "class emp:\n",
    "    def set_emp(self, name, age, sal):\n",
    "        self.e_name = name\n",
    "        self.e_age = age\n",
    "        self.e_sal = sal\n",
    "        #adr = \"MAithrivanam\"\n",
    "    def get_emp(self):\n",
    "        return self.e_name, self.e_age, self.e_sal\n",
    "Anil=emp()\n",
    "Anil.set_emp(\"Anil\",23,4325345)\n",
    "Sunil  = emp()\n",
    "Sunil.set_emp(\"Suni\",24,2353453)\n",
    "Ajay = emp()\n",
    "Ajay.set_emp(\"Ajay\",25,4534534)\n",
    "print Ajay.get_emp()\n",
    "print Sunil.get_emp()\n",
    "print Anil.get_emp()"
   ]
  },
  {
   "cell_type": "code",
   "execution_count": 5,
   "metadata": {
    "collapsed": false
   },
   "outputs": [
    {
     "name": "stdout",
     "output_type": "stream",
     "text": [
      "this is constructor\n"
     ]
    }
   ],
   "source": [
    "class emp:\n",
    "    def __init__(self,):\n",
    "        print \"this is constructor\"\n",
    "    def get_emp(self):\n",
    "        return self.e_name, self.e_age, self.e_sal\n",
    "Anil=emp()\n"
   ]
  },
  {
   "cell_type": "code",
   "execution_count": 6,
   "metadata": {
    "collapsed": false
   },
   "outputs": [
    {
     "name": "stdout",
     "output_type": "stream",
     "text": [
      "('Ajay', 25, 4534534)\n",
      "('Suni', 24, 2353453)\n",
      "('Anil', 23, 23545)\n"
     ]
    }
   ],
   "source": [
    "class emp:\n",
    "    def __init__(self, name, age, sal):\n",
    "        self.name = name\n",
    "        self.age=age\n",
    "        self.sal=sal\n",
    "    def get_emp(self):\n",
    "        return self.name, self.age, self.sal\n",
    "Anil=emp('Anil',23,23545)\n",
    "Sunil = emp(\"Suni\",24,2353453)\n",
    "Ajay = emp(\"Ajay\",25,4534534)\n",
    "print Ajay.get_emp()\n",
    "print Sunil.get_emp()\n",
    "print Anil.get_emp()"
   ]
  },
  {
   "cell_type": "code",
   "execution_count": 7,
   "metadata": {
    "collapsed": false
   },
   "outputs": [
    {
     "ename": "AttributeError",
     "evalue": "emp instance has no attribute 'new_sal'",
     "output_type": "error",
     "traceback": [
      "\u001b[0;31m---------------------------------------------------------------------------\u001b[0m",
      "\u001b[0;31mAttributeError\u001b[0m                            Traceback (most recent call last)",
      "\u001b[0;32m<ipython-input-7-fb98ed63eae4>\u001b[0m in \u001b[0;36m<module>\u001b[0;34m()\u001b[0m\n\u001b[1;32m     11\u001b[0m \u001b[0mSunil\u001b[0m \u001b[0;34m=\u001b[0m \u001b[0memp\u001b[0m\u001b[0;34m(\u001b[0m\u001b[0;34m\"Suni\"\u001b[0m\u001b[0;34m,\u001b[0m\u001b[0;36m24\u001b[0m\u001b[0;34m,\u001b[0m\u001b[0;36m2353453\u001b[0m\u001b[0;34m)\u001b[0m\u001b[0;34m\u001b[0m\u001b[0m\n\u001b[1;32m     12\u001b[0m \u001b[0mAjay\u001b[0m \u001b[0;34m=\u001b[0m \u001b[0memp\u001b[0m\u001b[0;34m(\u001b[0m\u001b[0;34m\"Ajay\"\u001b[0m\u001b[0;34m,\u001b[0m\u001b[0;36m25\u001b[0m\u001b[0;34m,\u001b[0m\u001b[0;36m4534534\u001b[0m\u001b[0;34m)\u001b[0m\u001b[0;34m\u001b[0m\u001b[0m\n\u001b[0;32m---> 13\u001b[0;31m \u001b[0;32mprint\u001b[0m \u001b[0mAjay\u001b[0m\u001b[0;34m.\u001b[0m\u001b[0mget_emp\u001b[0m\u001b[0;34m(\u001b[0m\u001b[0;34m)\u001b[0m\u001b[0;34m\u001b[0m\u001b[0m\n\u001b[0m\u001b[1;32m     14\u001b[0m \u001b[0;32mprint\u001b[0m \u001b[0mSunil\u001b[0m\u001b[0;34m.\u001b[0m\u001b[0mget_emp\u001b[0m\u001b[0;34m(\u001b[0m\u001b[0;34m)\u001b[0m\u001b[0;34m\u001b[0m\u001b[0m\n\u001b[1;32m     15\u001b[0m \u001b[0;32mprint\u001b[0m \u001b[0mAnil\u001b[0m\u001b[0;34m.\u001b[0m\u001b[0mget_emp\u001b[0m\u001b[0;34m(\u001b[0m\u001b[0;34m)\u001b[0m\u001b[0;34m\u001b[0m\u001b[0m\n",
      "\u001b[0;32m<ipython-input-7-fb98ed63eae4>\u001b[0m in \u001b[0;36mget_emp\u001b[0;34m(self)\u001b[0m\n\u001b[1;32m      7\u001b[0m         \u001b[0mself\u001b[0m\u001b[0;34m.\u001b[0m\u001b[0mnew_sal\u001b[0m \u001b[0;34m=\u001b[0m \u001b[0mself\u001b[0m\u001b[0;34m.\u001b[0m\u001b[0msal\u001b[0m\u001b[0;34m+\u001b[0m\u001b[0;36m0.1\u001b[0m\u001b[0;34m*\u001b[0m\u001b[0mself\u001b[0m\u001b[0;34m.\u001b[0m\u001b[0msal\u001b[0m\u001b[0;34m\u001b[0m\u001b[0m\n\u001b[1;32m      8\u001b[0m     \u001b[0;32mdef\u001b[0m \u001b[0mget_emp\u001b[0m\u001b[0;34m(\u001b[0m\u001b[0mself\u001b[0m\u001b[0;34m)\u001b[0m\u001b[0;34m:\u001b[0m\u001b[0;34m\u001b[0m\u001b[0m\n\u001b[0;32m----> 9\u001b[0;31m         \u001b[0;32mreturn\u001b[0m \u001b[0mself\u001b[0m\u001b[0;34m.\u001b[0m\u001b[0mname\u001b[0m\u001b[0;34m,\u001b[0m \u001b[0mself\u001b[0m\u001b[0;34m.\u001b[0m\u001b[0mage\u001b[0m\u001b[0;34m,\u001b[0m \u001b[0mself\u001b[0m\u001b[0;34m.\u001b[0m\u001b[0msal\u001b[0m\u001b[0;34m,\u001b[0m \u001b[0mself\u001b[0m\u001b[0;34m.\u001b[0m\u001b[0mnew_sal\u001b[0m\u001b[0;34m\u001b[0m\u001b[0m\n\u001b[0m\u001b[1;32m     10\u001b[0m \u001b[0mAnil\u001b[0m\u001b[0;34m=\u001b[0m\u001b[0memp\u001b[0m\u001b[0;34m(\u001b[0m\u001b[0;34m'Anil'\u001b[0m\u001b[0;34m,\u001b[0m\u001b[0;36m23\u001b[0m\u001b[0;34m,\u001b[0m\u001b[0;36m23545\u001b[0m\u001b[0;34m)\u001b[0m\u001b[0;34m\u001b[0m\u001b[0m\n\u001b[1;32m     11\u001b[0m \u001b[0mSunil\u001b[0m \u001b[0;34m=\u001b[0m \u001b[0memp\u001b[0m\u001b[0;34m(\u001b[0m\u001b[0;34m\"Suni\"\u001b[0m\u001b[0;34m,\u001b[0m\u001b[0;36m24\u001b[0m\u001b[0;34m,\u001b[0m\u001b[0;36m2353453\u001b[0m\u001b[0;34m)\u001b[0m\u001b[0;34m\u001b[0m\u001b[0m\n",
      "\u001b[0;31mAttributeError\u001b[0m: emp instance has no attribute 'new_sal'"
     ]
    }
   ],
   "source": [
    "class emp:\n",
    "    def __init__(self, name, age, sal):\n",
    "        self.name = name\n",
    "        self.age=age\n",
    "        self.sal=sal\n",
    "    def sal_calc(self):\n",
    "        self.new_sal = self.sal+0.1*self.sal\n",
    "    def get_emp(self):\n",
    "        return self.name, self.age, self.sal, self.new_sal\n",
    "Anil=emp('Anil',23,23545)\n",
    "Sunil = emp(\"Suni\",24,2353453)\n",
    "Ajay = emp(\"Ajay\",25,4534534)\n",
    "print Ajay.get_emp()\n",
    "print Sunil.get_emp()\n",
    "print Anil.get_emp()"
   ]
  },
  {
   "cell_type": "code",
   "execution_count": 8,
   "metadata": {
    "collapsed": false
   },
   "outputs": [
    {
     "name": "stdout",
     "output_type": "stream",
     "text": [
      "('Ajay', 25, 4534534, 4987987.4)\n",
      "('Suni', 24, 2353453, 2588798.3)\n",
      "('Anil', 23, 23545, 25899.5)\n"
     ]
    }
   ],
   "source": [
    "class emp:\n",
    "    def __init__(self, name, age, sal):\n",
    "        self.name = name\n",
    "        self.age=age\n",
    "        self.sal=sal\n",
    "    def sal_calc(self):\n",
    "        self.new_sal = self.sal+0.1*self.sal\n",
    "    def get_emp(self):\n",
    "        return self.name, self.age, self.sal, self.new_sal\n",
    "Anil=emp('Anil',23,23545)\n",
    "Sunil = emp(\"Suni\",24,2353453)\n",
    "Ajay = emp(\"Ajay\",25,4534534)\n",
    "Anil.sal_calc()\n",
    "Sunil.sal_calc()\n",
    "Ajay.sal_calc()\n",
    "print Ajay.get_emp()\n",
    "print Sunil.get_emp()\n",
    "print Anil.get_emp()"
   ]
  },
  {
   "cell_type": "code",
   "execution_count": 10,
   "metadata": {
    "collapsed": false
   },
   "outputs": [
    {
     "name": "stdout",
     "output_type": "stream",
     "text": [
      "('Ajay', 25, 4534534, 4987987.4)\n",
      "('Suni', 24, 2353453, 2588798.3)\n",
      "('Anil', 23, 23545, 25899.5)\n"
     ]
    }
   ],
   "source": [
    "class emp:\n",
    "    def __init__(self, name, age, sal):\n",
    "        self.name = name\n",
    "        self.age=age\n",
    "        self.sal=sal\n",
    "        self.new_sal = self.sal_calc()\n",
    "    def sal_calc(self):\n",
    "        return self.sal+0.1*self.sal\n",
    "    def get_emp(self):\n",
    "        return self.name, self.age, self.sal, self.new_sal\n",
    "Anil=emp('Anil',23,23545)\n",
    "Sunil = emp(\"Suni\",24,2353453)\n",
    "Ajay = emp(\"Ajay\",25,4534534)\n",
    "print Ajay.get_emp()\n",
    "print Sunil.get_emp()\n",
    "print Anil.get_emp()"
   ]
  },
  {
   "cell_type": "code",
   "execution_count": null,
   "metadata": {
    "collapsed": true
   },
   "outputs": [],
   "source": []
  }
 ],
 "metadata": {
  "kernelspec": {
   "display_name": "Python 2",
   "language": "python",
   "name": "python2"
  },
  "language_info": {
   "codemirror_mode": {
    "name": "ipython",
    "version": 2
   },
   "file_extension": ".py",
   "mimetype": "text/x-python",
   "name": "python",
   "nbconvert_exporter": "python",
   "pygments_lexer": "ipython2",
   "version": "2.7.13"
  }
 },
 "nbformat": 4,
 "nbformat_minor": 2
}
