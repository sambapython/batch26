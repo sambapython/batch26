{
 "cells": [
  {
   "cell_type": "code",
   "execution_count": 1,
   "metadata": {
    "collapsed": false
   },
   "outputs": [
    {
     "name": "stdout",
     "output_type": "stream",
     "text": [
      "a=10,b=20\n",
      "30\n"
     ]
    }
   ],
   "source": [
    "def fun(a,b):\n",
    "    print \"a=%s,b=%s\"%(a,b)\n",
    "    return a+b\n",
    "\n",
    "print fun(10,20)"
   ]
  },
  {
   "cell_type": "code",
   "execution_count": 2,
   "metadata": {
    "collapsed": false
   },
   "outputs": [
    {
     "ename": "TypeError",
     "evalue": "fun() takes exactly 2 arguments (3 given)",
     "output_type": "error",
     "traceback": [
      "\u001b[0;31m---------------------------------------------------------------------------\u001b[0m",
      "\u001b[0;31mTypeError\u001b[0m                                 Traceback (most recent call last)",
      "\u001b[0;32m<ipython-input-2-c262575ca5b4>\u001b[0m in \u001b[0;36m<module>\u001b[0;34m()\u001b[0m\n\u001b[0;32m----> 1\u001b[0;31m \u001b[0;32mprint\u001b[0m \u001b[0mfun\u001b[0m\u001b[0;34m(\u001b[0m\u001b[0;36m10\u001b[0m\u001b[0;34m,\u001b[0m\u001b[0;36m20\u001b[0m\u001b[0;34m,\u001b[0m\u001b[0;36m30\u001b[0m\u001b[0;34m)\u001b[0m\u001b[0;34m\u001b[0m\u001b[0m\n\u001b[0m",
      "\u001b[0;31mTypeError\u001b[0m: fun() takes exactly 2 arguments (3 given)"
     ]
    }
   ],
   "source": [
    "print fun(10,20,30)"
   ]
  },
  {
   "cell_type": "code",
   "execution_count": 3,
   "metadata": {
    "collapsed": false
   },
   "outputs": [
    {
     "ename": "TypeError",
     "evalue": "fun() takes exactly 2 arguments (1 given)",
     "output_type": "error",
     "traceback": [
      "\u001b[0;31m---------------------------------------------------------------------------\u001b[0m",
      "\u001b[0;31mTypeError\u001b[0m                                 Traceback (most recent call last)",
      "\u001b[0;32m<ipython-input-3-c7b96fb3afe3>\u001b[0m in \u001b[0;36m<module>\u001b[0;34m()\u001b[0m\n\u001b[0;32m----> 1\u001b[0;31m \u001b[0;32mprint\u001b[0m \u001b[0mfun\u001b[0m\u001b[0;34m(\u001b[0m\u001b[0;36m10\u001b[0m\u001b[0;34m)\u001b[0m\u001b[0;34m\u001b[0m\u001b[0m\n\u001b[0m",
      "\u001b[0;31mTypeError\u001b[0m: fun() takes exactly 2 arguments (1 given)"
     ]
    }
   ],
   "source": [
    "print fun(10)"
   ]
  },
  {
   "cell_type": "code",
   "execution_count": 4,
   "metadata": {
    "collapsed": false
   },
   "outputs": [
    {
     "name": "stdout",
     "output_type": "stream",
     "text": [
      "a=10,b=20,c=0,d=0,e=0\n",
      "30\n",
      "a=10,b=20,c=30,d=0,e=0\n",
      "60\n",
      "a=10,b=20,c=40,d=50,e=0\n",
      "120\n",
      "a=10,b=20,c=30,d=40,e=50\n",
      "150\n"
     ]
    }
   ],
   "source": [
    "#default parameters\n",
    "def fun(a,b,c=0,d=0,e=0):\n",
    "    print \"a=%s,b=%s,c=%s,d=%s,e=%s\"%(a,b,c,d,e)\n",
    "    return a+b+c+d+e\n",
    "\n",
    "print fun(10,20)\n",
    "print fun(10,20,30)\n",
    "print fun(10,20,40,50)\n",
    "print fun(10,20,30,40,50)"
   ]
  },
  {
   "cell_type": "code",
   "execution_count": 6,
   "metadata": {
    "collapsed": false
   },
   "outputs": [
    {
     "name": "stdout",
     "output_type": "stream",
     "text": [
      "a=0,b=0,c=0,d=0,e=0\n",
      "0\n",
      "a=10,b=0,c=0,d=0,e=0\n",
      "10\n",
      "a=10,b=20,c=0,d=0,e=0\n",
      "30\n",
      "a=10,b=20,c=30,d=0,e=0\n",
      "60\n",
      "a=10,b=20,c=40,d=50,e=0\n",
      "120\n",
      "a=10,b=20,c=30,d=40,e=50\n",
      "150\n"
     ]
    }
   ],
   "source": [
    "#default parameters\n",
    "def fun(a=0,b=0,c=0,d=0,e=0):\n",
    "    print \"a=%s,b=%s,c=%s,d=%s,e=%s\"%(a,b,c,d,e)\n",
    "    return a+b+c+d+e\n",
    "print fun()\n",
    "print fun(10)\n",
    "print fun(10,20)\n",
    "print fun(10,20,30)\n",
    "print fun(10,20,40,50)\n",
    "print fun(10,20,30,40,50)"
   ]
  },
  {
   "cell_type": "code",
   "execution_count": 8,
   "metadata": {
    "collapsed": false
   },
   "outputs": [
    {
     "ename": "TypeError",
     "evalue": "fun() takes at most 5 arguments (6 given)",
     "output_type": "error",
     "traceback": [
      "\u001b[0;31m---------------------------------------------------------------------------\u001b[0m",
      "\u001b[0;31mTypeError\u001b[0m                                 Traceback (most recent call last)",
      "\u001b[0;32m<ipython-input-8-e0ac7941f7ea>\u001b[0m in \u001b[0;36m<module>\u001b[0;34m()\u001b[0m\n\u001b[0;32m----> 1\u001b[0;31m \u001b[0;32mprint\u001b[0m \u001b[0mfun\u001b[0m\u001b[0;34m(\u001b[0m\u001b[0;36m10\u001b[0m\u001b[0;34m,\u001b[0m\u001b[0;36m20\u001b[0m\u001b[0;34m,\u001b[0m\u001b[0;36m30\u001b[0m\u001b[0;34m,\u001b[0m\u001b[0;36m40\u001b[0m\u001b[0;34m,\u001b[0m\u001b[0;36m50\u001b[0m\u001b[0;34m,\u001b[0m\u001b[0;36m60\u001b[0m\u001b[0;34m)\u001b[0m\u001b[0;34m\u001b[0m\u001b[0m\n\u001b[0m",
      "\u001b[0;31mTypeError\u001b[0m: fun() takes at most 5 arguments (6 given)"
     ]
    }
   ],
   "source": [
    "print fun(10,20,30,40,50,60)"
   ]
  },
  {
   "cell_type": "code",
   "execution_count": 9,
   "metadata": {
    "collapsed": false
   },
   "outputs": [
    {
     "name": "stdout",
     "output_type": "stream",
     "text": [
      "stu_id=1,amount=10000,adhar_id=asdfds82942,pan_num=BRCP5381P\n",
      "processing\n"
     ]
    }
   ],
   "source": [
    "#default parameters\n",
    "def payment_school_fee(stu_id,amount=0,adhar_id=\"\", pan_num=\"\"):\n",
    "    print \"stu_id=%s,amount=%s,adhar_id=%s,pan_num=%s\"%(stu_id,\n",
    "                                                        amount,\n",
    "                                                        adhar_id,\n",
    "                                                        pan_num)\n",
    "    print \"processing\"\n",
    "payment_school_fee(1,10000,\"asdfds82942\",\"BRCP5381P\")"
   ]
  },
  {
   "cell_type": "code",
   "execution_count": 10,
   "metadata": {
    "collapsed": false
   },
   "outputs": [
    {
     "name": "stdout",
     "output_type": "stream",
     "text": [
      "stu_id=1,amount=10000,adhar_id=,pan_num=BRCP5381P\n",
      "processing\n"
     ]
    }
   ],
   "source": [
    "#default parameters\n",
    "def payment_school_fee(stu_id,amount=0,adhar_id=\"\", pan_num=\"\"):\n",
    "    print \"stu_id=%s,amount=%s,adhar_id=%s,pan_num=%s\"%(stu_id,\n",
    "                                                        amount,\n",
    "                                                        adhar_id,\n",
    "                                                        pan_num)\n",
    "    print \"processing\"\n",
    "payment_school_fee(1,10000,\"\",\"BRCPR\")"
   ]
  },
  {
   "cell_type": "code",
   "execution_count": 11,
   "metadata": {
    "collapsed": true
   },
   "outputs": [],
   "source": [
    "import pandas as pd"
   ]
  },
  {
   "cell_type": "code",
   "execution_count": 12,
   "metadata": {
    "collapsed": true
   },
   "outputs": [],
   "source": [
    "pd.read_csv?"
   ]
  },
  {
   "cell_type": "code",
   "execution_count": 13,
   "metadata": {
    "collapsed": false
   },
   "outputs": [
    {
     "name": "stdout",
     "output_type": "stream",
     "text": [
      "stu_id=1,amount=10000,adhar_id=,pan_num=BRCP5381P\n",
      "processing\n"
     ]
    }
   ],
   "source": [
    "#default parameters\n",
    "def payment_school_fee(stu_id,amount=0,adhar_id=\"\", pan_num=\"\"):\n",
    "    print \"stu_id=%s,amount=%s,adhar_id=%s,pan_num=%s\"%(stu_id,\n",
    "                                                        amount,\n",
    "                                                        adhar_id,\n",
    "                                                        pan_num)\n",
    "    print \"processing\"\n",
    "# keyword arguments\n",
    "payment_school_fee(1,10000, pan_num=\"BRCP5381P\")"
   ]
  },
  {
   "cell_type": "code",
   "execution_count": 14,
   "metadata": {
    "collapsed": false
   },
   "outputs": [
    {
     "name": "stdout",
     "output_type": "stream",
     "text": [
      "stu_id=1,amount=0,adhar_id=,pan_num=BRCP5381P\n",
      "processing\n"
     ]
    }
   ],
   "source": [
    "#default parameters\n",
    "def payment_school_fee(stu_id,amount=0.0,adhar_id=\"\", pan_num=\"\"):\n",
    "    print \"stu_id=%s,amount=%s,adhar_id=%s,pan_num=%s\"%(stu_id,\n",
    "                                                        amount,\n",
    "                                                        adhar_id,\n",
    "                                                        pan_num)\n",
    "    print \"processing\"\n",
    "# keyword arguments\n",
    "payment_school_fee(1, pan_num=\"BRCP5381P\")"
   ]
  },
  {
   "cell_type": "code",
   "execution_count": 15,
   "metadata": {
    "collapsed": true
   },
   "outputs": [],
   "source": [
    "import pandas as pd"
   ]
  },
  {
   "cell_type": "code",
   "execution_count": 16,
   "metadata": {
    "collapsed": true
   },
   "outputs": [],
   "source": [
    "pd.read_csv?"
   ]
  },
  {
   "cell_type": "code",
   "execution_count": 17,
   "metadata": {
    "collapsed": false
   },
   "outputs": [
    {
     "name": "stdout",
     "output_type": "stream",
     "text": [
      "a=10,b=0,c=20,d=0\n",
      "30\n"
     ]
    }
   ],
   "source": [
    "def fun(a=10,b=0,c=20,d=0):\n",
    "    print \"a=%s,b=%s,c=%s,d=%s\"%(a,b,c,d)\n",
    "    return a+b+c+d\n",
    "print fun()\n"
   ]
  },
  {
   "cell_type": "code",
   "execution_count": 18,
   "metadata": {
    "collapsed": false
   },
   "outputs": [
    {
     "name": "stdout",
     "output_type": "stream",
     "text": [
      "a=10,b=20,c=20,d=0\n",
      "50\n"
     ]
    }
   ],
   "source": [
    "def fun(a=10,b=0,c=20,d=0):\n",
    "    print \"a=%s,b=%s,c=%s,d=%s\"%(a,b,c,d)\n",
    "    return a+b+c+d\n",
    "print fun(10,20)"
   ]
  },
  {
   "cell_type": "code",
   "execution_count": 19,
   "metadata": {
    "collapsed": false
   },
   "outputs": [
    {
     "name": "stdout",
     "output_type": "stream",
     "text": [
      "a=10,b=0,c=20,d=40\n",
      "70\n"
     ]
    }
   ],
   "source": [
    "def fun(a=10,b=0,c=20,d=0):\n",
    "    print \"a=%s,b=%s,c=%s,d=%s\"%(a,b,c,d)\n",
    "    return a+b+c+d\n",
    "print fun(10,0,20,40)"
   ]
  },
  {
   "cell_type": "code",
   "execution_count": 20,
   "metadata": {
    "collapsed": false
   },
   "outputs": [
    {
     "name": "stdout",
     "output_type": "stream",
     "text": [
      "a=100,b=0,c=20,d=200\n",
      "320\n"
     ]
    }
   ],
   "source": [
    "print fun(a=100,d=200)"
   ]
  },
  {
   "cell_type": "code",
   "execution_count": 21,
   "metadata": {
    "collapsed": false
   },
   "outputs": [
    {
     "name": "stdout",
     "output_type": "stream",
     "text": [
      "a=200,b=0,c=20,d=100\n",
      "320\n"
     ]
    }
   ],
   "source": [
    "print fun(d=100,a=200)"
   ]
  },
  {
   "cell_type": "code",
   "execution_count": 22,
   "metadata": {
    "collapsed": false
   },
   "outputs": [
    {
     "ename": "SyntaxError",
     "evalue": "non-default argument follows default argument (<ipython-input-22-ed81ced78b01>, line 1)",
     "output_type": "error",
     "traceback": [
      "\u001b[0;36m  File \u001b[0;32m\"<ipython-input-22-ed81ced78b01>\"\u001b[0;36m, line \u001b[0;32m1\u001b[0m\n\u001b[0;31m    def fun(a=10,b,c=20,d=0):\u001b[0m\n\u001b[0;31mSyntaxError\u001b[0m\u001b[0;31m:\u001b[0m non-default argument follows default argument\n"
     ]
    }
   ],
   "source": [
    "def fun(a=10,b,c=20,d=0):\n",
    "    print \"a=%s,b=%s,c=%s,d=%s\"%(a,b,c,d)\n",
    "    return a+b+c+d\n",
    "print fun(10,0,20,40)"
   ]
  },
  {
   "cell_type": "code",
   "execution_count": 23,
   "metadata": {
    "collapsed": false
   },
   "outputs": [
    {
     "name": "stdout",
     "output_type": "stream",
     "text": [
      "a=0,b=10,c=20,d=40\n",
      "70\n"
     ]
    }
   ],
   "source": [
    "def fun(b,a=10,c=20,d=0):\n",
    "    print \"a=%s,b=%s,c=%s,d=%s\"%(a,b,c,d)\n",
    "    return a+b+c+d\n",
    "print fun(10,0,20,40)"
   ]
  },
  {
   "cell_type": "code",
   "execution_count": 24,
   "metadata": {
    "collapsed": false
   },
   "outputs": [
    {
     "name": "stdout",
     "output_type": "stream",
     "text": [
      "a=200,b=20,c=20,d=40\n",
      "280\n"
     ]
    }
   ],
   "source": [
    "def fun(b,a=10,c=20,d=0):\n",
    "    print \"a=%s,b=%s,c=%s,d=%s\"%(a,b,c,d)\n",
    "    return a+b+c+d\n",
    "print fun(d=40,b=20,a=200)"
   ]
  },
  {
   "cell_type": "code",
   "execution_count": 25,
   "metadata": {
    "collapsed": false
   },
   "outputs": [
    {
     "name": "stdout",
     "output_type": "stream",
     "text": [
      "a=20,b=40,c=200,d=0\n",
      "260\n"
     ]
    }
   ],
   "source": [
    "def fun(b,a=10,c=20,d=0):\n",
    "    print \"a=%s,b=%s,c=%s,d=%s\"%(a,b,c,d)\n",
    "    return a+b+c+d\n",
    "print fun(40,20,200)"
   ]
  },
  {
   "cell_type": "code",
   "execution_count": 26,
   "metadata": {
    "collapsed": false
   },
   "outputs": [
    {
     "ename": "TypeError",
     "evalue": "fun() got an unexpected keyword argument 'e'",
     "output_type": "error",
     "traceback": [
      "\u001b[0;31m---------------------------------------------------------------------------\u001b[0m",
      "\u001b[0;31mTypeError\u001b[0m                                 Traceback (most recent call last)",
      "\u001b[0;32m<ipython-input-26-be1161bf6e2a>\u001b[0m in \u001b[0;36m<module>\u001b[0;34m()\u001b[0m\n\u001b[1;32m      2\u001b[0m     \u001b[0;32mprint\u001b[0m \u001b[0;34m\"a=%s,b=%s,c=%s,d=%s\"\u001b[0m\u001b[0;34m%\u001b[0m\u001b[0;34m(\u001b[0m\u001b[0ma\u001b[0m\u001b[0;34m,\u001b[0m\u001b[0mb\u001b[0m\u001b[0;34m,\u001b[0m\u001b[0mc\u001b[0m\u001b[0;34m,\u001b[0m\u001b[0md\u001b[0m\u001b[0;34m)\u001b[0m\u001b[0;34m\u001b[0m\u001b[0m\n\u001b[1;32m      3\u001b[0m     \u001b[0;32mreturn\u001b[0m \u001b[0ma\u001b[0m\u001b[0;34m+\u001b[0m\u001b[0mb\u001b[0m\u001b[0;34m+\u001b[0m\u001b[0mc\u001b[0m\u001b[0;34m+\u001b[0m\u001b[0md\u001b[0m\u001b[0;34m\u001b[0m\u001b[0m\n\u001b[0;32m----> 4\u001b[0;31m \u001b[0;32mprint\u001b[0m \u001b[0mfun\u001b[0m\u001b[0;34m(\u001b[0m\u001b[0md\u001b[0m\u001b[0;34m=\u001b[0m\u001b[0;36m40\u001b[0m\u001b[0;34m,\u001b[0m\u001b[0mb\u001b[0m\u001b[0;34m=\u001b[0m\u001b[0;36m20\u001b[0m\u001b[0;34m,\u001b[0m\u001b[0ma\u001b[0m\u001b[0;34m=\u001b[0m\u001b[0;36m200\u001b[0m\u001b[0;34m,\u001b[0m\u001b[0me\u001b[0m\u001b[0;34m=\u001b[0m\u001b[0;36m50\u001b[0m\u001b[0;34m)\u001b[0m\u001b[0;34m\u001b[0m\u001b[0m\n\u001b[0m",
      "\u001b[0;31mTypeError\u001b[0m: fun() got an unexpected keyword argument 'e'"
     ]
    }
   ],
   "source": [
    "def fun(b,a=10,c=20,d=0):\n",
    "    print \"a=%s,b=%s,c=%s,d=%s\"%(a,b,c,d)\n",
    "    return a+b+c+d\n",
    "print fun(d=40,b=20,a=200,e=50)"
   ]
  },
  {
   "cell_type": "code",
   "execution_count": 29,
   "metadata": {
    "collapsed": false
   },
   "outputs": [
    {
     "name": "stdout",
     "output_type": "stream",
     "text": [
      "[1, 2, 10, 30, 40, 50]\n"
     ]
    },
    {
     "data": {
      "text/plain": [
       "133"
      ]
     },
     "execution_count": 29,
     "metadata": {},
     "output_type": "execute_result"
    }
   ],
   "source": [
    "def fun(a):\n",
    "    '''\n",
    "    returns sum of elements passed\n",
    "    :params: a: list:\n",
    "    :return: int: sum of the given elements\n",
    "    '''\n",
    "    print a\n",
    "    return sum(a)\n",
    "fun([1,2,10,30,40,50])"
   ]
  },
  {
   "cell_type": "code",
   "execution_count": 28,
   "metadata": {
    "collapsed": true
   },
   "outputs": [],
   "source": [
    "fun?"
   ]
  },
  {
   "cell_type": "code",
   "execution_count": 31,
   "metadata": {
    "collapsed": false
   },
   "outputs": [
    {
     "name": "stdout",
     "output_type": "stream",
     "text": [
      "() <type 'tuple'>\n",
      "None\n",
      "(10,) <type 'tuple'>\n",
      "None\n",
      "(10, 20, 30, 40, 50, 5) <type 'tuple'>\n",
      "None\n"
     ]
    }
   ],
   "source": [
    "#*args\n",
    "def fun(*a):\n",
    "    print a,\n",
    "    print type(a)\n",
    "print fun()\n",
    "print fun(10)\n",
    "print fun(10,20,30,40,50,5)"
   ]
  },
  {
   "cell_type": "code",
   "execution_count": 32,
   "metadata": {
    "collapsed": false
   },
   "outputs": [
    {
     "name": "stdout",
     "output_type": "stream",
     "text": [
      "a=10,b=20,c=()\n",
      "a=10,b=20,c=(30, 40)\n",
      "a=10,b=20,c=(400, 500, 600, 700, 800, 900)\n"
     ]
    }
   ],
   "source": [
    "def fun(a,b,*c):\n",
    "    print \"a=%s,b=%s,c=%s\"%(a,b,c)\n",
    "fun(10,20)\n",
    "fun(10,20,30,40,)\n",
    "fun(10,20,400,500,600,700,800,900)"
   ]
  },
  {
   "cell_type": "code",
   "execution_count": 33,
   "metadata": {
    "collapsed": false
   },
   "outputs": [
    {
     "ename": "SyntaxError",
     "evalue": "non-keyword arg after keyword arg (<ipython-input-33-3c3a3837ad85>, line 6)",
     "output_type": "error",
     "traceback": [
      "\u001b[0;36m  File \u001b[0;32m\"<ipython-input-33-3c3a3837ad85>\"\u001b[0;36m, line \u001b[0;32m6\u001b[0m\n\u001b[0;31m    fun(a=100,b=300,400,500,600)\u001b[0m\n\u001b[0;31mSyntaxError\u001b[0m\u001b[0;31m:\u001b[0m non-keyword arg after keyword arg\n"
     ]
    }
   ],
   "source": [
    "def fun(a,b,*c):\n",
    "    print \"a=%s,b=%s,c=%s\"%(a,b,c)\n",
    "fun(10,20)\n",
    "fun(10,20,30,40,)\n",
    "fun(10,20,400,500,600,700,800,900)\n",
    "fun(a=100,b=300,400,500,600)"
   ]
  },
  {
   "cell_type": "code",
   "execution_count": 34,
   "metadata": {
    "collapsed": false
   },
   "outputs": [
    {
     "name": "stdout",
     "output_type": "stream",
     "text": [
      "a=%s, b=%s, d=%s {'c': 400, 'e': 500, 'f': 600}\n",
      "<type 'dict'>\n"
     ]
    }
   ],
   "source": [
    "def fun(a,b,**d):\n",
    "    print \"a=%s, b=%s, d=%s\",d\n",
    "    print type(d)\n",
    "    \n",
    "fun(b=200,a=300,c=400,e=500,f=600)\n",
    "    "
   ]
  },
  {
   "cell_type": "code",
   "execution_count": 35,
   "metadata": {
    "collapsed": false
   },
   "outputs": [
    {
     "ename": "TypeError",
     "evalue": "fun() got an unexpected keyword argument 'c'",
     "output_type": "error",
     "traceback": [
      "\u001b[0;31m---------------------------------------------------------------------------\u001b[0m",
      "\u001b[0;31mTypeError\u001b[0m                                 Traceback (most recent call last)",
      "\u001b[0;32m<ipython-input-35-40e889a78d00>\u001b[0m in \u001b[0;36m<module>\u001b[0;34m()\u001b[0m\n\u001b[1;32m      1\u001b[0m \u001b[0;32mdef\u001b[0m \u001b[0mfun\u001b[0m\u001b[0;34m(\u001b[0m\u001b[0;34m*\u001b[0m\u001b[0ma\u001b[0m\u001b[0;34m)\u001b[0m\u001b[0;34m:\u001b[0m\u001b[0;34m\u001b[0m\u001b[0m\n\u001b[1;32m      2\u001b[0m     \u001b[0;32mprint\u001b[0m \u001b[0ma\u001b[0m\u001b[0;34m\u001b[0m\u001b[0m\n\u001b[0;32m----> 3\u001b[0;31m \u001b[0mfun\u001b[0m\u001b[0;34m(\u001b[0m\u001b[0mc\u001b[0m\u001b[0;34m=\u001b[0m\u001b[0;36m200\u001b[0m\u001b[0;34m,\u001b[0m\u001b[0md\u001b[0m\u001b[0;34m=\u001b[0m\u001b[0;36m300\u001b[0m\u001b[0;34m)\u001b[0m\u001b[0;34m\u001b[0m\u001b[0m\n\u001b[0m",
      "\u001b[0;31mTypeError\u001b[0m: fun() got an unexpected keyword argument 'c'"
     ]
    }
   ],
   "source": [
    "def fun(*a):\n",
    "    print a\n",
    "fun(c=200,d=300)"
   ]
  },
  {
   "cell_type": "code",
   "execution_count": 36,
   "metadata": {
    "collapsed": false
   },
   "outputs": [
    {
     "name": "stdout",
     "output_type": "stream",
     "text": [
      "{'c': 200, 'd': 300}\n"
     ]
    }
   ],
   "source": [
    "def fun(**a):\n",
    "    print a\n",
    "fun(c=200,d=300)"
   ]
  },
  {
   "cell_type": "code",
   "execution_count": 37,
   "metadata": {
    "collapsed": false
   },
   "outputs": [
    {
     "ename": "TypeError",
     "evalue": "fun() takes exactly 0 arguments (2 given)",
     "output_type": "error",
     "traceback": [
      "\u001b[0;31m---------------------------------------------------------------------------\u001b[0m",
      "\u001b[0;31mTypeError\u001b[0m                                 Traceback (most recent call last)",
      "\u001b[0;32m<ipython-input-37-5f6167696f0a>\u001b[0m in \u001b[0;36m<module>\u001b[0;34m()\u001b[0m\n\u001b[1;32m      1\u001b[0m \u001b[0;32mdef\u001b[0m \u001b[0mfun\u001b[0m\u001b[0;34m(\u001b[0m\u001b[0;34m**\u001b[0m\u001b[0ma\u001b[0m\u001b[0;34m)\u001b[0m\u001b[0;34m:\u001b[0m\u001b[0;34m\u001b[0m\u001b[0m\n\u001b[1;32m      2\u001b[0m     \u001b[0;32mprint\u001b[0m \u001b[0ma\u001b[0m\u001b[0;34m\u001b[0m\u001b[0m\n\u001b[0;32m----> 3\u001b[0;31m \u001b[0mfun\u001b[0m\u001b[0;34m(\u001b[0m\u001b[0;36m200\u001b[0m\u001b[0;34m,\u001b[0m\u001b[0;36m300\u001b[0m\u001b[0;34m)\u001b[0m\u001b[0;34m\u001b[0m\u001b[0m\n\u001b[0m",
      "\u001b[0;31mTypeError\u001b[0m: fun() takes exactly 0 arguments (2 given)"
     ]
    }
   ],
   "source": [
    "def fun(**a):\n",
    "    print a\n",
    "fun(200,300)"
   ]
  },
  {
   "cell_type": "code",
   "execution_count": 39,
   "metadata": {
    "collapsed": false
   },
   "outputs": [],
   "source": [
    "def fun(a,b,*args, **kwargs):\n",
    "    print a,\n",
    "    print b\n",
    "    print args\n",
    "    print kwargs"
   ]
  },
  {
   "cell_type": "code",
   "execution_count": 40,
   "metadata": {
    "collapsed": true
   },
   "outputs": [],
   "source": [
    "def fun(a=10,b=20,*c):\n",
    "    pass"
   ]
  },
  {
   "cell_type": "code",
   "execution_count": 41,
   "metadata": {
    "collapsed": true
   },
   "outputs": [],
   "source": [
    "def fun(a,b):\n",
    "    print a,b\n",
    "    "
   ]
  },
  {
   "cell_type": "markdown",
   "metadata": {},
   "source": [
    "# "
   ]
  },
  {
   "cell_type": "code",
   "execution_count": 42,
   "metadata": {
    "collapsed": true
   },
   "outputs": [],
   "source": [
    "a=10\n",
    "a=200"
   ]
  },
  {
   "cell_type": "code",
   "execution_count": 43,
   "metadata": {
    "collapsed": true
   },
   "outputs": [],
   "source": [
    "def fun(a,b):\n",
    "    print a,b\n",
    "    "
   ]
  },
  {
   "cell_type": "code",
   "execution_count": 44,
   "metadata": {
    "collapsed": false
   },
   "outputs": [
    {
     "data": {
      "text/plain": [
       "<function __main__.fun>"
      ]
     },
     "execution_count": 44,
     "metadata": {},
     "output_type": "execute_result"
    }
   ],
   "source": [
    "fun"
   ]
  },
  {
   "cell_type": "code",
   "execution_count": 45,
   "metadata": {
    "collapsed": false
   },
   "outputs": [
    {
     "data": {
      "text/plain": [
       "200"
      ]
     },
     "execution_count": 45,
     "metadata": {},
     "output_type": "execute_result"
    }
   ],
   "source": [
    "a"
   ]
  },
  {
   "cell_type": "code",
   "execution_count": 46,
   "metadata": {
    "collapsed": false
   },
   "outputs": [
    {
     "ename": "TypeError",
     "evalue": "fun() takes exactly 3 arguments (2 given)",
     "output_type": "error",
     "traceback": [
      "\u001b[0;31m---------------------------------------------------------------------------\u001b[0m",
      "\u001b[0;31mTypeError\u001b[0m                                 Traceback (most recent call last)",
      "\u001b[0;32m<ipython-input-46-560730b41e09>\u001b[0m in \u001b[0;36m<module>\u001b[0;34m()\u001b[0m\n\u001b[1;32m      3\u001b[0m \u001b[0;32mdef\u001b[0m \u001b[0mfun\u001b[0m\u001b[0;34m(\u001b[0m\u001b[0ma\u001b[0m\u001b[0;34m,\u001b[0m\u001b[0mb\u001b[0m\u001b[0;34m,\u001b[0m\u001b[0mc\u001b[0m\u001b[0;34m)\u001b[0m\u001b[0;34m:\u001b[0m\u001b[0;34m\u001b[0m\u001b[0m\n\u001b[1;32m      4\u001b[0m     \u001b[0;32mprint\u001b[0m \u001b[0ma\u001b[0m\u001b[0;34m,\u001b[0m\u001b[0mb\u001b[0m\u001b[0;34m,\u001b[0m\u001b[0mc\u001b[0m\u001b[0;34m\u001b[0m\u001b[0m\n\u001b[0;32m----> 5\u001b[0;31m \u001b[0mfun\u001b[0m\u001b[0;34m(\u001b[0m\u001b[0;36m10\u001b[0m\u001b[0;34m,\u001b[0m\u001b[0;36m20\u001b[0m\u001b[0;34m)\u001b[0m\u001b[0;34m\u001b[0m\u001b[0m\n\u001b[0m",
      "\u001b[0;31mTypeError\u001b[0m: fun() takes exactly 3 arguments (2 given)"
     ]
    }
   ],
   "source": [
    "def fun(a,b):\n",
    "    print a,b\n",
    "def fun(a,b,c):\n",
    "    print a,b,c\n",
    "fun(10,20)"
   ]
  },
  {
   "cell_type": "code",
   "execution_count": null,
   "metadata": {
    "collapsed": true
   },
   "outputs": [],
   "source": []
  }
 ],
 "metadata": {
  "kernelspec": {
   "display_name": "Python 2",
   "language": "python",
   "name": "python2"
  },
  "language_info": {
   "codemirror_mode": {
    "name": "ipython",
    "version": 2
   },
   "file_extension": ".py",
   "mimetype": "text/x-python",
   "name": "python",
   "nbconvert_exporter": "python",
   "pygments_lexer": "ipython2",
   "version": "2.7.13"
  }
 },
 "nbformat": 4,
 "nbformat_minor": 2
}
