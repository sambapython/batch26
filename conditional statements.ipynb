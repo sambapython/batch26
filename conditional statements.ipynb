{
 "cells": [
  {
   "cell_type": "code",
   "execution_count": 1,
   "metadata": {
    "collapsed": false
   },
   "outputs": [
    {
     "name": "stdout",
     "output_type": "stream",
     "text": [
      "program started\n",
      "some other statements\n",
      "program ended\n"
     ]
    }
   ],
   "source": [
    "print \"program started\"\n",
    "if 10>20:\n",
    "    print \"if block\"\n",
    "    print \"if block statements\"\n",
    "    \n",
    "print \"some other statements\"\n",
    "print \"program ended\""
   ]
  },
  {
   "cell_type": "code",
   "execution_count": 2,
   "metadata": {
    "collapsed": false
   },
   "outputs": [
    {
     "name": "stdout",
     "output_type": "stream",
     "text": [
      "program started\n",
      "else block\n",
      "else block statements\n",
      "some other statements\n",
      "program ended\n"
     ]
    }
   ],
   "source": [
    "print \"program started\"\n",
    "if 10>20:\n",
    "    print \"if block\"\n",
    "    print \"if block statements\"\n",
    "else:\n",
    "    print \"else block\"\n",
    "    print \"else block statements\"\n",
    "    \n",
    "print \"some other statements\"\n",
    "print \"program ended\""
   ]
  },
  {
   "cell_type": "code",
   "execution_count": 3,
   "metadata": {
    "collapsed": false
   },
   "outputs": [
    {
     "data": {
      "text/plain": [
       "False"
      ]
     },
     "execution_count": 3,
     "metadata": {},
     "output_type": "execute_result"
    }
   ],
   "source": [
    "a=10\n",
    "b=20\n",
    "a>b"
   ]
  },
  {
   "cell_type": "code",
   "execution_count": 4,
   "metadata": {
    "collapsed": false
   },
   "outputs": [
    {
     "name": "stdout",
     "output_type": "stream",
     "text": [
      "False\n"
     ]
    }
   ],
   "source": [
    "a=12\n",
    "b=12.0\n",
    "print a>b"
   ]
  },
  {
   "cell_type": "code",
   "execution_count": 5,
   "metadata": {
    "collapsed": false
   },
   "outputs": [
    {
     "name": "stdout",
     "output_type": "stream",
     "text": [
      "False\n"
     ]
    }
   ],
   "source": [
    "print 12>12"
   ]
  },
  {
   "cell_type": "code",
   "execution_count": 6,
   "metadata": {
    "collapsed": false
   },
   "outputs": [
    {
     "name": "stdout",
     "output_type": "stream",
     "text": [
      "False\n"
     ]
    }
   ],
   "source": [
    "a=10\n",
    "b=\"10\"\n",
    "print a==b"
   ]
  },
  {
   "cell_type": "code",
   "execution_count": 7,
   "metadata": {
    "collapsed": false
   },
   "outputs": [
    {
     "name": "stdout",
     "output_type": "stream",
     "text": [
      "False\n"
     ]
    }
   ],
   "source": [
    "print \"123\">\"2\""
   ]
  },
  {
   "cell_type": "code",
   "execution_count": 8,
   "metadata": {
    "collapsed": false
   },
   "outputs": [
    {
     "name": "stdout",
     "output_type": "stream",
     "text": [
      "True\n"
     ]
    }
   ],
   "source": [
    "# bat apple cat ant#\n",
    "#ant\n",
    "# '123', '2','4','1'\n",
    "# 1 2 3 4 5\n",
    "# 1, 123, 2,4\n",
    "a=12\n",
    "b=12.0\n",
    "print a==b"
   ]
  },
  {
   "cell_type": "code",
   "execution_count": 9,
   "metadata": {
    "collapsed": false
   },
   "outputs": [
    {
     "name": "stdout",
     "output_type": "stream",
     "text": [
      "False\n"
     ]
    }
   ],
   "source": [
    "print a is b"
   ]
  },
  {
   "cell_type": "code",
   "execution_count": 10,
   "metadata": {
    "collapsed": false
   },
   "outputs": [
    {
     "name": "stdout",
     "output_type": "stream",
     "text": [
      "False\n"
     ]
    }
   ],
   "source": [
    "a=12\n",
    "b=12.1\n",
    "print a==b"
   ]
  },
  {
   "cell_type": "code",
   "execution_count": 11,
   "metadata": {
    "collapsed": false
   },
   "outputs": [
    {
     "name": "stdout",
     "output_type": "stream",
     "text": [
      "program started\n",
      "Enter a value:10\n",
      "Enter b value:20\n",
      "b is big\n",
      "some other statements\n",
      "program ended\n"
     ]
    }
   ],
   "source": [
    "print \"program started\"\n",
    "a=raw_input(\"Enter a value:\")\n",
    "b=raw_input(\"Enter b value:\")\n",
    "if a>b:\n",
    "    print \"a is big\"\n",
    "else:\n",
    "    print \"b is big\"\n",
    "    \n",
    "print \"some other statements\"\n",
    "print \"program ended\""
   ]
  },
  {
   "cell_type": "code",
   "execution_count": 12,
   "metadata": {
    "collapsed": false
   },
   "outputs": [
    {
     "name": "stdout",
     "output_type": "stream",
     "text": [
      "program started\n",
      "Enter a value:123\n",
      "Enter b value:2\n",
      "b is big\n",
      "some other statements\n",
      "program ended\n"
     ]
    }
   ],
   "source": [
    "print \"program started\"\n",
    "a=raw_input(\"Enter a value:\")\n",
    "b=raw_input(\"Enter b value:\")\n",
    "if a>b:\n",
    "    print \"a is big\"\n",
    "else:\n",
    "    print \"b is big\"\n",
    "    \n",
    "print \"some other statements\"\n",
    "print \"program ended\""
   ]
  },
  {
   "cell_type": "code",
   "execution_count": 13,
   "metadata": {
    "collapsed": false
   },
   "outputs": [
    {
     "name": "stdout",
     "output_type": "stream",
     "text": [
      "program started\n",
      "Enter a value:123\n",
      "Enter b value:2\n",
      "a is big\n",
      "some other statements\n",
      "program ended\n"
     ]
    }
   ],
   "source": [
    "print \"program started\"\n",
    "a=raw_input(\"Enter a value:\")\n",
    "b=raw_input(\"Enter b value:\")\n",
    "a=float(a)\n",
    "b=float(b)\n",
    "if a>b:\n",
    "    print \"a is big\"\n",
    "else:\n",
    "    print \"b is big\"\n",
    "    \n",
    "print \"some other statements\"\n",
    "print \"program ended\""
   ]
  },
  {
   "cell_type": "code",
   "execution_count": 14,
   "metadata": {
    "collapsed": false
   },
   "outputs": [
    {
     "name": "stdout",
     "output_type": "stream",
     "text": [
      "Enter: 12\n",
      "12 <type 'str'>\n"
     ]
    }
   ],
   "source": [
    "a=raw_input(\"Enter: \")\n",
    "print a, type(a)"
   ]
  },
  {
   "cell_type": "code",
   "execution_count": 15,
   "metadata": {
    "collapsed": false
   },
   "outputs": [
    {
     "name": "stdout",
     "output_type": "stream",
     "text": [
      "Enter: python\n",
      "python <type 'str'>\n"
     ]
    }
   ],
   "source": [
    "a=raw_input(\"Enter: \")\n",
    "print a, type(a)"
   ]
  },
  {
   "cell_type": "code",
   "execution_count": 16,
   "metadata": {
    "collapsed": false
   },
   "outputs": [
    {
     "name": "stdout",
     "output_type": "stream",
     "text": [
      "Enter: 2.34\n",
      "2.34 <type 'str'>\n"
     ]
    }
   ],
   "source": [
    "a=raw_input(\"Enter: \")\n",
    "print a, type(a)"
   ]
  },
  {
   "cell_type": "code",
   "execution_count": 17,
   "metadata": {
    "collapsed": false
   },
   "outputs": [
    {
     "name": "stdout",
     "output_type": "stream",
     "text": [
      "Enter: 12\n",
      "12 <type 'int'>\n"
     ]
    }
   ],
   "source": [
    "a=input(\"Enter: \")\n",
    "print a, type(a)"
   ]
  },
  {
   "cell_type": "code",
   "execution_count": 18,
   "metadata": {
    "collapsed": false
   },
   "outputs": [
    {
     "name": "stdout",
     "output_type": "stream",
     "text": [
      "Enter: 12.34\n",
      "12.34 <type 'float'>\n"
     ]
    }
   ],
   "source": [
    "a=input(\"Enter: \")\n",
    "print a, type(a)"
   ]
  },
  {
   "cell_type": "code",
   "execution_count": 19,
   "metadata": {
    "collapsed": false
   },
   "outputs": [
    {
     "name": "stdout",
     "output_type": "stream",
     "text": [
      "Enter: (1,2,3,4)\n",
      "(1, 2, 3, 4) <type 'tuple'>\n"
     ]
    }
   ],
   "source": [
    "a=input(\"Enter: \")\n",
    "print a, type(a)"
   ]
  },
  {
   "cell_type": "code",
   "execution_count": 20,
   "metadata": {
    "collapsed": false
   },
   "outputs": [
    {
     "name": "stdout",
     "output_type": "stream",
     "text": [
      "Enter: [1,2,3,4]\n",
      "[1, 2, 3, 4] <type 'list'>\n"
     ]
    }
   ],
   "source": [
    "a=input(\"Enter: \")\n",
    "print a, type(a)"
   ]
  },
  {
   "cell_type": "code",
   "execution_count": 21,
   "metadata": {
    "collapsed": false
   },
   "outputs": [
    {
     "name": "stdout",
     "output_type": "stream",
     "text": [
      "Enter: python\n"
     ]
    },
    {
     "ename": "NameError",
     "evalue": "name 'python' is not defined",
     "output_type": "error",
     "traceback": [
      "\u001b[1;31m---------------------------------------------------------------------------\u001b[0m",
      "\u001b[1;31mNameError\u001b[0m                                 Traceback (most recent call last)",
      "\u001b[1;32m<ipython-input-21-55ea05b72afb>\u001b[0m in \u001b[0;36m<module>\u001b[1;34m()\u001b[0m\n\u001b[1;32m----> 1\u001b[1;33m \u001b[0ma\u001b[0m\u001b[1;33m=\u001b[0m\u001b[0minput\u001b[0m\u001b[1;33m(\u001b[0m\u001b[1;34m\"Enter: \"\u001b[0m\u001b[1;33m)\u001b[0m\u001b[1;33m\u001b[0m\u001b[0m\n\u001b[0m\u001b[0;32m      2\u001b[0m \u001b[1;32mprint\u001b[0m \u001b[0ma\u001b[0m\u001b[1;33m,\u001b[0m \u001b[0mtype\u001b[0m\u001b[1;33m(\u001b[0m\u001b[0ma\u001b[0m\u001b[1;33m)\u001b[0m\u001b[1;33m\u001b[0m\u001b[0m\n",
      "\u001b[1;32m/home/tcloudost/anaconda2/lib/python2.7/site-packages/ipykernel/ipkernel.pyc\u001b[0m in \u001b[0;36m<lambda>\u001b[1;34m(prompt)\u001b[0m\n\u001b[0;32m    163\u001b[0m             \u001b[0mself\u001b[0m\u001b[1;33m.\u001b[0m\u001b[0m_sys_eval_input\u001b[0m \u001b[1;33m=\u001b[0m \u001b[0mbuiltin_mod\u001b[0m\u001b[1;33m.\u001b[0m\u001b[0minput\u001b[0m\u001b[1;33m\u001b[0m\u001b[0m\n\u001b[0;32m    164\u001b[0m             \u001b[0mbuiltin_mod\u001b[0m\u001b[1;33m.\u001b[0m\u001b[0mraw_input\u001b[0m \u001b[1;33m=\u001b[0m \u001b[0mself\u001b[0m\u001b[1;33m.\u001b[0m\u001b[0mraw_input\u001b[0m\u001b[1;33m\u001b[0m\u001b[0m\n\u001b[1;32m--> 165\u001b[1;33m             \u001b[0mbuiltin_mod\u001b[0m\u001b[1;33m.\u001b[0m\u001b[0minput\u001b[0m \u001b[1;33m=\u001b[0m \u001b[1;32mlambda\u001b[0m \u001b[0mprompt\u001b[0m\u001b[1;33m=\u001b[0m\u001b[1;34m''\u001b[0m\u001b[1;33m:\u001b[0m \u001b[0meval\u001b[0m\u001b[1;33m(\u001b[0m\u001b[0mself\u001b[0m\u001b[1;33m.\u001b[0m\u001b[0mraw_input\u001b[0m\u001b[1;33m(\u001b[0m\u001b[0mprompt\u001b[0m\u001b[1;33m)\u001b[0m\u001b[1;33m)\u001b[0m\u001b[1;33m\u001b[0m\u001b[0m\n\u001b[0m\u001b[0;32m    166\u001b[0m         \u001b[0mself\u001b[0m\u001b[1;33m.\u001b[0m\u001b[0m_save_getpass\u001b[0m \u001b[1;33m=\u001b[0m \u001b[0mgetpass\u001b[0m\u001b[1;33m.\u001b[0m\u001b[0mgetpass\u001b[0m\u001b[1;33m\u001b[0m\u001b[0m\n\u001b[0;32m    167\u001b[0m         \u001b[0mgetpass\u001b[0m\u001b[1;33m.\u001b[0m\u001b[0mgetpass\u001b[0m \u001b[1;33m=\u001b[0m \u001b[0mself\u001b[0m\u001b[1;33m.\u001b[0m\u001b[0mgetpass\u001b[0m\u001b[1;33m\u001b[0m\u001b[0m\n",
      "\u001b[1;32m/home/tcloudost/anaconda2/lib/python2.7/site-packages/ipykernel/ipkernel.pyc\u001b[0m in \u001b[0;36m<module>\u001b[1;34m()\u001b[0m\n",
      "\u001b[1;31mNameError\u001b[0m: name 'python' is not defined"
     ]
    }
   ],
   "source": [
    "a=input(\"Enter: \")\n",
    "print a, type(a)"
   ]
  },
  {
   "cell_type": "code",
   "execution_count": 22,
   "metadata": {
    "collapsed": false
   },
   "outputs": [
    {
     "name": "stdout",
     "output_type": "stream",
     "text": [
      "Enter: 'python'\n",
      "python <type 'str'>\n"
     ]
    }
   ],
   "source": [
    "a=input(\"Enter: \")\n",
    "print a, type(a)"
   ]
  },
  {
   "cell_type": "code",
   "execution_count": 23,
   "metadata": {
    "collapsed": false
   },
   "outputs": [
    {
     "name": "stdout",
     "output_type": "stream",
     "text": [
      "python\n"
     ]
    }
   ],
   "source": [
    "print a"
   ]
  },
  {
   "cell_type": "code",
   "execution_count": 24,
   "metadata": {
    "collapsed": false
   },
   "outputs": [
    {
     "ename": "SyntaxError",
     "evalue": "EOL while scanning string literal (<ipython-input-24-9151c65459df>, line 7)",
     "output_type": "error",
     "traceback": [
      "\u001b[1;36m  File \u001b[1;32m\"<ipython-input-24-9151c65459df>\"\u001b[1;36m, line \u001b[1;32m7\u001b[0m\n\u001b[1;33m    print 'courses:\u001b[0m\n\u001b[1;37m                  ^\u001b[0m\n\u001b[1;31mSyntaxError\u001b[0m\u001b[1;31m:\u001b[0m EOL while scanning string literal\n"
     ]
    }
   ],
   "source": [
    "'''\n",
    "courses:\n",
    "3.java\n",
    "4.php\n",
    "5.python\n",
    "'''\n",
    "print 'courses:\n",
    "3.java'"
   ]
  },
  {
   "cell_type": "code",
   "execution_count": 25,
   "metadata": {
    "collapsed": false
   },
   "outputs": [
    {
     "name": "stdout",
     "output_type": "stream",
     "text": [
      "courses:\n",
      "3.java\n",
      "4.php\n",
      "5.python\n"
     ]
    }
   ],
   "source": [
    "'''\n",
    "courses:\n",
    "3.java\n",
    "4.php\n",
    "5.python\n",
    "'''\n",
    "print 'courses:\\n3.java\\n4.php\\n5.python'"
   ]
  },
  {
   "cell_type": "code",
   "execution_count": 26,
   "metadata": {
    "collapsed": false
   },
   "outputs": [
    {
     "name": "stdout",
     "output_type": "stream",
     "text": [
      "\n",
      "courses:\n",
      "3.java\n",
      "4.php\n",
      "5.python\n",
      "\n",
      "courses:\n",
      "3.java\n",
      "4.php\n",
      "5.python\n"
     ]
    }
   ],
   "source": [
    "print '''\n",
    "courses:\n",
    "3.java\n",
    "4.php\n",
    "5.python\n",
    "'''\n",
    "print 'courses:\\n3.java\\n4.php\\n5.python'"
   ]
  },
  {
   "cell_type": "code",
   "execution_count": 27,
   "metadata": {
    "collapsed": false
   },
   "outputs": [
    {
     "name": "stdout",
     "output_type": "stream",
     "text": [
      "courses:3.java4.php5.python\n",
      "courses:\n",
      "3.java\n",
      "4.php\n",
      "5.python\n"
     ]
    }
   ],
   "source": [
    "print '\\\n",
    "courses:\\\n",
    "3.java\\\n",
    "4.php\\\n",
    "5.python\\\n",
    "'\n",
    "print 'courses:\\n3.java\\n4.php\\n5.python'"
   ]
  },
  {
   "cell_type": "code",
   "execution_count": 28,
   "metadata": {
    "collapsed": false
   },
   "outputs": [
    {
     "name": "stdout",
     "output_type": "stream",
     "text": [
      "\n",
      "      1\n",
      "    2   3\n",
      "4   5 6  7 8 \n",
      "\n"
     ]
    }
   ],
   "source": [
    "print '''\n",
    "      1\n",
    "    2   3\n",
    "4   5 6  7 8 \n",
    "'''\n",
    "a=10"
   ]
  },
  {
   "cell_type": "code",
   "execution_count": 29,
   "metadata": {
    "collapsed": false
   },
   "outputs": [
    {
     "name": "stdout",
     "output_type": "stream",
     "text": [
      "courses:\n",
      "3.java\n",
      "4.php\n",
      "5.python\n",
      "Enter an option:3\n",
      "other  statements in program\n",
      "program ended\n"
     ]
    }
   ],
   "source": [
    "print 'courses:\\n3.java\\n4.php\\n5.python'\n",
    "opt = raw_input(\"Enter an option:\")\n",
    "if opt==3:\n",
    "    print \"show java details\"\n",
    "if opt==4:\n",
    "    print \"show php details\"\n",
    "if opt==5:\n",
    "    print \"show python details\"\n",
    "print \"other  statements in program\"\n",
    "print \"program ended\""
   ]
  },
  {
   "cell_type": "code",
   "execution_count": 30,
   "metadata": {
    "collapsed": false
   },
   "outputs": [
    {
     "name": "stdout",
     "output_type": "stream",
     "text": [
      "courses:\n",
      "3.java\n",
      "4.php\n",
      "5.python\n",
      "Enter an option:3\n",
      "show java details\n",
      "other  statements in program\n",
      "program ended\n"
     ]
    }
   ],
   "source": [
    "print 'courses:\\n3.java\\n4.php\\n5.python'\n",
    "opt = raw_input(\"Enter an option:\")\n",
    "if opt=='3':\n",
    "    print \"show java details\"\n",
    "if opt=='4':\n",
    "    print \"show php details\"\n",
    "if opt=='5':\n",
    "    print \"show python details\"\n",
    "print \"other  statements in program\"\n",
    "print \"program ended\""
   ]
  },
  {
   "cell_type": "code",
   "execution_count": 31,
   "metadata": {
    "collapsed": false
   },
   "outputs": [
    {
     "data": {
      "text/plain": [
       "True"
      ]
     },
     "execution_count": 31,
     "metadata": {},
     "output_type": "execute_result"
    }
   ],
   "source": [
    "10==10"
   ]
  },
  {
   "cell_type": "code",
   "execution_count": 32,
   "metadata": {
    "collapsed": false
   },
   "outputs": [
    {
     "data": {
      "text/plain": [
       "False"
      ]
     },
     "execution_count": 32,
     "metadata": {},
     "output_type": "execute_result"
    }
   ],
   "source": [
    "'3'==3"
   ]
  },
  {
   "cell_type": "code",
   "execution_count": 33,
   "metadata": {
    "collapsed": false
   },
   "outputs": [
    {
     "name": "stdout",
     "output_type": "stream",
     "text": [
      "courses:\n",
      "3.java\n",
      "4.php\n",
      "5.python\n",
      "Enter an option:4\n",
      "show php details\n",
      "other  statements in program\n",
      "program ended\n"
     ]
    }
   ],
   "source": [
    "print 'courses:\\n3.java\\n4.php\\n5.python'\n",
    "opt = raw_input(\"Enter an option:\")\n",
    "if opt=='3':\n",
    "    print \"show java details\"\n",
    "if opt=='4':\n",
    "    print \"show php details\"\n",
    "if opt=='5':\n",
    "    print \"show python details\"\n",
    "print \"other  statements in program\"\n",
    "print \"program ended\""
   ]
  },
  {
   "cell_type": "code",
   "execution_count": 34,
   "metadata": {
    "collapsed": false
   },
   "outputs": [
    {
     "name": "stdout",
     "output_type": "stream",
     "text": [
      "courses:\n",
      "3.java\n",
      "4.php\n",
      "5.python\n",
      "Enter an option:5\n",
      "show python details\n",
      "other  statements in program\n",
      "program ended\n"
     ]
    }
   ],
   "source": [
    "print 'courses:\\n3.java\\n4.php\\n5.python'\n",
    "opt = raw_input(\"Enter an option:\")\n",
    "if opt=='3':\n",
    "    print \"show java details\"\n",
    "if opt=='4':\n",
    "    print \"show php details\"\n",
    "if opt=='5':\n",
    "    print \"show python details\"\n",
    "print \"other  statements in program\"\n",
    "print \"program ended\""
   ]
  },
  {
   "cell_type": "code",
   "execution_count": 35,
   "metadata": {
    "collapsed": false
   },
   "outputs": [
    {
     "name": "stdout",
     "output_type": "stream",
     "text": [
      "courses:\n",
      "3.java\n",
      "4.php\n",
      "5.python\n",
      "Enter an option:6\n",
      "other  statements in program\n",
      "program ended\n"
     ]
    }
   ],
   "source": [
    "print 'courses:\\n3.java\\n4.php\\n5.python'\n",
    "opt = raw_input(\"Enter an option:\")\n",
    "if opt=='3':\n",
    "    print \"show java details\"\n",
    "if opt=='4':\n",
    "    print \"show php details\"\n",
    "if opt=='5':\n",
    "    print \"show python details\"\n",
    "print \"other  statements in program\"\n",
    "print \"program ended\""
   ]
  },
  {
   "cell_type": "code",
   "execution_count": 36,
   "metadata": {
    "collapsed": false
   },
   "outputs": [
    {
     "name": "stdout",
     "output_type": "stream",
     "text": [
      "courses:\n",
      "3.java\n",
      "4.php\n",
      "5.python\n",
      "Enter an option:6\n",
      "wrong option\n",
      "other  statements in program\n",
      "program ended\n"
     ]
    }
   ],
   "source": [
    "print 'courses:\\n3.java\\n4.php\\n5.python'\n",
    "opt = raw_input(\"Enter an option:\")\n",
    "if opt=='3':\n",
    "    print \"show java details\"\n",
    "if opt=='4':\n",
    "    print \"show php details\"\n",
    "if opt=='5':\n",
    "    print \"show python details\"\n",
    "else:\n",
    "    print \"wrong option\"\n",
    "print \"other  statements in program\"\n",
    "print \"program ended\""
   ]
  },
  {
   "cell_type": "code",
   "execution_count": 37,
   "metadata": {
    "collapsed": false
   },
   "outputs": [
    {
     "name": "stdout",
     "output_type": "stream",
     "text": [
      "courses:\n",
      "3.java\n",
      "4.php\n",
      "5.python\n",
      "Enter an option:4\n",
      "show php details\n",
      "wrong option\n",
      "other  statements in program\n",
      "program ended\n"
     ]
    }
   ],
   "source": [
    "print 'courses:\\n3.java\\n4.php\\n5.python'\n",
    "opt = raw_input(\"Enter an option:\")\n",
    "if opt=='3':\n",
    "    print \"show java details\"\n",
    "if opt=='4':\n",
    "    print \"show php details\"\n",
    "if opt=='5':\n",
    "    print \"show python details\"\n",
    "else:\n",
    "    print \"wrong option\"\n",
    "print \"other  statements in program\"\n",
    "print \"program ended\""
   ]
  },
  {
   "cell_type": "code",
   "execution_count": 38,
   "metadata": {
    "collapsed": false
   },
   "outputs": [
    {
     "name": "stdout",
     "output_type": "stream",
     "text": [
      "courses:\n",
      "3.java\n",
      "4.php\n",
      "5.python\n",
      "Enter an option:3\n",
      "show java details\n",
      "wrong option\n",
      "other  statements in program\n",
      "program ended\n"
     ]
    }
   ],
   "source": [
    "print 'courses:\\n3.java\\n4.php\\n5.python'\n",
    "opt = raw_input(\"Enter an option:\")\n",
    "if opt=='3':\n",
    "    print \"show java details\"\n",
    "if opt=='4':\n",
    "    print \"show php details\"\n",
    "if opt=='5':\n",
    "    print \"show python details\"\n",
    "else:\n",
    "    print \"wrong option\"\n",
    "print \"other  statements in program\"\n",
    "print \"program ended\""
   ]
  },
  {
   "cell_type": "code",
   "execution_count": 39,
   "metadata": {
    "collapsed": false
   },
   "outputs": [
    {
     "name": "stdout",
     "output_type": "stream",
     "text": [
      "courses:\n",
      "3.java\n",
      "4.php\n",
      "5.python\n",
      "Enter an option:3\n",
      "show java details\n",
      "other  statements in program\n",
      "program ended\n"
     ]
    }
   ],
   "source": [
    "print 'courses:\\n3.java\\n4.php\\n5.python'\n",
    "opt = raw_input(\"Enter an option:\")\n",
    "if opt=='3':\n",
    "    print \"show java details\"\n",
    "elif opt=='4':\n",
    "    print \"show php details\"\n",
    "elif opt=='5':\n",
    "    print \"show python details\"\n",
    "else:\n",
    "    print \"wrong option\"\n",
    "print \"other  statements in program\"\n",
    "print \"program ended\""
   ]
  },
  {
   "cell_type": "code",
   "execution_count": 42,
   "metadata": {
    "collapsed": false
   },
   "outputs": [
    {
     "name": "stdout",
     "output_type": "stream",
     "text": [
      "courses:\n",
      "3.java\n",
      "4.php\n",
      "5.python\n",
      "Enter an option:5\n",
      "show python details\n",
      "other  statements in program\n",
      "program ended\n"
     ]
    }
   ],
   "source": [
    "print 'courses:\\n3.java\\n4.php\\n5.python'\n",
    "opt = raw_input(\"Enter an option:\")\n",
    "if opt=='3':\n",
    "    print \"show java details\"\n",
    "elif opt=='4':\n",
    "    print \"show php details\"\n",
    "elif opt=='5':\n",
    "    print \"show python details\"\n",
    "else:\n",
    "    print \"wrong option\"\n",
    "print \"other  statements in program\"\n",
    "print \"program ended\""
   ]
  },
  {
   "cell_type": "code",
   "execution_count": 43,
   "metadata": {
    "collapsed": false
   },
   "outputs": [
    {
     "name": "stdout",
     "output_type": "stream",
     "text": [
      "courses:\n",
      "3.java\n",
      "4.php\n",
      "5.python\n",
      "Enter an option:6\n",
      "wrong option\n",
      "other  statements in program\n",
      "program ended\n"
     ]
    }
   ],
   "source": [
    "print 'courses:\\n3.java\\n4.php\\n5.python'\n",
    "opt = raw_input(\"Enter an option:\")\n",
    "if opt=='3':\n",
    "    print \"show java details\"\n",
    "elif opt=='4':\n",
    "    print \"show php details\"\n",
    "elif opt=='5':\n",
    "    print \"show python details\"\n",
    "else:\n",
    "    print \"wrong option\"\n",
    "print \"other  statements in program\"\n",
    "print \"program ended\""
   ]
  },
  {
   "cell_type": "code",
   "execution_count": null,
   "metadata": {
    "collapsed": true
   },
   "outputs": [],
   "source": []
  }
 ],
 "metadata": {
  "kernelspec": {
   "display_name": "Python 2",
   "language": "python",
   "name": "python2"
  },
  "language_info": {
   "codemirror_mode": {
    "name": "ipython",
    "version": 2
   },
   "file_extension": ".py",
   "mimetype": "text/x-python",
   "name": "python",
   "nbconvert_exporter": "python",
   "pygments_lexer": "ipython2",
   "version": "2.7.11"
  }
 },
 "nbformat": 4,
 "nbformat_minor": 0
}
