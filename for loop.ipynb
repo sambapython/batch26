{
 "cells": [
  {
   "cell_type": "code",
   "execution_count": 1,
   "metadata": {
    "collapsed": false
   },
   "outputs": [
    {
     "name": "stdout",
     "output_type": "stream",
     "text": [
      "some statements\n",
      "p\n",
      "y\n",
      "t\n",
      "h\n",
      "o\n",
      "n\n",
      " \n",
      "p\n",
      "r\n",
      "o\n",
      "g\n",
      "r\n",
      "a\n",
      "m\n",
      "some ending statements\n"
     ]
    }
   ],
   "source": [
    "s=\"python program\"\n",
    "print \"some statements\"\n",
    "for i in s:\n",
    "    print i\n",
    "print \"some ending statements\""
   ]
  },
  {
   "cell_type": "code",
   "execution_count": 2,
   "metadata": {
    "collapsed": false
   },
   "outputs": [
    {
     "name": "stdout",
     "output_type": "stream",
     "text": [
      "some statements\n",
      "iteration started\n",
      "a\n",
      "iteration ended\n",
      "iteration started\n",
      "b\n",
      "iteration ended\n",
      "iteration started\n",
      "c\n",
      "iteration ended\n",
      "some ending statements\n"
     ]
    }
   ],
   "source": [
    "print \"some statements\"\n",
    "for i in \"abc\":\n",
    "    print \"iteration started\"\n",
    "    print i\n",
    "    print \"iteration ended\"\n",
    "print \"some ending statements\""
   ]
  },
  {
   "cell_type": "code",
   "execution_count": 3,
   "metadata": {
    "collapsed": false
   },
   "outputs": [
    {
     "name": "stdout",
     "output_type": "stream",
     "text": [
      "some statements\n",
      "iteration started\n",
      "iteration ended\n",
      "iteration started\n",
      "iteration ended\n",
      "iteration started\n",
      "iteration ended\n",
      "some ending statements\n"
     ]
    }
   ],
   "source": [
    "print \"some statements\"\n",
    "for i in \"abc\":\n",
    "    print \"iteration started\"\n",
    "    print \"iteration ended\"\n",
    "print \"some ending statements\""
   ]
  },
  {
   "cell_type": "code",
   "execution_count": 4,
   "metadata": {
    "collapsed": false
   },
   "outputs": [
    {
     "name": "stdout",
     "output_type": "stream",
     "text": [
      "some statements\n",
      "some ending statements\n"
     ]
    }
   ],
   "source": [
    "print \"some statements\"\n",
    "for i in \"abc\":\n",
    "    pass\n",
    "print \"some ending statements\""
   ]
  },
  {
   "cell_type": "code",
   "execution_count": 5,
   "metadata": {
    "collapsed": false
   },
   "outputs": [
    {
     "ename": "IndentationError",
     "evalue": "expected an indented block (<ipython-input-5-ffa564013ecb>, line 4)",
     "output_type": "error",
     "traceback": [
      "\u001b[1;36m  File \u001b[1;32m\"<ipython-input-5-ffa564013ecb>\"\u001b[1;36m, line \u001b[1;32m4\u001b[0m\n\u001b[1;33m    print \"some ending statements\"\u001b[0m\n\u001b[1;37m        ^\u001b[0m\n\u001b[1;31mIndentationError\u001b[0m\u001b[1;31m:\u001b[0m expected an indented block\n"
     ]
    }
   ],
   "source": [
    "print \"some statements\"\n",
    "for i in \"abc\":\n",
    "\n",
    "print \"some ending statements\""
   ]
  },
  {
   "cell_type": "code",
   "execution_count": 6,
   "metadata": {
    "collapsed": false
   },
   "outputs": [
    {
     "name": "stdout",
     "output_type": "stream",
     "text": [
      "some statements\n",
      "a d\n",
      "a e\n",
      "a f\n",
      "b d\n",
      "b e\n",
      "b f\n",
      "c d\n",
      "c e\n",
      "c f\n",
      "some ending statements\n"
     ]
    }
   ],
   "source": [
    "print \"some statements\"\n",
    "for i in \"abc\":\n",
    "    for j in \"def\":\n",
    "        print i,j\n",
    "\n",
    "print \"some ending statements\""
   ]
  },
  {
   "cell_type": "code",
   "execution_count": 7,
   "metadata": {
    "collapsed": false
   },
   "outputs": [
    {
     "name": "stdout",
     "output_type": "stream",
     "text": [
      "some statements\n",
      "['a', 'd']\n",
      "['a', 'e']\n",
      "['a', 'f']\n",
      "['b', 'd']\n",
      "['b', 'e']\n",
      "['b', 'f']\n",
      "['c', 'd']\n",
      "['c', 'e']\n",
      "['c', 'f']\n",
      "some ending statements\n"
     ]
    }
   ],
   "source": [
    "print \"some statements\"\n",
    "for i in \"abc\":\n",
    "    for j in \"def\":\n",
    "        print [i,j]\n",
    "\n",
    "print \"some ending statements\""
   ]
  },
  {
   "cell_type": "code",
   "execution_count": 8,
   "metadata": {
    "collapsed": false
   },
   "outputs": [
    {
     "name": "stdout",
     "output_type": "stream",
     "text": [
      "some statements\n",
      "['a', ['g', 'd']]\n",
      "['a', ['h', 'd']]\n",
      "['a', ['i', 'd']]\n",
      "['a', ['g', 'e']]\n",
      "['a', ['h', 'e']]\n",
      "['a', ['i', 'e']]\n",
      "['a', ['g', 'f']]\n",
      "['a', ['h', 'f']]\n",
      "['a', ['i', 'f']]\n",
      "['b', ['g', 'd']]\n",
      "['b', ['h', 'd']]\n",
      "['b', ['i', 'd']]\n",
      "['b', ['g', 'e']]\n",
      "['b', ['h', 'e']]\n",
      "['b', ['i', 'e']]\n",
      "['b', ['g', 'f']]\n",
      "['b', ['h', 'f']]\n",
      "['b', ['i', 'f']]\n",
      "['c', ['g', 'd']]\n",
      "['c', ['h', 'd']]\n",
      "['c', ['i', 'd']]\n",
      "['c', ['g', 'e']]\n",
      "['c', ['h', 'e']]\n",
      "['c', ['i', 'e']]\n",
      "['c', ['g', 'f']]\n",
      "['c', ['h', 'f']]\n",
      "['c', ['i', 'f']]\n",
      "some ending statements\n"
     ]
    }
   ],
   "source": [
    "print \"some statements\"\n",
    "for i in \"abc\":\n",
    "    for j in \"def\":\n",
    "        for k in \"ghi\":\n",
    "            print [i,[k,j]]\n",
    "\n",
    "print \"some ending statements\""
   ]
  },
  {
   "cell_type": "code",
   "execution_count": 9,
   "metadata": {
    "collapsed": true
   },
   "outputs": [],
   "source": [
    "#looping control statments Break , continue"
   ]
  },
  {
   "cell_type": "code",
   "execution_count": 10,
   "metadata": {
    "collapsed": false
   },
   "outputs": [
    {
     "name": "stdout",
     "output_type": "stream",
     "text": [
      "some statements\n",
      "Enter a value:abc\n",
      "a\n",
      "b\n",
      "c\n",
      "some ending statements\n"
     ]
    }
   ],
   "source": [
    "print \"some statements\"\n",
    "s=raw_input(\"Enter a value:\")\n",
    "for i in s:\n",
    "    print i\n",
    "\n",
    "print \"some ending statements\""
   ]
  },
  {
   "cell_type": "code",
   "execution_count": 11,
   "metadata": {
    "collapsed": false
   },
   "outputs": [
    {
     "name": "stdout",
     "output_type": "stream",
     "text": [
      "some statements\n",
      "Enter a value:abc def\n",
      "a\n",
      "b\n",
      "c\n",
      " \n",
      "d\n",
      "e\n",
      "f\n",
      "some ending statements\n"
     ]
    }
   ],
   "source": [
    "print \"some statements\"\n",
    "s=raw_input(\"Enter a value:\")\n",
    "for i in s:\n",
    "    print i\n",
    "\n",
    "print \"some ending statements\""
   ]
  },
  {
   "cell_type": "code",
   "execution_count": 12,
   "metadata": {
    "collapsed": false
   },
   "outputs": [
    {
     "name": "stdout",
     "output_type": "stream",
     "text": [
      "some statements\n",
      "Enter a value:a b c\n",
      "a\n",
      "iteration edned\n",
      " \n",
      "other statements in program\n",
      "some ending statements\n"
     ]
    }
   ],
   "source": [
    "print \"some statements\"\n",
    "s=raw_input(\"Enter a value:\")\n",
    "for i in s:\n",
    "    print i\n",
    "    if i==\" \":\n",
    "        break\n",
    "    print \"iteration edned\"\n",
    "print \"other statements in program\"\n",
    "print \"some ending statements\""
   ]
  },
  {
   "cell_type": "code",
   "execution_count": 13,
   "metadata": {
    "collapsed": false
   },
   "outputs": [
    {
     "name": "stdout",
     "output_type": "stream",
     "text": [
      "some statements\n",
      "Enter a value:abc\n",
      "a\n",
      "other statements in program\n",
      "some ending statements\n"
     ]
    }
   ],
   "source": [
    "print \"some statements\"\n",
    "s=raw_input(\"Enter a value:\")\n",
    "for i in s:\n",
    "    print i\n",
    "    break\n",
    "    print \"iteration edned\"\n",
    "print \"other statements in program\"\n",
    "print \"some ending statements\""
   ]
  },
  {
   "cell_type": "code",
   "execution_count": 14,
   "metadata": {
    "collapsed": false
   },
   "outputs": [
    {
     "name": "stdout",
     "output_type": "stream",
     "text": [
      "some statements\n",
      "Enter a value:abc\n",
      "other statements in program\n",
      "some ending statements\n"
     ]
    }
   ],
   "source": [
    "print \"some statements\"\n",
    "s=raw_input(\"Enter a value:\")\n",
    "for i in s:\n",
    "    break\n",
    "    print \"iteration edned\"\n",
    "    print i\n",
    "print \"other statements in program\"\n",
    "print \"some ending statements\""
   ]
  },
  {
   "cell_type": "code",
   "execution_count": 15,
   "metadata": {
    "collapsed": false
   },
   "outputs": [
    {
     "name": "stdout",
     "output_type": "stream",
     "text": [
      "some statements\n",
      "Enter a value:python\n",
      "p\n",
      "other statements in program\n",
      "some ending statements\n"
     ]
    }
   ],
   "source": [
    "print \"some statements\"\n",
    "s=raw_input(\"Enter a value:\")\n",
    "for i in s:\n",
    "    break\n",
    "    print \"iteration edned\"\n",
    "print i\n",
    "print \"other statements in program\"\n",
    "print \"some ending statements\""
   ]
  },
  {
   "cell_type": "code",
   "execution_count": 16,
   "metadata": {
    "collapsed": false
   },
   "outputs": [
    {
     "name": "stdout",
     "output_type": "stream",
     "text": [
      "some statements\n",
      "0\n",
      "1\n",
      "2\n",
      "other statements in program\n",
      "some ending statements\n"
     ]
    }
   ],
   "source": [
    "print \"some statements\"\n",
    "i=0\n",
    "while i<4:\n",
    "    print i\n",
    "    if i==2:\n",
    "        break\n",
    "    i=i+1        \n",
    "print \"other statements in program\"\n",
    "print \"some ending statements\""
   ]
  },
  {
   "cell_type": "code",
   "execution_count": 17,
   "metadata": {
    "collapsed": false
   },
   "outputs": [
    {
     "name": "stdout",
     "output_type": "stream",
     "text": [
      "some statements\n",
      "Enter a value:python\n",
      "None\n",
      "other statements in program\n",
      "some ending statements\n"
     ]
    }
   ],
   "source": [
    "print \"some statements\"\n",
    "s=raw_input(\"Enter a value:\")\n",
    "for i in s:\n",
    "    break\n",
    "    print \"iteration edned\"\n",
    "i=None\n",
    "print i\n",
    "print \"other statements in program\"\n",
    "print \"some ending statements\""
   ]
  },
  {
   "cell_type": "code",
   "execution_count": 18,
   "metadata": {
    "collapsed": false
   },
   "outputs": [
    {
     "name": "stdout",
     "output_type": "stream",
     "text": [
      "some statements\n",
      "0\n",
      "1\n",
      "other statements in program\n",
      "some ending statements\n"
     ]
    }
   ],
   "source": [
    "print \"some statements\"\n",
    "i=0\n",
    "while i<4:\n",
    "    print i\n",
    "    i=i+1 \n",
    "    if i==2:\n",
    "        break\n",
    "           \n",
    "print \"other statements in program\"\n",
    "print \"some ending statements\""
   ]
  },
  {
   "cell_type": "code",
   "execution_count": 19,
   "metadata": {
    "collapsed": false
   },
   "outputs": [
    {
     "name": "stdout",
     "output_type": "stream",
     "text": [
      "some statements\n",
      "other statements in program\n",
      "some ending statements\n"
     ]
    }
   ],
   "source": [
    "print \"some statements\"\n",
    "i=0\n",
    "while i<4:\n",
    "    break\n",
    "    print i\n",
    "print \"other statements in program\"\n",
    "print \"some ending statements\""
   ]
  },
  {
   "cell_type": "code",
   "execution_count": 20,
   "metadata": {
    "collapsed": false
   },
   "outputs": [
    {
     "name": "stdout",
     "output_type": "stream",
     "text": [
      "some statements\n",
      "0\n",
      "other statements in program\n",
      "some ending statements\n"
     ]
    }
   ],
   "source": [
    "print \"some statements\"\n",
    "i=0\n",
    "while i<4:\n",
    "    break\n",
    "print i\n",
    "print \"other statements in program\"\n",
    "print \"some ending statements\""
   ]
  },
  {
   "cell_type": "code",
   "execution_count": 21,
   "metadata": {
    "collapsed": false
   },
   "outputs": [
    {
     "name": "stdout",
     "output_type": "stream",
     "text": [
      "some statements\n",
      "Enter a value:abc def\n",
      "iteration started\n",
      "a\n",
      "iteration ended\n",
      "iteration started\n",
      "b\n",
      "iteration ended\n",
      "iteration started\n",
      "c\n",
      "iteration ended\n",
      "iteration started\n",
      " \n",
      "iteration ended\n",
      "iteration started\n",
      "d\n",
      "iteration ended\n",
      "iteration started\n",
      "e\n",
      "iteration ended\n",
      "iteration started\n",
      "f\n",
      "iteration ended\n",
      "other statements in program\n",
      "some ending statements\n"
     ]
    }
   ],
   "source": [
    "print \"some statements\"\n",
    "s=raw_input(\"Enter a value:\")\n",
    "for i in s:\n",
    "    print \"iteration started\"\n",
    "    print i\n",
    "    print \"iteration ended\"\n",
    "print \"other statements in program\"\n",
    "print \"some ending statements\""
   ]
  },
  {
   "cell_type": "code",
   "execution_count": 22,
   "metadata": {
    "collapsed": false
   },
   "outputs": [
    {
     "name": "stdout",
     "output_type": "stream",
     "text": [
      "some statements\n",
      "Enter a value:abc def\n",
      "iteration started\n",
      "a\n",
      "iteration ended\n",
      "iteration started\n",
      "b\n",
      "iteration ended\n",
      "iteration started\n",
      "c\n",
      "iteration ended\n",
      "iteration started\n",
      "iteration started\n",
      "d\n",
      "iteration ended\n",
      "iteration started\n",
      "e\n",
      "iteration ended\n",
      "iteration started\n",
      "f\n",
      "iteration ended\n",
      "other statements in program\n",
      "some ending statements\n"
     ]
    }
   ],
   "source": [
    "print \"some statements\"\n",
    "s=raw_input(\"Enter a value:\")\n",
    "for i in s:\n",
    "    print \"iteration started\"\n",
    "    if i!=\" \":\n",
    "        print i\n",
    "        print \"iteration ended\"\n",
    "print \"other statements in program\"\n",
    "print \"some ending statements\""
   ]
  },
  {
   "cell_type": "code",
   "execution_count": 24,
   "metadata": {
    "collapsed": false
   },
   "outputs": [
    {
     "name": "stdout",
     "output_type": "stream",
     "text": [
      "some statements\n",
      "Enter a value:a b c\n",
      "iteration started\n",
      "a\n",
      "iteration ended\n",
      "iteration started\n",
      "continue executed going to the next iteration\n",
      "iteration started\n",
      "b\n",
      "iteration ended\n",
      "iteration started\n",
      "continue executed going to the next iteration\n",
      "iteration started\n",
      "c\n",
      "iteration ended\n",
      "other statements in program\n",
      "some ending statements\n"
     ]
    }
   ],
   "source": [
    "print \"some statements\"\n",
    "s=raw_input(\"Enter a value:\")\n",
    "for i in s:\n",
    "    print \"iteration started\"\n",
    "    if i==\" \":\n",
    "        print \"continue executed going to the next iteration\"\n",
    "        continue\n",
    "    print i\n",
    "    print \"iteration ended\"\n",
    "print \"other statements in program\"\n",
    "print \"some ending statements\""
   ]
  },
  {
   "cell_type": "code",
   "execution_count": 25,
   "metadata": {
    "collapsed": false
   },
   "outputs": [
    {
     "name": "stdout",
     "output_type": "stream",
     "text": [
      "some statements\n",
      "Enter a value:abc\n",
      "iteration started\n",
      "iteration started\n",
      "iteration started\n",
      "other statements in program\n",
      "some ending statements\n"
     ]
    }
   ],
   "source": [
    "print \"some statements\"\n",
    "s=raw_input(\"Enter a value:\")\n",
    "for i in s:\n",
    "    print \"iteration started\"\n",
    "    continue\n",
    "    print i\n",
    "    print \"iteration ended\"\n",
    "print \"other statements in program\"\n",
    "print \"some ending statements\""
   ]
  },
  {
   "cell_type": "code",
   "execution_count": 26,
   "metadata": {
    "collapsed": false
   },
   "outputs": [
    {
     "name": "stdout",
     "output_type": "stream",
     "text": [
      "some statements\n",
      "Enter a value:python\n",
      "iteration started\n",
      "iteration started\n",
      "iteration started\n",
      "iteration started\n",
      "iteration started\n",
      "iteration started\n",
      "n\n",
      "other statements in program\n",
      "some ending statements\n"
     ]
    }
   ],
   "source": [
    "print \"some statements\"\n",
    "s=raw_input(\"Enter a value:\")\n",
    "for i in s:\n",
    "    print \"iteration started\"\n",
    "    continue\n",
    "    print i\n",
    "    print \"iteration ended\"\n",
    "print i\n",
    "print \"other statements in program\"\n",
    "print \"some ending statements\""
   ]
  },
  {
   "cell_type": "code",
   "execution_count": 27,
   "metadata": {
    "collapsed": false
   },
   "outputs": [
    {
     "name": "stdout",
     "output_type": "stream",
     "text": [
      "some statements\n",
      "Enter a value:python\n",
      "iteration started\n",
      "p\n",
      "other statements in program\n",
      "some ending statements\n"
     ]
    }
   ],
   "source": [
    "print \"some statements\"\n",
    "s=raw_input(\"Enter a value:\")\n",
    "for i in s:\n",
    "    print \"iteration started\"\n",
    "    break\n",
    "    print i\n",
    "    print \"iteration ended\"\n",
    "print i\n",
    "print \"other statements in program\"\n",
    "print \"some ending statements\""
   ]
  },
  {
   "cell_type": "code",
   "execution_count": 29,
   "metadata": {
    "collapsed": false
   },
   "outputs": [
    {
     "name": "stdout",
     "output_type": "stream",
     "text": [
      "\n",
      "1.java\n",
      "2.php\n",
      "3.python\n",
      "\n",
      "Enter option:1\n",
      "some begining statements\n",
      "show java details \n",
      "other statements of prorgam\n",
      "ending statements\n"
     ]
    }
   ],
   "source": [
    "print \"\"\"\n",
    "1.java\n",
    "2.php\n",
    "3.python\n",
    "\"\"\"\n",
    "i=raw_input(\"Enter option:\")\n",
    "print \"some begining statements\"\n",
    "if i==\"1\":\n",
    "    print \"show java details \"\n",
    "    \n",
    "elif i==\"2\":\n",
    "    print \"show php details\"\n",
    "elif i==\"3\":\n",
    "    print \"show python details\"\n",
    "else:\n",
    "    print \"wrong option\"\n",
    "print \"other statements of prorgam\"\n",
    "print \"ending statements\""
   ]
  },
  {
   "cell_type": "code",
   "execution_count": 30,
   "metadata": {
    "collapsed": false
   },
   "outputs": [
    {
     "name": "stdout",
     "output_type": "stream",
     "text": [
      "1\n",
      "2\n",
      "3\n"
     ]
    }
   ],
   "source": [
    "for i in \"123\":\n",
    "    print i"
   ]
  },
  {
   "cell_type": "code",
   "execution_count": 31,
   "metadata": {
    "collapsed": false
   },
   "outputs": [
    {
     "ename": "TypeError",
     "evalue": "'int' object is not iterable",
     "output_type": "error",
     "traceback": [
      "\u001b[1;31m---------------------------------------------------------------------------\u001b[0m",
      "\u001b[1;31mTypeError\u001b[0m                                 Traceback (most recent call last)",
      "\u001b[1;32m<ipython-input-31-ac4b244ebd2f>\u001b[0m in \u001b[0;36m<module>\u001b[1;34m()\u001b[0m\n\u001b[1;32m----> 1\u001b[1;33m \u001b[1;32mfor\u001b[0m \u001b[0mi\u001b[0m \u001b[1;32min\u001b[0m \u001b[1;36m123\u001b[0m\u001b[1;33m:\u001b[0m\u001b[1;33m\u001b[0m\u001b[0m\n\u001b[0m\u001b[0;32m      2\u001b[0m     \u001b[1;32mprint\u001b[0m \u001b[0mi\u001b[0m\u001b[1;33m\u001b[0m\u001b[0m\n",
      "\u001b[1;31mTypeError\u001b[0m: 'int' object is not iterable"
     ]
    }
   ],
   "source": [
    "for i in 123:\n",
    "    print i"
   ]
  },
  {
   "cell_type": "code",
   "execution_count": 32,
   "metadata": {
    "collapsed": false
   },
   "outputs": [
    {
     "name": "stdout",
     "output_type": "stream",
     "text": [
      "s. continue, q. quits\n",
      "s. continue, q. quits\n",
      "s. continue, q. quits\n",
      "s. continue, q. quitq\n"
     ]
    }
   ],
   "source": [
    "while True:\n",
    "    a=raw_input(\"s. continue, q. quit\")\n",
    "    if a=='q':\n",
    "        break\n",
    "    "
   ]
  },
  {
   "cell_type": "code",
   "execution_count": null,
   "metadata": {
    "collapsed": true
   },
   "outputs": [],
   "source": []
  }
 ],
 "metadata": {
  "kernelspec": {
   "display_name": "Python 2",
   "language": "python",
   "name": "python2"
  },
  "language_info": {
   "codemirror_mode": {
    "name": "ipython",
    "version": 2
   },
   "file_extension": ".py",
   "mimetype": "text/x-python",
   "name": "python",
   "nbconvert_exporter": "python",
   "pygments_lexer": "ipython2",
   "version": "2.7.11"
  }
 },
 "nbformat": 4,
 "nbformat_minor": 0
}
