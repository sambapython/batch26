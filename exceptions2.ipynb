{
 "cells": [
  {
   "cell_type": "code",
   "execution_count": 1,
   "metadata": {
    "collapsed": true
   },
   "outputs": [],
   "source": [
    "d={'id':1,\"name\":\"name1\",\"sal\":122344}"
   ]
  },
  {
   "cell_type": "code",
   "execution_count": 3,
   "metadata": {
    "collapsed": false
   },
   "outputs": [
    {
     "name": "stdout",
     "output_type": "stream",
     "text": [
      "1 name1 122344\n"
     ]
    }
   ],
   "source": [
    "print d.get('id'),d.get(\"name\"),d.get('sal')"
   ]
  },
  {
   "cell_type": "code",
   "execution_count": 4,
   "metadata": {
    "collapsed": false
   },
   "outputs": [
    {
     "name": "stdout",
     "output_type": "stream",
     "text": [
      "1\n"
     ]
    }
   ],
   "source": [
    "print \"%(id)s\"%d"
   ]
  },
  {
   "cell_type": "code",
   "execution_count": 5,
   "metadata": {
    "collapsed": false
   },
   "outputs": [
    {
     "name": "stdout",
     "output_type": "stream",
     "text": [
      "name1\n"
     ]
    }
   ],
   "source": [
    "print \"%(name)s\"%d"
   ]
  },
  {
   "cell_type": "code",
   "execution_count": 6,
   "metadata": {
    "collapsed": false
   },
   "outputs": [
    {
     "name": "stdout",
     "output_type": "stream",
     "text": [
      "122344\n"
     ]
    }
   ],
   "source": [
    "print \"%(sal)s\"%d"
   ]
  },
  {
   "cell_type": "code",
   "execution_count": 7,
   "metadata": {
    "collapsed": false
   },
   "outputs": [
    {
     "name": "stdout",
     "output_type": "stream",
     "text": [
      "1, name1, 122344\n"
     ]
    }
   ],
   "source": [
    "print \"%(id)s, %(name)s, %(sal)s\"%d"
   ]
  },
  {
   "cell_type": "code",
   "execution_count": 8,
   "metadata": {
    "collapsed": false
   },
   "outputs": [
    {
     "ename": "KeyError",
     "evalue": "'id123'",
     "output_type": "error",
     "traceback": [
      "\u001b[0;31m---------------------------------------------------------------------------\u001b[0m",
      "\u001b[0;31mKeyError\u001b[0m                                  Traceback (most recent call last)",
      "\u001b[0;32m<ipython-input-8-60b3726a6ee1>\u001b[0m in \u001b[0;36m<module>\u001b[0;34m()\u001b[0m\n\u001b[0;32m----> 1\u001b[0;31m \u001b[0;32mprint\u001b[0m \u001b[0;34m\"%(id123)s, %(name)s, %(sal)s\"\u001b[0m\u001b[0;34m%\u001b[0m\u001b[0md\u001b[0m\u001b[0;34m\u001b[0m\u001b[0m\n\u001b[0m",
      "\u001b[0;31mKeyError\u001b[0m: 'id123'"
     ]
    }
   ],
   "source": [
    "print \"%(id123)s, %(name)s, %(sal)s\"%d"
   ]
  },
  {
   "cell_type": "code",
   "execution_count": 9,
   "metadata": {
    "collapsed": true
   },
   "outputs": [],
   "source": [
    "import os"
   ]
  },
  {
   "cell_type": "code",
   "execution_count": 10,
   "metadata": {
    "collapsed": true
   },
   "outputs": [],
   "source": [
    "import sys"
   ]
  },
  {
   "cell_type": "code",
   "execution_count": 12,
   "metadata": {
    "collapsed": false
   },
   "outputs": [
    {
     "data": {
      "text/plain": [
       "'linux2'"
      ]
     },
     "execution_count": 12,
     "metadata": {},
     "output_type": "execute_result"
    }
   ],
   "source": [
    "sys.platform"
   ]
  },
  {
   "cell_type": "code",
   "execution_count": 13,
   "metadata": {
    "collapsed": true
   },
   "outputs": [],
   "source": [
    "import os"
   ]
  },
  {
   "cell_type": "code",
   "execution_count": 14,
   "metadata": {
    "collapsed": false
   },
   "outputs": [
    {
     "data": {
      "text/plain": [
       "0"
      ]
     },
     "execution_count": 14,
     "metadata": {},
     "output_type": "execute_result"
    }
   ],
   "source": [
    "os.system(\"mkdir folder_creaed_by_osmodule\")"
   ]
  },
  {
   "cell_type": "code",
   "execution_count": 15,
   "metadata": {
    "collapsed": false
   },
   "outputs": [
    {
     "data": {
      "text/plain": [
       "0"
      ]
     },
     "execution_count": 15,
     "metadata": {},
     "output_type": "execute_result"
    }
   ],
   "source": [
    "os.system(\"rm -r folder_creaed_by_osmodule\")"
   ]
  },
  {
   "cell_type": "code",
   "execution_count": 17,
   "metadata": {
    "collapsed": false
   },
   "outputs": [],
   "source": [
    "os.mkdir?"
   ]
  },
  {
   "cell_type": "code",
   "execution_count": 18,
   "metadata": {
    "collapsed": true
   },
   "outputs": [],
   "source": [
    "import urllib2\n",
    "resp = urllib2.urlopen(\"http://www.x-rates.com/table/?from=INR&amount=1\")"
   ]
  },
  {
   "cell_type": "code",
   "execution_count": 19,
   "metadata": {
    "collapsed": false
   },
   "outputs": [
    {
     "data": {
      "text/plain": [
       "<addinfourl at 139799447709600 whose fp = <socket._fileobject object at 0x7f259869c0d0>>"
      ]
     },
     "execution_count": 19,
     "metadata": {},
     "output_type": "execute_result"
    }
   ],
   "source": [
    "resp"
   ]
  },
  {
   "cell_type": "code",
   "execution_count": 20,
   "metadata": {
    "collapsed": true
   },
   "outputs": [],
   "source": [
    "data = resp.read()"
   ]
  },
  {
   "cell_type": "code",
   "execution_count": 22,
   "metadata": {
    "collapsed": false
   },
   "outputs": [
    {
     "name": "stdout",
     "output_type": "stream",
     "text": [
      "\n"
     ]
    }
   ],
   "source": [
    "data\n",
    "print \"\""
   ]
  },
  {
   "cell_type": "code",
   "execution_count": 23,
   "metadata": {
    "collapsed": false
   },
   "outputs": [
    {
     "name": "stderr",
     "output_type": "stream",
     "text": [
      "/home/tcloudost/Downloads/yes/lib/python2.7/site-packages/bs4/__init__.py:181: UserWarning: No parser was explicitly specified, so I'm using the best available HTML parser for this system (\"lxml\"). This usually isn't a problem, but if you run this code on another system, or in a different virtual environment, it may use a different parser and behave differently.\n",
      "\n",
      "The code that caused this warning is on line 174 of the file /home/tcloudost/Downloads/yes/lib/python2.7/runpy.py. To get rid of this warning, change code that looks like this:\n",
      "\n",
      " BeautifulSoup([your markup])\n",
      "\n",
      "to this:\n",
      "\n",
      " BeautifulSoup([your markup], \"lxml\")\n",
      "\n",
      "  markup_type=markup_type))\n"
     ]
    }
   ],
   "source": [
    "from bs4 import BeautifulSoup\n",
    "bs = BeautifulSoup(data)"
   ]
  },
  {
   "cell_type": "code",
   "execution_count": 26,
   "metadata": {
    "collapsed": false
   },
   "outputs": [],
   "source": [
    "currency_rate = bs.find_all(name=\"a\")"
   ]
  },
  {
   "cell_type": "code",
   "execution_count": 27,
   "metadata": {
    "collapsed": false
   },
   "outputs": [
    {
     "name": "stdout",
     "output_type": "stream",
     "text": [
      "[<a href=\"#content\">Skip to Main Content</a>, <a class=\"brand\" href=\"/\"><img alt=\"xrates logo\" border=\"0\" src=\"/themes/x-rates/images/xrates_sm_tm.png\"/></a>, <a class=\"navtoggle\" id=\"navtoggle\">\\n<div class=\"nav-icon\"></div>\\n</a>, <a href=\"/\" rel=\"homepage\">Home</a>, <a href=\"/calculator/\" onclick=\"submitConverterArgs(this)\" rel=\"currencycalculator\">Currency Calculator</a>, <a href=\"/graph/\" onclick=\"submitConverterArgs(this)\" rel=\"currencygraph\">Graphs</a>, <a href=\"/table/\" onclick=\"submitConverterArgs(this)\" rel=\"ratestable\">Rates Table</a>, <a href=\"/average/\" onclick=\"submitConverterWithExtraArgs(this)\" rel=\"monthlyaverage\">Monthly Average</a>, <a href=\"/historical/\" onclick=\"submitConverterWithExtraArgs(this)\" rel=\"historicallookup\">Historic Lookup</a>, <a href=\"/\"><img alt=\"xrates logo\" border=\"0\" class=\"main-logo\" src=\"/themes/x-rates/images/xrates_lg_tm.png\"/></a>, <a href=\"http://www.xe.com/xecurrencydata/?WT.mc_id=XDF-728x90-RROS-ADL-XX-V01-130901\"><img alt=\"Ad\" border=\"0\" src=\"/themes/x-rates/images/ads/728x90_dfs.png\"/></a>, <a href=\"/\">Home</a>, <a class=\"backToConverterButton\" href=\"#converter\">Converter</a>, <a href=\"/graph/?from=INR&amp;to=USD\">0.015608</a>, <a href=\"/graph/?from=USD&amp;to=INR\">64.069084</a>, <a href=\"/graph/?from=INR&amp;to=EUR\">0.014046</a>, <a href=\"/graph/?from=EUR&amp;to=INR\">71.193154</a>, <a href=\"/graph/?from=INR&amp;to=GBP\">0.012077</a>, <a href=\"/graph/?from=GBP&amp;to=INR\">82.802667</a>, <a href=\"/graph/?from=INR&amp;to=AUD\">0.021040</a>, <a href=\"/graph/?from=AUD&amp;to=INR\">47.527425</a>, <a href=\"/graph/?from=INR&amp;to=CAD\">0.021237</a>, <a href=\"/graph/?from=CAD&amp;to=INR\">47.088208</a>, <a href=\"/graph/?from=INR&amp;to=SGD\">0.021759</a>, <a href=\"/graph/?from=SGD&amp;to=INR\">45.958357</a>, <a href=\"/graph/?from=INR&amp;to=CHF\">0.015340</a>, <a href=\"/graph/?from=CHF&amp;to=INR\">65.189754</a>, <a href=\"/graph/?from=INR&amp;to=MYR\">0.067409</a>, <a href=\"/graph/?from=MYR&amp;to=INR\">14.834792</a>, <a href=\"/graph/?from=INR&amp;to=JPY\">1.755404</a>, <a href=\"/graph/?from=JPY&amp;to=INR\">0.569670</a>, <a href=\"/graph/?from=INR&amp;to=CNY\">0.107451</a>, <a href=\"/graph/?from=CNY&amp;to=INR\">9.306544</a>, <a href=\"/graph/?from=INR&amp;to=ARS\">0.243095</a>, <a href=\"/graph/?from=ARS&amp;to=INR\">4.113616</a>, <a href=\"/graph/?from=INR&amp;to=AUD\">0.021040</a>, <a href=\"/graph/?from=AUD&amp;to=INR\">47.527425</a>, <a href=\"/graph/?from=INR&amp;to=BHD\">0.005879</a>, <a href=\"/graph/?from=BHD&amp;to=INR\">170.093136</a>, <a href=\"/graph/?from=INR&amp;to=BWP\">0.161630</a>, <a href=\"/graph/?from=BWP&amp;to=INR\">6.186952</a>, <a href=\"/graph/?from=INR&amp;to=BRL\">0.048341</a>, <a href=\"/graph/?from=BRL&amp;to=INR\">20.686506</a>, <a href=\"/graph/?from=INR&amp;to=BND\">0.021759</a>, <a href=\"/graph/?from=BND&amp;to=INR\">45.958357</a>, <a href=\"/graph/?from=INR&amp;to=BGN\">0.027537</a>, <a href=\"/graph/?from=BGN&amp;to=INR\">36.314317</a>, <a href=\"/graph/?from=INR&amp;to=CAD\">0.021237</a>, <a href=\"/graph/?from=CAD&amp;to=INR\">47.088208</a>, <a href=\"/graph/?from=INR&amp;to=CLP\">10.402496</a>, <a href=\"/graph/?from=CLP&amp;to=INR\">0.096131</a>, <a href=\"/graph/?from=INR&amp;to=CNY\">0.107451</a>, <a href=\"/graph/?from=CNY&amp;to=INR\">9.306544</a>, <a href=\"/graph/?from=INR&amp;to=COP\">44.887904</a>, <a href=\"/graph/?from=COP&amp;to=INR\">0.022278</a>, <a href=\"/graph/?from=INR&amp;to=HRK\">0.104407</a>, <a href=\"/graph/?from=HRK&amp;to=INR\">9.577938</a>, <a href=\"/graph/?from=INR&amp;to=CZK\">0.370722</a>, <a href=\"/graph/?from=CZK&amp;to=INR\">2.697436</a>, <a href=\"/graph/?from=INR&amp;to=DKK\">0.104507</a>, <a href=\"/graph/?from=DKK&amp;to=INR\">9.568706</a>, <a href=\"/graph/?from=INR&amp;to=EUR\">0.014046</a>, <a href=\"/graph/?from=EUR&amp;to=INR\">71.193154</a>, <a href=\"/graph/?from=INR&amp;to=HKD\">0.121548</a>, <a href=\"/graph/?from=HKD&amp;to=INR\">8.227227</a>, <a href=\"/graph/?from=INR&amp;to=HUF\">4.347303</a>, <a href=\"/graph/?from=HUF&amp;to=INR\">0.230028</a>, <a href=\"/graph/?from=INR&amp;to=ISK\">1.591693</a>, <a href=\"/graph/?from=ISK&amp;to=INR\">0.628262</a>, <a href=\"/graph/?from=INR&amp;to=IDR\">207.754922</a>, <a href=\"/graph/?from=IDR&amp;to=INR\">0.004813</a>, <a href=\"/graph/?from=INR&amp;to=IRR\">505.827390</a>, <a href=\"/graph/?from=IRR&amp;to=INR\">0.001977</a>, <a href=\"/graph/?from=INR&amp;to=ILS\">0.056106</a>, <a href=\"/graph/?from=ILS&amp;to=INR\">17.823462</a>, <a href=\"/graph/?from=INR&amp;to=JPY\">1.755404</a>, <a href=\"/graph/?from=JPY&amp;to=INR\">0.569670</a>, <a href=\"/graph/?from=INR&amp;to=KZT\">4.872837</a>, <a href=\"/graph/?from=KZT&amp;to=INR\">0.205219</a>, <a href=\"/graph/?from=INR&amp;to=KRW\">17.451342</a>, <a href=\"/graph/?from=KRW&amp;to=INR\">0.057302</a>, <a href=\"/graph/?from=INR&amp;to=KWD\">0.004752</a>, <a href=\"/graph/?from=KWD&amp;to=INR\">210.439563</a>, <a href=\"/graph/?from=INR&amp;to=LYD\">0.021662</a>, <a href=\"/graph/?from=LYD&amp;to=INR\">46.164845</a>, <a href=\"/graph/?from=INR&amp;to=MYR\">0.067409</a>, <a href=\"/graph/?from=MYR&amp;to=INR\">14.834792</a>, <a href=\"/graph/?from=INR&amp;to=MUR\">0.549135</a>, <a href=\"/graph/?from=MUR&amp;to=INR\">1.821044</a>, <a href=\"/graph/?from=INR&amp;to=MXN\">0.291546</a>, <a href=\"/graph/?from=MXN&amp;to=INR\">3.429990</a>, <a href=\"/graph/?from=INR&amp;to=NPR\">1.599711</a>, <a href=\"/graph/?from=NPR&amp;to=INR\">0.625113</a>, <a href=\"/graph/?from=INR&amp;to=NZD\">0.022652</a>, <a href=\"/graph/?from=NZD&amp;to=INR\">44.145610</a>, <a href=\"/graph/?from=INR&amp;to=NOK\">0.131999</a>, <a href=\"/graph/?from=NOK&amp;to=INR\">7.575805</a>, <a href=\"/graph/?from=INR&amp;to=OMR\">0.006007</a>, <a href=\"/graph/?from=OMR&amp;to=INR\">166.472178</a>, <a href=\"/graph/?from=INR&amp;to=PKR\">1.635815</a>, <a href=\"/graph/?from=PKR&amp;to=INR\">0.611316</a>, <a href=\"/graph/?from=INR&amp;to=PHP\">0.776383</a>, <a href=\"/graph/?from=PHP&amp;to=INR\">1.288024</a>, <a href=\"/graph/?from=INR&amp;to=PLN\">0.058617</a>, <a href=\"/graph/?from=PLN&amp;to=INR\">17.060035</a>, <a href=\"/graph/?from=INR&amp;to=QAR\">0.056844</a>, <a href=\"/graph/?from=QAR&amp;to=INR\">17.592096</a>, <a href=\"/graph/?from=INR&amp;to=RON\">0.063900</a>, <a href=\"/graph/?from=RON&amp;to=INR\">15.649368</a>, <a href=\"/graph/?from=INR&amp;to=RUB\">0.882347</a>, <a href=\"/graph/?from=RUB&amp;to=INR\">1.133341</a>, <a href=\"/graph/?from=INR&amp;to=SAR\">0.058540</a>, <a href=\"/graph/?from=SAR&amp;to=INR\">17.082261</a>, <a href=\"/graph/?from=INR&amp;to=SGD\">0.021759</a>, <a href=\"/graph/?from=SGD&amp;to=INR\">45.958357</a>, <a href=\"/graph/?from=INR&amp;to=ZAR\">0.204060</a>, <a href=\"/graph/?from=ZAR&amp;to=INR\">4.900531</a>, <a href=\"/graph/?from=INR&amp;to=LKR\">2.376139</a>, <a href=\"/graph/?from=LKR&amp;to=INR\">0.420851</a>, <a href=\"/graph/?from=INR&amp;to=SEK\">0.136865</a>, <a href=\"/graph/?from=SEK&amp;to=INR\">7.306472</a>, <a href=\"/graph/?from=INR&amp;to=CHF\">0.015340</a>, <a href=\"/graph/?from=CHF&amp;to=INR\">65.189754</a>, <a href=\"/graph/?from=INR&amp;to=TWD\">0.470307</a>, <a href=\"/graph/?from=TWD&amp;to=INR\">2.126271</a>, <a href=\"/graph/?from=INR&amp;to=THB\">0.538116</a>, <a href=\"/graph/?from=THB&amp;to=INR\">1.858334</a>, <a href=\"/graph/?from=INR&amp;to=TTD\">0.105082</a>, <a href=\"/graph/?from=TTD&amp;to=INR\">9.516367</a>, <a href=\"/graph/?from=INR&amp;to=TRY\">0.055315</a>, <a href=\"/graph/?from=TRY&amp;to=INR\">18.078120</a>, <a href=\"/graph/?from=INR&amp;to=AED\">0.057330</a>, <a href=\"/graph/?from=AED&amp;to=INR\">17.442854</a>, <a href=\"/graph/?from=INR&amp;to=GBP\">0.012077</a>, <a href=\"/graph/?from=GBP&amp;to=INR\">82.802667</a>, <a href=\"/graph/?from=INR&amp;to=USD\">0.015608</a>, <a href=\"/graph/?from=USD&amp;to=INR\">64.069084</a>, <a href=\"/graph/?from=INR&amp;to=VEF\">0.157358</a>, <a href=\"/graph/?from=VEF&amp;to=INR\">6.354948</a>, <a href=\"/graph/?from=INR&amp;to=LVL\">0.009872</a>, <a href=\"/graph/?from=LVL&amp;to=INR\">101.299308</a>, <a href=\"/graph/?from=INR&amp;to=LTL\">0.048499</a>, <a href=\"/graph/?from=LTL&amp;to=INR\">20.618962</a>, <a name=\"converter\"></a>, <a class=\"amountFieldArrow\" href=\"http://www.x-rates.com/table/\" onclick=\"submitConverterArgs(this)\" rel=\"ratestable\">\\xa0<span class=\"contentArrow\">\\u25ba</span></a>, <a class=\"converterInverseButton\" href=\"#\" onclick=\"return false\"><span class=\"inverseArrow exclude\">\\u2194</span></a>, <a href=\"http://www.x-rates.com/calculator/\" onclick=\"submitConverterArgs(this)\" rel=\"currencycalculator\"><span class=\"converterButtonsSmallTooltip\">Currency Calculator</span><span class=\"activeArrow pull-right\">\\u25ba</span></a>, <a href=\"http://www.x-rates.com/graph/\" onclick=\"submitConverterArgs(this)\" rel=\"currencygraph\"><span class=\"converterButtonsSmallTooltip\">Graphs</span><span class=\"activeArrow pull-right\">\\u25ba</span></a>, <a href=\"http://www.x-rates.com/table/\" onclick=\"submitConverterArgs(this)\" rel=\"ratestable\"><span class=\"converterButtonsSmallTooltip\">Rates Table</span><span class=\"activeArrow pull-right\">\\u25ba</span></a>, <a href=\"http://www.x-rates.com/average/\" onclick=\"submitConverterWithExtraArgs(this)\" rel=\"monthlyaverage\"><span class=\"converterButtonsSmallTooltip\">Monthly Average</span></a>, <a href=\"http://www.x-rates.com/historical/\" onclick=\"submitConverterWithExtraArgs(this)\" rel=\"historicallookup\"><span class=\"converterButtonsSmallTooltip\">Historic Lookup</span></a>, <a href=\"http://www.xe.com/xecurrencydata/\" target=\"_blank\">XE Currency Data API</a>, <a href=\"http://www.x-rates.com/table/?from=ARS\" onclick=\"submitConverterArgs(this)\" rel=\"ratestable\">Argentine Peso</a>, <a href=\"http://www.x-rates.com/table/?from=AUD\" onclick=\"submitConverterArgs(this)\" rel=\"ratestable\">Australian Dollar</a>, <a href=\"http://www.x-rates.com/table/?from=BHD\" onclick=\"submitConverterArgs(this)\" rel=\"ratestable\">Bahraini Dinar</a>, <a href=\"http://www.x-rates.com/table/?from=BWP\" onclick=\"submitConverterArgs(this)\" rel=\"ratestable\">Botswana Pula</a>, <a href=\"http://www.x-rates.com/table/?from=BRL\" onclick=\"submitConverterArgs(this)\" rel=\"ratestable\">Brazilian Real</a>, <a href=\"http://www.x-rates.com/table/?from=BND\" onclick=\"submitConverterArgs(this)\" rel=\"ratestable\">Bruneian Dollar</a>, <a href=\"http://www.x-rates.com/table/?from=BGN\" onclick=\"submitConverterArgs(this)\" rel=\"ratestable\">Bulgarian Lev</a>, <a href=\"http://www.x-rates.com/table/?from=CAD\" onclick=\"submitConverterArgs(this)\" rel=\"ratestable\">Canadian Dollar</a>, <a href=\"http://www.x-rates.com/table/?from=CLP\" onclick=\"submitConverterArgs(this)\" rel=\"ratestable\">Chilean Peso</a>, <a href=\"http://www.x-rates.com/table/?from=CNY\" onclick=\"submitConverterArgs(this)\" rel=\"ratestable\">Chinese Yuan Renminbi</a>, <a href=\"http://www.x-rates.com/table/?from=COP\" onclick=\"submitConverterArgs(this)\" rel=\"ratestable\">Colombian Peso</a>, <a href=\"http://www.x-rates.com/table/?from=HRK\" onclick=\"submitConverterArgs(this)\" rel=\"ratestable\">Croatian Kuna</a>, <a href=\"http://www.x-rates.com/table/?from=CZK\" onclick=\"submitConverterArgs(this)\" rel=\"ratestable\">Czech Koruna</a>, <a href=\"http://www.x-rates.com/table/?from=DKK\" onclick=\"submitConverterArgs(this)\" rel=\"ratestable\">Danish Krone</a>, <a href=\"http://www.x-rates.com/table/?from=EUR\" onclick=\"submitConverterArgs(this)\" rel=\"ratestable\">Euro</a>, <a href=\"http://www.x-rates.com/table/?from=HKD\" onclick=\"submitConverterArgs(this)\" rel=\"ratestable\">Hong Kong Dollar</a>, <a href=\"http://www.x-rates.com/table/?from=HUF\" onclick=\"submitConverterArgs(this)\" rel=\"ratestable\">Hungarian Forint</a>, <a href=\"http://www.x-rates.com/table/?from=ISK\" onclick=\"submitConverterArgs(this)\" rel=\"ratestable\">Icelandic Krona</a>, <a class=\"selected\" href=\"http://www.x-rates.com/table/?from=INR\" onclick=\"submitConverterArgs(this)\" rel=\"ratestable\">Indian Rupee</a>, <a href=\"http://www.x-rates.com/table/?from=IDR\" onclick=\"submitConverterArgs(this)\" rel=\"ratestable\">Indonesian Rupiah</a>, <a href=\"http://www.x-rates.com/table/?from=IRR\" onclick=\"submitConverterArgs(this)\" rel=\"ratestable\">Iranian Rial</a>, <a href=\"http://www.x-rates.com/table/?from=ILS\" onclick=\"submitConverterArgs(this)\" rel=\"ratestable\">Israeli Shekel</a>, <a href=\"http://www.x-rates.com/table/?from=JPY\" onclick=\"submitConverterArgs(this)\" rel=\"ratestable\">Japanese Yen</a>, <a href=\"http://www.x-rates.com/table/?from=KZT\" onclick=\"submitConverterArgs(this)\" rel=\"ratestable\">Kazakhstani Tenge</a>, <a href=\"http://www.x-rates.com/table/?from=KRW\" onclick=\"submitConverterArgs(this)\" rel=\"ratestable\">South Korean Won</a>, <a href=\"http://www.x-rates.com/table/?from=KWD\" onclick=\"submitConverterArgs(this)\" rel=\"ratestable\">Kuwaiti Dinar</a>, <a href=\"http://www.x-rates.com/table/?from=LYD\" onclick=\"submitConverterArgs(this)\" rel=\"ratestable\">Libyan Dinar</a>, <a href=\"http://www.x-rates.com/table/?from=MYR\" onclick=\"submitConverterArgs(this)\" rel=\"ratestable\">Malaysian Ringgit</a>, <a href=\"http://www.x-rates.com/table/?from=MUR\" onclick=\"submitConverterArgs(this)\" rel=\"ratestable\">Mauritian Rupee</a>, <a href=\"http://www.x-rates.com/table/?from=MXN\" onclick=\"submitConverterArgs(this)\" rel=\"ratestable\">Mexican Peso</a>, <a href=\"http://www.x-rates.com/table/?from=NPR\" onclick=\"submitConverterArgs(this)\" rel=\"ratestable\">Nepalese Rupee</a>, <a href=\"http://www.x-rates.com/table/?from=NZD\" onclick=\"submitConverterArgs(this)\" rel=\"ratestable\">New Zealand Dollar</a>, <a href=\"http://www.x-rates.com/table/?from=NOK\" onclick=\"submitConverterArgs(this)\" rel=\"ratestable\">Norwegian Krone</a>, <a href=\"http://www.x-rates.com/table/?from=OMR\" onclick=\"submitConverterArgs(this)\" rel=\"ratestable\">Omani Rial</a>, <a href=\"http://www.x-rates.com/table/?from=PKR\" onclick=\"submitConverterArgs(this)\" rel=\"ratestable\">Pakistani Rupee</a>, <a href=\"http://www.x-rates.com/table/?from=PHP\" onclick=\"submitConverterArgs(this)\" rel=\"ratestable\">Philippine Peso</a>, <a href=\"http://www.x-rates.com/table/?from=PLN\" onclick=\"submitConverterArgs(this)\" rel=\"ratestable\">Polish Zloty</a>, <a href=\"http://www.x-rates.com/table/?from=QAR\" onclick=\"submitConverterArgs(this)\" rel=\"ratestable\">Qatari Riyal</a>, <a href=\"http://www.x-rates.com/table/?from=RON\" onclick=\"submitConverterArgs(this)\" rel=\"ratestable\">Romanian New Leu</a>, <a href=\"http://www.x-rates.com/table/?from=RUB\" onclick=\"submitConverterArgs(this)\" rel=\"ratestable\">Russian Ruble</a>, <a href=\"http://www.x-rates.com/table/?from=SAR\" onclick=\"submitConverterArgs(this)\" rel=\"ratestable\">Saudi Arabian Riyal</a>, <a href=\"http://www.x-rates.com/table/?from=SGD\" onclick=\"submitConverterArgs(this)\" rel=\"ratestable\">Singapore Dollar</a>, <a href=\"http://www.x-rates.com/table/?from=ZAR\" onclick=\"submitConverterArgs(this)\" rel=\"ratestable\">South African Rand</a>, <a href=\"http://www.x-rates.com/table/?from=LKR\" onclick=\"submitConverterArgs(this)\" rel=\"ratestable\">Sri Lankan Rupee</a>, <a href=\"http://www.x-rates.com/table/?from=SEK\" onclick=\"submitConverterArgs(this)\" rel=\"ratestable\">Swedish Krona</a>, <a href=\"http://www.x-rates.com/table/?from=CHF\" onclick=\"submitConverterArgs(this)\" rel=\"ratestable\">Swiss Franc</a>, <a href=\"http://www.x-rates.com/table/?from=TWD\" onclick=\"submitConverterArgs(this)\" rel=\"ratestable\">Taiwan New Dollar</a>, <a href=\"http://www.x-rates.com/table/?from=THB\" onclick=\"submitConverterArgs(this)\" rel=\"ratestable\">Thai Baht</a>, <a href=\"http://www.x-rates.com/table/?from=TTD\" onclick=\"submitConverterArgs(this)\" rel=\"ratestable\">Trinidadian Dollar</a>, <a href=\"http://www.x-rates.com/table/?from=TRY\" onclick=\"submitConverterArgs(this)\" rel=\"ratestable\">Turkish Lira</a>, <a href=\"http://www.x-rates.com/table/?from=AED\" onclick=\"submitConverterArgs(this)\" rel=\"ratestable\">Emirati Dirham</a>, <a href=\"http://www.x-rates.com/table/?from=GBP\" onclick=\"submitConverterArgs(this)\" rel=\"ratestable\">British Pound</a>, <a href=\"http://www.x-rates.com/table/?from=USD\" onclick=\"submitConverterArgs(this)\" rel=\"ratestable\">US Dollar</a>, <a href=\"http://www.x-rates.com/table/?from=VEF\" onclick=\"submitConverterArgs(this)\" rel=\"ratestable\">Venezuelan Bolivar</a>, <a href=\"http://www.xe.com/xecurrencydata/?WT.mc_id=XDF-300x250-RROS-ADL-XX-V01-130901\"><img alt=\"Ad\" border=\"0\" src=\"/themes/x-rates/images/ads/300x250_dfs.png\"/></a>, <a href=\"/euro/\" rel=\"euroInfo\">Euro Information</a>, <a href=\"/faq/\" rel=\"faq\">FAQ</a>, <a href=\"/feedback/\" rel=\"feedback\">Feedback</a>, <a href=\"/terms/\" rel=\"termsofservice\">Terms of Service</a>, <a href=\"/privacy/\" rel=\"privacy\">Privacy</a>, <a href=\"/advertise/\" rel=\"advertise\">Advertise on X-Rates</a>, <a href=\"/feedback/\" rel=\"feedback\">Feedback</a>, <a href=\"/faq/\" rel=\"faq\">FAQ</a>]\n"
     ]
    }
   ],
   "source": [
    "print currency_rate"
   ]
  },
  {
   "cell_type": "code",
   "execution_count": 28,
   "metadata": {
    "collapsed": true
   },
   "outputs": [],
   "source": [
    "import pandas as pd"
   ]
  },
  {
   "cell_type": "code",
   "execution_count": 29,
   "metadata": {
    "collapsed": false
   },
   "outputs": [
    {
     "ename": "ImportError",
     "evalue": "html5lib not found, please install it",
     "output_type": "error",
     "traceback": [
      "\u001b[0;31m---------------------------------------------------------------------------\u001b[0m",
      "\u001b[0;31mImportError\u001b[0m                               Traceback (most recent call last)",
      "\u001b[0;32m<ipython-input-29-7844ee72fe55>\u001b[0m in \u001b[0;36m<module>\u001b[0;34m()\u001b[0m\n\u001b[0;32m----> 1\u001b[0;31m \u001b[0mpd\u001b[0m\u001b[0;34m.\u001b[0m\u001b[0mread_html\u001b[0m\u001b[0;34m(\u001b[0m\u001b[0;34m'http://www.x-rates.com/table/?from=INR&amount=1'\u001b[0m\u001b[0;34m)\u001b[0m\u001b[0;34m\u001b[0m\u001b[0m\n\u001b[0m",
      "\u001b[0;32m/home/tcloudost/Downloads/yes/lib/python2.7/site-packages/pandas/io/html.pyc\u001b[0m in \u001b[0;36mread_html\u001b[0;34m(io, match, flavor, header, index_col, skiprows, attrs, parse_dates, tupleize_cols, thousands, encoding, decimal, converters, na_values, keep_default_na)\u001b[0m\n\u001b[1;32m    894\u001b[0m                   \u001b[0mthousands\u001b[0m\u001b[0;34m=\u001b[0m\u001b[0mthousands\u001b[0m\u001b[0;34m,\u001b[0m \u001b[0mattrs\u001b[0m\u001b[0;34m=\u001b[0m\u001b[0mattrs\u001b[0m\u001b[0;34m,\u001b[0m \u001b[0mencoding\u001b[0m\u001b[0;34m=\u001b[0m\u001b[0mencoding\u001b[0m\u001b[0;34m,\u001b[0m\u001b[0;34m\u001b[0m\u001b[0m\n\u001b[1;32m    895\u001b[0m                   \u001b[0mdecimal\u001b[0m\u001b[0;34m=\u001b[0m\u001b[0mdecimal\u001b[0m\u001b[0;34m,\u001b[0m \u001b[0mconverters\u001b[0m\u001b[0;34m=\u001b[0m\u001b[0mconverters\u001b[0m\u001b[0;34m,\u001b[0m \u001b[0mna_values\u001b[0m\u001b[0;34m=\u001b[0m\u001b[0mna_values\u001b[0m\u001b[0;34m,\u001b[0m\u001b[0;34m\u001b[0m\u001b[0m\n\u001b[0;32m--> 896\u001b[0;31m                   keep_default_na=keep_default_na)\n\u001b[0m",
      "\u001b[0;32m/home/tcloudost/Downloads/yes/lib/python2.7/site-packages/pandas/io/html.pyc\u001b[0m in \u001b[0;36m_parse\u001b[0;34m(flavor, io, match, attrs, encoding, **kwargs)\u001b[0m\n\u001b[1;32m    721\u001b[0m     \u001b[0mretained\u001b[0m \u001b[0;34m=\u001b[0m \u001b[0mNone\u001b[0m\u001b[0;34m\u001b[0m\u001b[0m\n\u001b[1;32m    722\u001b[0m     \u001b[0;32mfor\u001b[0m \u001b[0mflav\u001b[0m \u001b[0;32min\u001b[0m \u001b[0mflavor\u001b[0m\u001b[0;34m:\u001b[0m\u001b[0;34m\u001b[0m\u001b[0m\n\u001b[0;32m--> 723\u001b[0;31m         \u001b[0mparser\u001b[0m \u001b[0;34m=\u001b[0m \u001b[0m_parser_dispatch\u001b[0m\u001b[0;34m(\u001b[0m\u001b[0mflav\u001b[0m\u001b[0;34m)\u001b[0m\u001b[0;34m\u001b[0m\u001b[0m\n\u001b[0m\u001b[1;32m    724\u001b[0m         \u001b[0mp\u001b[0m \u001b[0;34m=\u001b[0m \u001b[0mparser\u001b[0m\u001b[0;34m(\u001b[0m\u001b[0mio\u001b[0m\u001b[0;34m,\u001b[0m \u001b[0mcompiled_match\u001b[0m\u001b[0;34m,\u001b[0m \u001b[0mattrs\u001b[0m\u001b[0;34m,\u001b[0m \u001b[0mencoding\u001b[0m\u001b[0;34m)\u001b[0m\u001b[0;34m\u001b[0m\u001b[0m\n\u001b[1;32m    725\u001b[0m \u001b[0;34m\u001b[0m\u001b[0m\n",
      "\u001b[0;32m/home/tcloudost/Downloads/yes/lib/python2.7/site-packages/pandas/io/html.pyc\u001b[0m in \u001b[0;36m_parser_dispatch\u001b[0;34m(flavor)\u001b[0m\n\u001b[1;32m    666\u001b[0m     \u001b[0;32mif\u001b[0m \u001b[0mflavor\u001b[0m \u001b[0;32min\u001b[0m \u001b[0;34m(\u001b[0m\u001b[0;34m'bs4'\u001b[0m\u001b[0;34m,\u001b[0m \u001b[0;34m'html5lib'\u001b[0m\u001b[0;34m)\u001b[0m\u001b[0;34m:\u001b[0m\u001b[0;34m\u001b[0m\u001b[0m\n\u001b[1;32m    667\u001b[0m         \u001b[0;32mif\u001b[0m \u001b[0;32mnot\u001b[0m \u001b[0m_HAS_HTML5LIB\u001b[0m\u001b[0;34m:\u001b[0m\u001b[0;34m\u001b[0m\u001b[0m\n\u001b[0;32m--> 668\u001b[0;31m             \u001b[0;32mraise\u001b[0m \u001b[0mImportError\u001b[0m\u001b[0;34m(\u001b[0m\u001b[0;34m\"html5lib not found, please install it\"\u001b[0m\u001b[0;34m)\u001b[0m\u001b[0;34m\u001b[0m\u001b[0m\n\u001b[0m\u001b[1;32m    669\u001b[0m         \u001b[0;32mif\u001b[0m \u001b[0;32mnot\u001b[0m \u001b[0m_HAS_BS4\u001b[0m\u001b[0;34m:\u001b[0m\u001b[0;34m\u001b[0m\u001b[0m\n\u001b[1;32m    670\u001b[0m             raise ImportError(\n",
      "\u001b[0;31mImportError\u001b[0m: html5lib not found, please install it"
     ]
    }
   ],
   "source": [
    "pd.read_html('http://www.x-rates.com/table/?from=INR&amount=1')"
   ]
  },
  {
   "cell_type": "code",
   "execution_count": null,
   "metadata": {
    "collapsed": true
   },
   "outputs": [],
   "source": [
    "tables=pd.read_html('http://www.x-rates.com/table/?from=INR&amount=1')"
   ]
  },
  {
   "cell_type": "code",
   "execution_count": 1,
   "metadata": {
    "collapsed": true
   },
   "outputs": [],
   "source": [
    "import pandas as pd"
   ]
  },
  {
   "cell_type": "code",
   "execution_count": 2,
   "metadata": {
    "collapsed": true
   },
   "outputs": [],
   "source": [
    "tables=pd.read_html('http://www.x-rates.com/table/?from=INR&amount=1')"
   ]
  },
  {
   "cell_type": "code",
   "execution_count": 3,
   "metadata": {
    "collapsed": false
   },
   "outputs": [
    {
     "data": {
      "text/html": [
       "<div>\n",
       "<table border=\"1\" class=\"dataframe\">\n",
       "  <thead>\n",
       "    <tr style=\"text-align: right;\">\n",
       "      <th></th>\n",
       "      <th>Indian Rupee</th>\n",
       "      <th>1.00 INR</th>\n",
       "      <th>inv. 1.00 INR</th>\n",
       "    </tr>\n",
       "  </thead>\n",
       "  <tbody>\n",
       "    <tr>\n",
       "      <th>0</th>\n",
       "      <td>US Dollar</td>\n",
       "      <td>0.015607</td>\n",
       "      <td>64.072516</td>\n",
       "    </tr>\n",
       "    <tr>\n",
       "      <th>1</th>\n",
       "      <td>Euro</td>\n",
       "      <td>0.014047</td>\n",
       "      <td>71.187976</td>\n",
       "    </tr>\n",
       "    <tr>\n",
       "      <th>2</th>\n",
       "      <td>British Pound</td>\n",
       "      <td>0.012081</td>\n",
       "      <td>82.773778</td>\n",
       "    </tr>\n",
       "    <tr>\n",
       "      <th>3</th>\n",
       "      <td>Australian Dollar</td>\n",
       "      <td>0.021047</td>\n",
       "      <td>47.512091</td>\n",
       "    </tr>\n",
       "    <tr>\n",
       "      <th>4</th>\n",
       "      <td>Canadian Dollar</td>\n",
       "      <td>0.021233</td>\n",
       "      <td>47.096089</td>\n",
       "    </tr>\n",
       "    <tr>\n",
       "      <th>5</th>\n",
       "      <td>Singapore Dollar</td>\n",
       "      <td>0.021758</td>\n",
       "      <td>45.959709</td>\n",
       "    </tr>\n",
       "    <tr>\n",
       "      <th>6</th>\n",
       "      <td>Swiss Franc</td>\n",
       "      <td>0.015341</td>\n",
       "      <td>65.183880</td>\n",
       "    </tr>\n",
       "    <tr>\n",
       "      <th>7</th>\n",
       "      <td>Malaysian Ringgit</td>\n",
       "      <td>0.067408</td>\n",
       "      <td>14.834949</td>\n",
       "    </tr>\n",
       "    <tr>\n",
       "      <th>8</th>\n",
       "      <td>Japanese Yen</td>\n",
       "      <td>1.755677</td>\n",
       "      <td>0.569581</td>\n",
       "    </tr>\n",
       "    <tr>\n",
       "      <th>9</th>\n",
       "      <td>Chinese Yuan Renminbi</td>\n",
       "      <td>0.107467</td>\n",
       "      <td>9.305204</td>\n",
       "    </tr>\n",
       "  </tbody>\n",
       "</table>\n",
       "</div>"
      ],
      "text/plain": [
       "            Indian Rupee  1.00 INR  inv. 1.00 INR\n",
       "0              US Dollar  0.015607      64.072516\n",
       "1                   Euro  0.014047      71.187976\n",
       "2          British Pound  0.012081      82.773778\n",
       "3      Australian Dollar  0.021047      47.512091\n",
       "4        Canadian Dollar  0.021233      47.096089\n",
       "5       Singapore Dollar  0.021758      45.959709\n",
       "6            Swiss Franc  0.015341      65.183880\n",
       "7      Malaysian Ringgit  0.067408      14.834949\n",
       "8           Japanese Yen  1.755677       0.569581\n",
       "9  Chinese Yuan Renminbi  0.107467       9.305204"
      ]
     },
     "execution_count": 3,
     "metadata": {},
     "output_type": "execute_result"
    }
   ],
   "source": [
    "tables[0]"
   ]
  },
  {
   "cell_type": "code",
   "execution_count": 4,
   "metadata": {
    "collapsed": false
   },
   "outputs": [
    {
     "data": {
      "text/html": [
       "<div>\n",
       "<table border=\"1\" class=\"dataframe\">\n",
       "  <thead>\n",
       "    <tr style=\"text-align: right;\">\n",
       "      <th></th>\n",
       "      <th>Indian Rupee</th>\n",
       "      <th>1.00 INR</th>\n",
       "      <th>inv. 1.00 INR</th>\n",
       "    </tr>\n",
       "  </thead>\n",
       "  <tbody>\n",
       "    <tr>\n",
       "      <th>0</th>\n",
       "      <td>Argentine Peso</td>\n",
       "      <td>0.243090</td>\n",
       "      <td>4.113704</td>\n",
       "    </tr>\n",
       "    <tr>\n",
       "      <th>1</th>\n",
       "      <td>Australian Dollar</td>\n",
       "      <td>0.021047</td>\n",
       "      <td>47.512091</td>\n",
       "    </tr>\n",
       "    <tr>\n",
       "      <th>2</th>\n",
       "      <td>Bahraini Dinar</td>\n",
       "      <td>0.005881</td>\n",
       "      <td>170.034463</td>\n",
       "    </tr>\n",
       "    <tr>\n",
       "      <th>3</th>\n",
       "      <td>Botswana Pula</td>\n",
       "      <td>0.161293</td>\n",
       "      <td>6.199910</td>\n",
       "    </tr>\n",
       "    <tr>\n",
       "      <th>4</th>\n",
       "      <td>Brazilian Real</td>\n",
       "      <td>0.048338</td>\n",
       "      <td>20.687619</td>\n",
       "    </tr>\n",
       "    <tr>\n",
       "      <th>5</th>\n",
       "      <td>Bruneian Dollar</td>\n",
       "      <td>0.021758</td>\n",
       "      <td>45.959709</td>\n",
       "    </tr>\n",
       "    <tr>\n",
       "      <th>6</th>\n",
       "      <td>Bulgarian Lev</td>\n",
       "      <td>0.027551</td>\n",
       "      <td>36.296003</td>\n",
       "    </tr>\n",
       "    <tr>\n",
       "      <th>7</th>\n",
       "      <td>Canadian Dollar</td>\n",
       "      <td>0.021233</td>\n",
       "      <td>47.096089</td>\n",
       "    </tr>\n",
       "    <tr>\n",
       "      <th>8</th>\n",
       "      <td>Chilean Peso</td>\n",
       "      <td>10.401027</td>\n",
       "      <td>0.096144</td>\n",
       "    </tr>\n",
       "    <tr>\n",
       "      <th>9</th>\n",
       "      <td>Chinese Yuan Renminbi</td>\n",
       "      <td>0.107467</td>\n",
       "      <td>9.305204</td>\n",
       "    </tr>\n",
       "    <tr>\n",
       "      <th>10</th>\n",
       "      <td>Colombian Peso</td>\n",
       "      <td>44.942470</td>\n",
       "      <td>0.022251</td>\n",
       "    </tr>\n",
       "    <tr>\n",
       "      <th>11</th>\n",
       "      <td>Croatian Kuna</td>\n",
       "      <td>0.104471</td>\n",
       "      <td>9.572007</td>\n",
       "    </tr>\n",
       "    <tr>\n",
       "      <th>12</th>\n",
       "      <td>Czech Koruna</td>\n",
       "      <td>0.370845</td>\n",
       "      <td>2.696545</td>\n",
       "    </tr>\n",
       "    <tr>\n",
       "      <th>13</th>\n",
       "      <td>Danish Krone</td>\n",
       "      <td>0.104531</td>\n",
       "      <td>9.566525</td>\n",
       "    </tr>\n",
       "    <tr>\n",
       "      <th>14</th>\n",
       "      <td>Euro</td>\n",
       "      <td>0.014047</td>\n",
       "      <td>71.187976</td>\n",
       "    </tr>\n",
       "    <tr>\n",
       "      <th>15</th>\n",
       "      <td>Hong Kong Dollar</td>\n",
       "      <td>0.121540</td>\n",
       "      <td>8.227714</td>\n",
       "    </tr>\n",
       "    <tr>\n",
       "      <th>16</th>\n",
       "      <td>Hungarian Forint</td>\n",
       "      <td>4.348798</td>\n",
       "      <td>0.229949</td>\n",
       "    </tr>\n",
       "    <tr>\n",
       "      <th>17</th>\n",
       "      <td>Icelandic Krona</td>\n",
       "      <td>1.591446</td>\n",
       "      <td>0.628360</td>\n",
       "    </tr>\n",
       "    <tr>\n",
       "      <th>18</th>\n",
       "      <td>Indonesian Rupiah</td>\n",
       "      <td>207.696938</td>\n",
       "      <td>0.004815</td>\n",
       "    </tr>\n",
       "    <tr>\n",
       "      <th>19</th>\n",
       "      <td>Iranian Rial</td>\n",
       "      <td>506.379077</td>\n",
       "      <td>0.001975</td>\n",
       "    </tr>\n",
       "    <tr>\n",
       "      <th>20</th>\n",
       "      <td>Israeli Shekel</td>\n",
       "      <td>0.056101</td>\n",
       "      <td>17.824882</td>\n",
       "    </tr>\n",
       "    <tr>\n",
       "      <th>21</th>\n",
       "      <td>Japanese Yen</td>\n",
       "      <td>1.755677</td>\n",
       "      <td>0.569581</td>\n",
       "    </tr>\n",
       "    <tr>\n",
       "      <th>22</th>\n",
       "      <td>Kazakhstani Tenge</td>\n",
       "      <td>4.874440</td>\n",
       "      <td>0.205152</td>\n",
       "    </tr>\n",
       "    <tr>\n",
       "      <th>23</th>\n",
       "      <td>South Korean Won</td>\n",
       "      <td>17.452460</td>\n",
       "      <td>0.057299</td>\n",
       "    </tr>\n",
       "    <tr>\n",
       "      <th>24</th>\n",
       "      <td>Kuwaiti Dinar</td>\n",
       "      <td>0.004750</td>\n",
       "      <td>210.521747</td>\n",
       "    </tr>\n",
       "    <tr>\n",
       "      <th>25</th>\n",
       "      <td>Libyan Dinar</td>\n",
       "      <td>0.021631</td>\n",
       "      <td>46.230492</td>\n",
       "    </tr>\n",
       "    <tr>\n",
       "      <th>26</th>\n",
       "      <td>Malaysian Ringgit</td>\n",
       "      <td>0.067408</td>\n",
       "      <td>14.834949</td>\n",
       "    </tr>\n",
       "    <tr>\n",
       "      <th>27</th>\n",
       "      <td>Mauritian Rupee</td>\n",
       "      <td>0.548628</td>\n",
       "      <td>1.822728</td>\n",
       "    </tr>\n",
       "    <tr>\n",
       "      <th>28</th>\n",
       "      <td>Mexican Peso</td>\n",
       "      <td>0.291550</td>\n",
       "      <td>3.429945</td>\n",
       "    </tr>\n",
       "    <tr>\n",
       "      <th>29</th>\n",
       "      <td>Nepalese Rupee</td>\n",
       "      <td>1.599794</td>\n",
       "      <td>0.625080</td>\n",
       "    </tr>\n",
       "    <tr>\n",
       "      <th>30</th>\n",
       "      <td>New Zealand Dollar</td>\n",
       "      <td>0.022658</td>\n",
       "      <td>44.134057</td>\n",
       "    </tr>\n",
       "    <tr>\n",
       "      <th>31</th>\n",
       "      <td>Norwegian Krone</td>\n",
       "      <td>0.132022</td>\n",
       "      <td>7.574513</td>\n",
       "    </tr>\n",
       "    <tr>\n",
       "      <th>32</th>\n",
       "      <td>Omani Rial</td>\n",
       "      <td>0.006009</td>\n",
       "      <td>166.430424</td>\n",
       "    </tr>\n",
       "    <tr>\n",
       "      <th>33</th>\n",
       "      <td>Pakistani Rupee</td>\n",
       "      <td>1.635984</td>\n",
       "      <td>0.611253</td>\n",
       "    </tr>\n",
       "    <tr>\n",
       "      <th>34</th>\n",
       "      <td>Philippine Peso</td>\n",
       "      <td>0.775855</td>\n",
       "      <td>1.288901</td>\n",
       "    </tr>\n",
       "    <tr>\n",
       "      <th>35</th>\n",
       "      <td>Polish Zloty</td>\n",
       "      <td>0.058663</td>\n",
       "      <td>17.046612</td>\n",
       "    </tr>\n",
       "    <tr>\n",
       "      <th>36</th>\n",
       "      <td>Qatari Riyal</td>\n",
       "      <td>0.056840</td>\n",
       "      <td>17.593352</td>\n",
       "    </tr>\n",
       "    <tr>\n",
       "      <th>37</th>\n",
       "      <td>Romanian New Leu</td>\n",
       "      <td>0.063949</td>\n",
       "      <td>15.637424</td>\n",
       "    </tr>\n",
       "    <tr>\n",
       "      <th>38</th>\n",
       "      <td>Russian Ruble</td>\n",
       "      <td>0.882034</td>\n",
       "      <td>1.133744</td>\n",
       "    </tr>\n",
       "    <tr>\n",
       "      <th>39</th>\n",
       "      <td>Saudi Arabian Riyal</td>\n",
       "      <td>0.058535</td>\n",
       "      <td>17.083850</td>\n",
       "    </tr>\n",
       "    <tr>\n",
       "      <th>40</th>\n",
       "      <td>Singapore Dollar</td>\n",
       "      <td>0.021758</td>\n",
       "      <td>45.959709</td>\n",
       "    </tr>\n",
       "    <tr>\n",
       "      <th>41</th>\n",
       "      <td>South African Rand</td>\n",
       "      <td>0.204254</td>\n",
       "      <td>4.895869</td>\n",
       "    </tr>\n",
       "    <tr>\n",
       "      <th>42</th>\n",
       "      <td>Sri Lankan Rupee</td>\n",
       "      <td>2.375129</td>\n",
       "      <td>0.421030</td>\n",
       "    </tr>\n",
       "    <tr>\n",
       "      <th>43</th>\n",
       "      <td>Swedish Krona</td>\n",
       "      <td>0.136865</td>\n",
       "      <td>7.306460</td>\n",
       "    </tr>\n",
       "    <tr>\n",
       "      <th>44</th>\n",
       "      <td>Swiss Franc</td>\n",
       "      <td>0.015341</td>\n",
       "      <td>65.183880</td>\n",
       "    </tr>\n",
       "    <tr>\n",
       "      <th>45</th>\n",
       "      <td>Taiwan New Dollar</td>\n",
       "      <td>0.470306</td>\n",
       "      <td>2.126277</td>\n",
       "    </tr>\n",
       "    <tr>\n",
       "      <th>46</th>\n",
       "      <td>Thai Baht</td>\n",
       "      <td>0.538197</td>\n",
       "      <td>1.858056</td>\n",
       "    </tr>\n",
       "    <tr>\n",
       "      <th>47</th>\n",
       "      <td>Trinidadian Dollar</td>\n",
       "      <td>0.105074</td>\n",
       "      <td>9.517131</td>\n",
       "    </tr>\n",
       "    <tr>\n",
       "      <th>48</th>\n",
       "      <td>Turkish Lira</td>\n",
       "      <td>0.055358</td>\n",
       "      <td>18.064237</td>\n",
       "    </tr>\n",
       "    <tr>\n",
       "      <th>49</th>\n",
       "      <td>Emirati Dirham</td>\n",
       "      <td>0.057322</td>\n",
       "      <td>17.445337</td>\n",
       "    </tr>\n",
       "    <tr>\n",
       "      <th>50</th>\n",
       "      <td>British Pound</td>\n",
       "      <td>0.012081</td>\n",
       "      <td>82.773778</td>\n",
       "    </tr>\n",
       "    <tr>\n",
       "      <th>51</th>\n",
       "      <td>US Dollar</td>\n",
       "      <td>0.015607</td>\n",
       "      <td>64.072516</td>\n",
       "    </tr>\n",
       "    <tr>\n",
       "      <th>52</th>\n",
       "      <td>Venezuelan Bolivar</td>\n",
       "      <td>0.157504</td>\n",
       "      <td>6.349047</td>\n",
       "    </tr>\n",
       "    <tr>\n",
       "      <th>53</th>\n",
       "      <td>Latvian Lat</td>\n",
       "      <td>0.009872</td>\n",
       "      <td>101.291941</td>\n",
       "    </tr>\n",
       "    <tr>\n",
       "      <th>54</th>\n",
       "      <td>Lithuanian Litas</td>\n",
       "      <td>0.048503</td>\n",
       "      <td>20.617463</td>\n",
       "    </tr>\n",
       "  </tbody>\n",
       "</table>\n",
       "</div>"
      ],
      "text/plain": [
       "             Indian Rupee    1.00 INR  inv. 1.00 INR\n",
       "0          Argentine Peso    0.243090       4.113704\n",
       "1       Australian Dollar    0.021047      47.512091\n",
       "2          Bahraini Dinar    0.005881     170.034463\n",
       "3           Botswana Pula    0.161293       6.199910\n",
       "4          Brazilian Real    0.048338      20.687619\n",
       "5         Bruneian Dollar    0.021758      45.959709\n",
       "6           Bulgarian Lev    0.027551      36.296003\n",
       "7         Canadian Dollar    0.021233      47.096089\n",
       "8            Chilean Peso   10.401027       0.096144\n",
       "9   Chinese Yuan Renminbi    0.107467       9.305204\n",
       "10         Colombian Peso   44.942470       0.022251\n",
       "11          Croatian Kuna    0.104471       9.572007\n",
       "12           Czech Koruna    0.370845       2.696545\n",
       "13           Danish Krone    0.104531       9.566525\n",
       "14                   Euro    0.014047      71.187976\n",
       "15       Hong Kong Dollar    0.121540       8.227714\n",
       "16       Hungarian Forint    4.348798       0.229949\n",
       "17        Icelandic Krona    1.591446       0.628360\n",
       "18      Indonesian Rupiah  207.696938       0.004815\n",
       "19           Iranian Rial  506.379077       0.001975\n",
       "20         Israeli Shekel    0.056101      17.824882\n",
       "21           Japanese Yen    1.755677       0.569581\n",
       "22      Kazakhstani Tenge    4.874440       0.205152\n",
       "23       South Korean Won   17.452460       0.057299\n",
       "24          Kuwaiti Dinar    0.004750     210.521747\n",
       "25           Libyan Dinar    0.021631      46.230492\n",
       "26      Malaysian Ringgit    0.067408      14.834949\n",
       "27        Mauritian Rupee    0.548628       1.822728\n",
       "28           Mexican Peso    0.291550       3.429945\n",
       "29         Nepalese Rupee    1.599794       0.625080\n",
       "30     New Zealand Dollar    0.022658      44.134057\n",
       "31        Norwegian Krone    0.132022       7.574513\n",
       "32             Omani Rial    0.006009     166.430424\n",
       "33        Pakistani Rupee    1.635984       0.611253\n",
       "34        Philippine Peso    0.775855       1.288901\n",
       "35           Polish Zloty    0.058663      17.046612\n",
       "36           Qatari Riyal    0.056840      17.593352\n",
       "37       Romanian New Leu    0.063949      15.637424\n",
       "38          Russian Ruble    0.882034       1.133744\n",
       "39    Saudi Arabian Riyal    0.058535      17.083850\n",
       "40       Singapore Dollar    0.021758      45.959709\n",
       "41     South African Rand    0.204254       4.895869\n",
       "42       Sri Lankan Rupee    2.375129       0.421030\n",
       "43          Swedish Krona    0.136865       7.306460\n",
       "44            Swiss Franc    0.015341      65.183880\n",
       "45      Taiwan New Dollar    0.470306       2.126277\n",
       "46              Thai Baht    0.538197       1.858056\n",
       "47     Trinidadian Dollar    0.105074       9.517131\n",
       "48           Turkish Lira    0.055358      18.064237\n",
       "49         Emirati Dirham    0.057322      17.445337\n",
       "50          British Pound    0.012081      82.773778\n",
       "51              US Dollar    0.015607      64.072516\n",
       "52     Venezuelan Bolivar    0.157504       6.349047\n",
       "53            Latvian Lat    0.009872     101.291941\n",
       "54       Lithuanian Litas    0.048503      20.617463"
      ]
     },
     "execution_count": 4,
     "metadata": {},
     "output_type": "execute_result"
    }
   ],
   "source": [
    "tables[1]"
   ]
  },
  {
   "cell_type": "code",
   "execution_count": 5,
   "metadata": {
    "collapsed": false
   },
   "outputs": [
    {
     "ename": "IndexError",
     "evalue": "list index out of range",
     "output_type": "error",
     "traceback": [
      "\u001b[0;31m---------------------------------------------------------------------------\u001b[0m",
      "\u001b[0;31mIndexError\u001b[0m                                Traceback (most recent call last)",
      "\u001b[0;32m<ipython-input-5-102096b82040>\u001b[0m in \u001b[0;36m<module>\u001b[0;34m()\u001b[0m\n\u001b[0;32m----> 1\u001b[0;31m \u001b[0mtables\u001b[0m\u001b[0;34m[\u001b[0m\u001b[0;36m2\u001b[0m\u001b[0;34m]\u001b[0m\u001b[0;34m\u001b[0m\u001b[0m\n\u001b[0m",
      "\u001b[0;31mIndexError\u001b[0m: list index out of range"
     ]
    }
   ],
   "source": [
    "tables[2]"
   ]
  },
  {
   "cell_type": "code",
   "execution_count": null,
   "metadata": {
    "collapsed": true
   },
   "outputs": [],
   "source": []
  }
 ],
 "metadata": {
  "kernelspec": {
   "display_name": "Python 2",
   "language": "python",
   "name": "python2"
  },
  "language_info": {
   "codemirror_mode": {
    "name": "ipython",
    "version": 2
   },
   "file_extension": ".py",
   "mimetype": "text/x-python",
   "name": "python",
   "nbconvert_exporter": "python",
   "pygments_lexer": "ipython2",
   "version": "2.7.13"
  }
 },
 "nbformat": 4,
 "nbformat_minor": 2
}
